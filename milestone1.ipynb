{
 "cells": [
  {
   "cell_type": "markdown",
   "id": "aa769327-3fb6-4470-b0e3-93e01de377e5",
   "metadata": {
    "tags": []
   },
   "source": [
    "# Hadoop Log Data Anomaly Detection"
   ]
  },
  {
   "cell_type": "markdown",
   "id": "401bf46c-4d4f-4624-a16a-c89649b6b4c2",
   "metadata": {},
   "source": [
    "The data we analyze are the logs generated from a Hadoop cluster. We are going to detect the log types by modelling. "
   ]
  },
  {
   "cell_type": "markdown",
   "id": "d2797063-8eaa-4662-b61f-6934b865d02a",
   "metadata": {},
   "source": [
    "## Data Pre-processing"
   ]
  },
  {
   "cell_type": "markdown",
   "id": "1592714d-1ce6-4806-9c71-09acd5e06308",
   "metadata": {},
   "source": [
    "First, we process the data from the log file. We create a dataframe based on the log info. We extract the date, hour, log type, information in the bracket, and the function(which is after the .hadoop) of the log. In addition, we determine if the log contains the key word \"Error\" or \"Exception\" and store the result in two columns.  "
   ]
  },
  {
   "cell_type": "code",
   "execution_count": 95,
   "id": "bd7687f6-4cf3-4f60-b99c-ffa5104a3676",
   "metadata": {},
   "outputs": [],
   "source": [
    "import pandas as pd\n",
    "import altair as alt\n",
    "import re\n",
    "path = \"combined.log\"\n",
    "data = []\n",
    "with open(path) as f:\n",
    "    f = f.readlines()\n",
    "    for line in f:\n",
    "       new_line = line.split()\n",
    "       if len(new_line)>3:\n",
    "         if new_line[2]==\"INFO\" or new_line[2]==\"WARN\" or new_line[2]==\"ERROR\":\n",
    "            date = new_line[0]\n",
    "            hour = new_line[1]\n",
    "            label = new_line[2]\n",
    "            bracketsInfo= line[line.find('[')+len('['):line.find(']')]\n",
    "            func = \"\"\n",
    "            m = line.split(\".hadoop.\",1)\n",
    "            if len(m)>1:\n",
    "              func = m[1].split(\".\",1)[0]\n",
    "            \n",
    "            hasError = False\n",
    "            hasException =False\n",
    "            message = []\n",
    "            for i in range(3,len(new_line)):\n",
    "              if \"Error\" in new_line[i]:\n",
    "                hasError = True\n",
    "              if \"Exception\" in new_line[i]:\n",
    "                hasException = True\n",
    "              message.append(new_line[i])\n",
    "            data.append([date,hour,label,bracketsInfo,hasError,hasException,func,message])\n",
    "\n",
    "\n",
    "df = pd.DataFrame(data, columns=['date', 'hour', 'label','bracketsInfo','hasError','hasException','func','message'])\n"
   ]
  },
  {
   "cell_type": "code",
   "execution_count": 96,
   "id": "1a1c3c06-1721-496d-8142-f0566d819b55",
   "metadata": {},
   "outputs": [
    {
     "data": {
      "text/html": [
       "<div>\n",
       "<style scoped>\n",
       "    .dataframe tbody tr th:only-of-type {\n",
       "        vertical-align: middle;\n",
       "    }\n",
       "\n",
       "    .dataframe tbody tr th {\n",
       "        vertical-align: top;\n",
       "    }\n",
       "\n",
       "    .dataframe thead th {\n",
       "        text-align: right;\n",
       "    }\n",
       "</style>\n",
       "<table border=\"1\" class=\"dataframe\">\n",
       "  <thead>\n",
       "    <tr style=\"text-align: right;\">\n",
       "      <th></th>\n",
       "      <th>date</th>\n",
       "      <th>hour</th>\n",
       "      <th>label</th>\n",
       "      <th>bracketsInfo</th>\n",
       "      <th>hasError</th>\n",
       "      <th>hasException</th>\n",
       "      <th>func</th>\n",
       "      <th>message</th>\n",
       "    </tr>\n",
       "  </thead>\n",
       "  <tbody>\n",
       "    <tr>\n",
       "      <th>0</th>\n",
       "      <td>2015-10-17</td>\n",
       "      <td>15:37:56,547</td>\n",
       "      <td>INFO</td>\n",
       "      <td>main</td>\n",
       "      <td>False</td>\n",
       "      <td>False</td>\n",
       "      <td>mapreduce</td>\n",
       "      <td>[[main], org.apache.hadoop.mapreduce.v2.app.MR...</td>\n",
       "    </tr>\n",
       "    <tr>\n",
       "      <th>1</th>\n",
       "      <td>2015-10-17</td>\n",
       "      <td>15:37:56,899</td>\n",
       "      <td>INFO</td>\n",
       "      <td>main</td>\n",
       "      <td>False</td>\n",
       "      <td>False</td>\n",
       "      <td>mapreduce</td>\n",
       "      <td>[[main], org.apache.hadoop.mapreduce.v2.app.MR...</td>\n",
       "    </tr>\n",
       "    <tr>\n",
       "      <th>2</th>\n",
       "      <td>2015-10-17</td>\n",
       "      <td>15:37:56,900</td>\n",
       "      <td>INFO</td>\n",
       "      <td>main</td>\n",
       "      <td>False</td>\n",
       "      <td>False</td>\n",
       "      <td>mapreduce</td>\n",
       "      <td>[[main], org.apache.hadoop.mapreduce.v2.app.MR...</td>\n",
       "    </tr>\n",
       "    <tr>\n",
       "      <th>3</th>\n",
       "      <td>2015-10-17</td>\n",
       "      <td>15:37:57,036</td>\n",
       "      <td>INFO</td>\n",
       "      <td>main</td>\n",
       "      <td>False</td>\n",
       "      <td>False</td>\n",
       "      <td>mapreduce</td>\n",
       "      <td>[[main], org.apache.hadoop.mapreduce.v2.app.MR...</td>\n",
       "    </tr>\n",
       "    <tr>\n",
       "      <th>4</th>\n",
       "      <td>2015-10-17</td>\n",
       "      <td>15:37:57,634</td>\n",
       "      <td>INFO</td>\n",
       "      <td>main</td>\n",
       "      <td>False</td>\n",
       "      <td>False</td>\n",
       "      <td>mapreduce</td>\n",
       "      <td>[[main], org.apache.hadoop.mapreduce.v2.app.MR...</td>\n",
       "    </tr>\n",
       "  </tbody>\n",
       "</table>\n",
       "</div>"
      ],
      "text/plain": [
       "         date          hour label bracketsInfo  hasError  hasException  \\\n",
       "0  2015-10-17  15:37:56,547  INFO         main     False         False   \n",
       "1  2015-10-17  15:37:56,899  INFO         main     False         False   \n",
       "2  2015-10-17  15:37:56,900  INFO         main     False         False   \n",
       "3  2015-10-17  15:37:57,036  INFO         main     False         False   \n",
       "4  2015-10-17  15:37:57,634  INFO         main     False         False   \n",
       "\n",
       "        func                                            message  \n",
       "0  mapreduce  [[main], org.apache.hadoop.mapreduce.v2.app.MR...  \n",
       "1  mapreduce  [[main], org.apache.hadoop.mapreduce.v2.app.MR...  \n",
       "2  mapreduce  [[main], org.apache.hadoop.mapreduce.v2.app.MR...  \n",
       "3  mapreduce  [[main], org.apache.hadoop.mapreduce.v2.app.MR...  \n",
       "4  mapreduce  [[main], org.apache.hadoop.mapreduce.v2.app.MR...  "
      ]
     },
     "execution_count": 96,
     "metadata": {},
     "output_type": "execute_result"
    }
   ],
   "source": [
    "df.head(5)"
   ]
  },
  {
   "cell_type": "code",
   "execution_count": 97,
   "id": "54e3811a-0493-49f6-8e2d-46125aba1ee7",
   "metadata": {},
   "outputs": [],
   "source": [
    "df = df.drop(index=114484) # drop miss messagge"
   ]
  },
  {
   "cell_type": "code",
   "execution_count": 98,
   "id": "45a20d24-1bf6-4f9c-b80f-4d2d148caac6",
   "metadata": {},
   "outputs": [
    {
     "data": {
      "text/plain": [
       "127018"
      ]
     },
     "execution_count": 98,
     "metadata": {},
     "output_type": "execute_result"
    }
   ],
   "source": [
    "len(df)"
   ]
  },
  {
   "cell_type": "markdown",
   "id": "b8bf8fd0-b155-43a6-b488-c59116d23e30",
   "metadata": {},
   "source": [
    "## Exploratory Data Analysis"
   ]
  },
  {
   "cell_type": "code",
   "execution_count": 99,
   "id": "9cf16846-e9c8-41f6-8434-f83ae4eb9db7",
   "metadata": {},
   "outputs": [
    {
     "data": {
      "text/plain": [
       "date            49\n",
       "hour            49\n",
       "label           49\n",
       "bracketsInfo    49\n",
       "hasError        49\n",
       "hasException    49\n",
       "func            49\n",
       "message         49\n",
       "dtype: int64"
      ]
     },
     "execution_count": 99,
     "metadata": {},
     "output_type": "execute_result"
    }
   ],
   "source": [
    "df[df['hasError']==True].count()"
   ]
  },
  {
   "cell_type": "code",
   "execution_count": 100,
   "id": "99790ff9-56db-4c59-b82c-f272733ff214",
   "metadata": {},
   "outputs": [
    {
     "data": {
      "text/plain": [
       "date            303\n",
       "hour            303\n",
       "label           303\n",
       "bracketsInfo    303\n",
       "hasError        303\n",
       "hasException    303\n",
       "func            303\n",
       "message         303\n",
       "dtype: int64"
      ]
     },
     "execution_count": 100,
     "metadata": {},
     "output_type": "execute_result"
    }
   ],
   "source": [
    "df[df['hasException']==True].count()"
   ]
  },
  {
   "cell_type": "code",
   "execution_count": 101,
   "id": "f55b3ef5-c136-4270-8e16-d0a6b944efad",
   "metadata": {},
   "outputs": [
    {
     "data": {
      "text/plain": [
       "array(['mapreduce', 'yarn', 'metrics2', 'ipc', '', 'http', 'mapred',\n",
       "       'hdfs', 'conf', 'service'], dtype=object)"
      ]
     },
     "execution_count": 101,
     "metadata": {},
     "output_type": "execute_result"
    }
   ],
   "source": [
    "df['func'].unique()"
   ]
  },
  {
   "cell_type": "code",
   "execution_count": 102,
   "id": "77d42247-bffd-43e8-8903-7f778d1969eb",
   "metadata": {},
   "outputs": [
    {
     "data": {
      "text/plain": [
       "array(['main', 'Socket Reader #1 for port 47455', 'IPC Server Responder',\n",
       "       ..., 'IPC Server handler 11 on 52529',\n",
       "       'IPC Server handler 25 on 52529', 'Thread-114'], dtype=object)"
      ]
     },
     "execution_count": 102,
     "metadata": {},
     "output_type": "execute_result"
    }
   ],
   "source": [
    "df['bracketsInfo'].unique()"
   ]
  },
  {
   "cell_type": "code",
   "execution_count": 103,
   "id": "1d232a70-5d46-4879-a716-c7fdfaf1f576",
   "metadata": {},
   "outputs": [
    {
     "data": {
      "text/plain": [
       "1809"
      ]
     },
     "execution_count": 103,
     "metadata": {},
     "output_type": "execute_result"
    }
   ],
   "source": [
    "len(df['bracketsInfo'].unique())"
   ]
  },
  {
   "cell_type": "code",
   "execution_count": 104,
   "id": "6c340427-20d2-479a-afdb-45a2a809bccb",
   "metadata": {},
   "outputs": [
    {
     "data": {
      "text/html": [
       "<div>\n",
       "<style scoped>\n",
       "    .dataframe tbody tr th:only-of-type {\n",
       "        vertical-align: middle;\n",
       "    }\n",
       "\n",
       "    .dataframe tbody tr th {\n",
       "        vertical-align: top;\n",
       "    }\n",
       "\n",
       "    .dataframe thead th {\n",
       "        text-align: right;\n",
       "    }\n",
       "</style>\n",
       "<table border=\"1\" class=\"dataframe\">\n",
       "  <thead>\n",
       "    <tr style=\"text-align: right;\">\n",
       "      <th></th>\n",
       "      <th>0</th>\n",
       "    </tr>\n",
       "  </thead>\n",
       "  <tbody>\n",
       "    <tr>\n",
       "      <th>0</th>\n",
       "      <td>main</td>\n",
       "    </tr>\n",
       "    <tr>\n",
       "      <th>1</th>\n",
       "      <td>Socket Reader #1 for port 47455</td>\n",
       "    </tr>\n",
       "    <tr>\n",
       "      <th>2</th>\n",
       "      <td>IPC Server Responder</td>\n",
       "    </tr>\n",
       "    <tr>\n",
       "      <th>3</th>\n",
       "      <td>IPC Server listener on 47455</td>\n",
       "    </tr>\n",
       "    <tr>\n",
       "      <th>4</th>\n",
       "      <td>AsyncDispatcher event handler</td>\n",
       "    </tr>\n",
       "    <tr>\n",
       "      <th>...</th>\n",
       "      <td>...</td>\n",
       "    </tr>\n",
       "    <tr>\n",
       "      <th>1804</th>\n",
       "      <td>IPC Server handler 7 on 52529</td>\n",
       "    </tr>\n",
       "    <tr>\n",
       "      <th>1805</th>\n",
       "      <td>IPC Server handler 24 on 52529</td>\n",
       "    </tr>\n",
       "    <tr>\n",
       "      <th>1806</th>\n",
       "      <td>IPC Server handler 11 on 52529</td>\n",
       "    </tr>\n",
       "    <tr>\n",
       "      <th>1807</th>\n",
       "      <td>IPC Server handler 25 on 52529</td>\n",
       "    </tr>\n",
       "    <tr>\n",
       "      <th>1808</th>\n",
       "      <td>Thread-114</td>\n",
       "    </tr>\n",
       "  </tbody>\n",
       "</table>\n",
       "<p>1809 rows × 1 columns</p>\n",
       "</div>"
      ],
      "text/plain": [
       "                                    0\n",
       "0                                main\n",
       "1     Socket Reader #1 for port 47455\n",
       "2                IPC Server Responder\n",
       "3        IPC Server listener on 47455\n",
       "4       AsyncDispatcher event handler\n",
       "...                               ...\n",
       "1804    IPC Server handler 7 on 52529\n",
       "1805   IPC Server handler 24 on 52529\n",
       "1806   IPC Server handler 11 on 52529\n",
       "1807   IPC Server handler 25 on 52529\n",
       "1808                       Thread-114\n",
       "\n",
       "[1809 rows x 1 columns]"
      ]
     },
     "execution_count": 104,
     "metadata": {},
     "output_type": "execute_result"
    }
   ],
   "source": [
    "pd.DataFrame(df['bracketsInfo'].unique())"
   ]
  },
  {
   "cell_type": "markdown",
   "id": "8e1cb826-66d2-4f70-8005-2c7e952a8791",
   "metadata": {
    "tags": []
   },
   "source": [
    "1. count error and exception of func"
   ]
  },
  {
   "cell_type": "code",
   "execution_count": 105,
   "id": "5c55deb0-89dc-44cc-ba64-3d51ed1f971f",
   "metadata": {},
   "outputs": [
    {
     "data": {
      "text/plain": [
       "DataTransformerRegistry.enable('data_server')"
      ]
     },
     "execution_count": 105,
     "metadata": {},
     "output_type": "execute_result"
    }
   ],
   "source": [
    "# Save a vega-lite spec and a PNG blob for each plot in the notebook\n",
    "alt.renderers.enable('mimetype')\n",
    "# Handle large data sets without embedding them in the notebook \n",
    "alt.data_transformers.enable('data_server')"
   ]
  },
  {
   "cell_type": "code",
   "execution_count": 106,
   "id": "9a3f579c-a6be-4a88-aa37-5abb83d0f4dc",
   "metadata": {},
   "outputs": [],
   "source": [
    "\n",
    "df_exp = df.explode('func').explode('hasException')\n",
    "df_err = df.explode('func').explode('hasError')"
   ]
  },
  {
   "cell_type": "code",
   "execution_count": 107,
   "id": "158aa857-9cc8-414a-aa60-9a6c3012080d",
   "metadata": {},
   "outputs": [
    {
     "data": {
      "application/vnd.vegalite.v4+json": {
       "$schema": "https://vega.github.io/schema/vega-lite/v4.8.1.json",
       "config": {
        "view": {
         "continuousHeight": 300,
         "continuousWidth": 400
        }
       },
       "data": {
        "url": "http://localhost:15109/dc2b60a91e68e7ed79dd98842ba460d3.json"
       },
       "facet": {
        "row": {
         "field": "func",
         "type": "nominal"
        }
       },
       "spec": {
        "encoding": {
         "color": {
          "field": "hasException",
          "type": "nominal"
         },
         "x": {
          "aggregate": "count",
          "type": "quantitative"
         },
         "y": {
          "field": "hasException",
          "type": "nominal"
         }
        },
        "mark": "bar"
       }
      },
      "image/png": "[encoded data removed]",
      "text/plain": [
       "<VegaLite 4 object>\n",
       "\n",
       "If you see this message, it means the renderer has not been properly enabled\n",
       "for the frontend that you are using. For more information, see\n",
       "https://altair-viz.github.io/user_guide/troubleshooting.html\n"
      ]
     },
     "execution_count": 107,
     "metadata": {},
     "output_type": "execute_result"
    }
   ],
   "source": [
    "alt.Chart(df_exp).mark_bar().encode(\n",
    "    x='count()',\n",
    "y='hasException',\n",
    "    color='hasException'\n",
    ").facet(\n",
    "    row='func'\n",
    ")"
   ]
  },
  {
   "cell_type": "code",
   "execution_count": 108,
   "id": "762ba4dc-ec6d-4c6d-b004-e1a84a033f22",
   "metadata": {},
   "outputs": [
    {
     "data": {
      "application/vnd.vegalite.v4+json": {
       "$schema": "https://vega.github.io/schema/vega-lite/v4.8.1.json",
       "config": {
        "view": {
         "continuousHeight": 300,
         "continuousWidth": 400
        }
       },
       "data": {
        "url": "http://localhost:15109/dc2b60a91e68e7ed79dd98842ba460d3.json"
       },
       "facet": {
        "row": {
         "field": "func",
         "type": "nominal"
        }
       },
       "spec": {
        "encoding": {
         "color": {
          "field": "hasError",
          "type": "nominal"
         },
         "x": {
          "aggregate": "count",
          "type": "quantitative"
         },
         "y": {
          "field": "hasError",
          "type": "nominal"
         }
        },
        "mark": "bar"
       }
      },
      "image/png": "[encoded data removed]",
      "text/plain": [
       "<VegaLite 4 object>\n",
       "\n",
       "If you see this message, it means the renderer has not been properly enabled\n",
       "for the frontend that you are using. For more information, see\n",
       "https://altair-viz.github.io/user_guide/troubleshooting.html\n"
      ]
     },
     "execution_count": 108,
     "metadata": {},
     "output_type": "execute_result"
    }
   ],
   "source": [
    "alt.Chart(df_err).mark_bar().encode(\n",
    "    x='count()',\n",
    "y='hasError',\n",
    "    color='hasError'\n",
    ").facet(\n",
    "    row='func'\n",
    ")"
   ]
  },
  {
   "cell_type": "markdown",
   "id": "ad3fa245-0545-450c-a5f0-e3c0912179ec",
   "metadata": {},
   "source": [
    "2. label distribution"
   ]
  },
  {
   "cell_type": "code",
   "execution_count": 109,
   "id": "bc18a963-ec37-4baa-8f10-3d62b15fcf1a",
   "metadata": {},
   "outputs": [
    {
     "data": {
      "application/vnd.vegalite.v4+json": {
       "$schema": "https://vega.github.io/schema/vega-lite/v4.8.1.json",
       "config": {
        "view": {
         "continuousHeight": 300,
         "continuousWidth": 400
        }
       },
       "data": {
        "url": "http://localhost:15109/dc2b60a91e68e7ed79dd98842ba460d3.json"
       },
       "encoding": {
        "color": {
         "field": "label",
         "type": "nominal"
        },
        "x": {
         "aggregate": "count",
         "type": "quantitative"
        },
        "y": {
         "field": "label",
         "type": "nominal"
        }
       },
       "mark": "bar"
      },
      "image/png": "[encoded data removed]",
      "text/plain": [
       "<VegaLite 4 object>\n",
       "\n",
       "If you see this message, it means the renderer has not been properly enabled\n",
       "for the frontend that you are using. For more information, see\n",
       "https://altair-viz.github.io/user_guide/troubleshooting.html\n"
      ]
     },
     "execution_count": 109,
     "metadata": {},
     "output_type": "execute_result"
    }
   ],
   "source": [
    "alt.Chart(df).mark_bar().encode(\n",
    "    x='count()',\n",
    "y='label',\n",
    "    color='label'\n",
    ")"
   ]
  },
  {
   "cell_type": "code",
   "execution_count": null,
   "id": "947667cf-8ea7-4352-9010-001160f26dd9",
   "metadata": {},
   "outputs": [],
   "source": []
  },
  {
   "cell_type": "markdown",
   "id": "bf86bed2-9caf-4675-ad77-85f48679acb9",
   "metadata": {},
   "source": [
    "3. error/warning label date distribuiton"
   ]
  },
  {
   "cell_type": "code",
   "execution_count": 110,
   "id": "c92af36e-34b2-4a97-b6a2-7225b21d1bcb",
   "metadata": {},
   "outputs": [
    {
     "data": {
      "application/vnd.vegalite.v4+json": {
       "$schema": "https://vega.github.io/schema/vega-lite/v4.8.1.json",
       "config": {
        "view": {
         "continuousHeight": 300,
         "continuousWidth": 400
        }
       },
       "data": {
        "url": "http://localhost:15109/dc2b60a91e68e7ed79dd98842ba460d3.json"
       },
       "encoding": {
        "color": {
         "field": "bracketsInfo",
         "type": "nominal"
        },
        "x": {
         "field": "date",
         "type": "nominal"
        },
        "y": {
         "aggregate": "count",
         "type": "quantitative"
        }
       },
       "mark": "bar"
      },
      "image/png": "[encoded data removed]",
      "text/plain": [
       "<VegaLite 4 object>\n",
       "\n",
       "If you see this message, it means the renderer has not been properly enabled\n",
       "for the frontend that you are using. For more information, see\n",
       "https://altair-viz.github.io/user_guide/troubleshooting.html\n"
      ]
     },
     "execution_count": 110,
     "metadata": {},
     "output_type": "execute_result"
    }
   ],
   "source": [
    "alt.Chart(df).mark_bar().encode(\n",
    "    x='date',\n",
    "y='count()',\n",
    "    color='bracketsInfo'\n",
    ")"
   ]
  },
  {
   "cell_type": "code",
   "execution_count": null,
   "id": "c446f365-0c74-4f01-8975-f2d0687b0884",
   "metadata": {},
   "outputs": [],
   "source": []
  },
  {
   "cell_type": "markdown",
   "id": "3fb7bb78-b4cb-4e5f-aaed-a40eda061ea3",
   "metadata": {
    "tags": []
   },
   "source": [
    "## Tentative Model Choices for Anomaly Detection"
   ]
  },
  {
   "cell_type": "markdown",
   "id": "4f97fb8c-cd9f-423f-8de7-c7f81ac005dc",
   "metadata": {},
   "source": [
    "The log data we analyze has a label identify the data into three groups---'INFO', 'WARN' AND 'ERROR'. We separate the the data into two parts---training set and test set. Our aim is to create a model to separate the log message into the three categories. We intend to use Logistic regression, Random Forest Classifier, Bagging, Ada-boosting and Perceptron to model the training set, and then use the test set to evaluate the accuracy of the models."
   ]
  },
  {
   "cell_type": "code",
   "execution_count": 111,
   "id": "7a32d32b-3d48-4321-a5d9-84f3798614bb",
   "metadata": {},
   "outputs": [],
   "source": [
    "dict_mode = {'INFO':1,'WARN':2,'ERROR':3}\n",
    "df=df.replace({\"label\": dict_mode})\n",
    "df.label = df.label.astype('category')\n",
    "df.bracketsInfo = df.bracketsInfo.astype('category')\n",
    "df.func = df.func.astype('category')\n",
    "df.hasError = df.hasError.astype('boolean')\n",
    "df.hasException = df.hasException.astype('boolean')\n",
    "df=df.drop(columns=['message','date','hour'])"
   ]
  },
  {
   "cell_type": "code",
   "execution_count": 112,
   "id": "38455384-f967-4f6c-bbad-333190521713",
   "metadata": {},
   "outputs": [],
   "source": [
    "feature_df = pd.get_dummies(df,prefix=['bracketsInfo','func','hasError','hasException'],columns=['bracketsInfo','func','hasError','hasException'])"
   ]
  },
  {
   "cell_type": "markdown",
   "id": "6e49f437-1485-4de1-987e-e478f865718b",
   "metadata": {},
   "source": [
    "### Logistic Regression"
   ]
  },
  {
   "cell_type": "code",
   "execution_count": 113,
   "id": "521dc6be-99c6-470e-a485-aa2abedc907d",
   "metadata": {},
   "outputs": [],
   "source": [
    "from sklearn.model_selection import train_test_split\n",
    "labeld = feature_df['label']\n",
    "featured = feature_df.loc[:, feature_df.columns != 'label']\n",
    "x_train, x_test, y_train, y_test = train_test_split(featured,labeld,test_size=0.2)\n"
   ]
  },
  {
   "cell_type": "code",
   "execution_count": 114,
   "id": "83680fb4-ff8e-4243-bc75-bcedf99d3a17",
   "metadata": {},
   "outputs": [
    {
     "name": "stderr",
     "output_type": "stream",
     "text": [
      "/Users/alicesong/opt/miniconda3/lib/python3.9/site-packages/sklearn/linear_model/_logistic.py:814: ConvergenceWarning: lbfgs failed to converge (status=1):\n",
      "STOP: TOTAL NO. of ITERATIONS REACHED LIMIT.\n",
      "\n",
      "Increase the number of iterations (max_iter) or scale the data as shown in:\n",
      "    https://scikit-learn.org/stable/modules/preprocessing.html\n",
      "Please also refer to the documentation for alternative solver options:\n",
      "    https://scikit-learn.org/stable/modules/linear_model.html#logistic-regression\n",
      "  n_iter_i = _check_optimize_result(\n"
     ]
    },
    {
     "name": "stdout",
     "output_type": "stream",
     "text": [
      "mse of logistic regression is:  0.014131632813730121\n"
     ]
    }
   ],
   "source": [
    "from sklearn.linear_model import LogisticRegression\n",
    "from sklearn.metrics import mean_squared_error, confusion_matrix,plot_confusion_matrix\n",
    "\n",
    "clf = LogisticRegression(max_iter=10)\n",
    "clf.fit(x_train, y_train)\n",
    "\n",
    "y_pred = clf.predict(x_test)\n",
    "mse_test = mean_squared_error(y_test, y_pred)\n",
    "print(\"mse of logistic regression is: \", mse_test)"
   ]
  },
  {
   "cell_type": "code",
   "execution_count": 115,
   "id": "d2422d60-02e9-498d-8d11-ec333bea12c0",
   "metadata": {},
   "outputs": [
    {
     "name": "stdout",
     "output_type": "stream",
     "text": [
      "accuracy score is:  0.9933081404503228\n"
     ]
    }
   ],
   "source": [
    "from sklearn.metrics import accuracy_score\n",
    "acc_test = accuracy_score(y_test, y_pred)\n",
    "print(\"accuracy score is: \", acc_test)"
   ]
  },
  {
   "cell_type": "code",
   "execution_count": 116,
   "id": "c91ed204-f953-413b-b4cd-3aec98883587",
   "metadata": {},
   "outputs": [
    {
     "data": {
      "text/html": [
       "<div>\n",
       "<style scoped>\n",
       "    .dataframe tbody tr th:only-of-type {\n",
       "        vertical-align: middle;\n",
       "    }\n",
       "\n",
       "    .dataframe tbody tr th {\n",
       "        vertical-align: top;\n",
       "    }\n",
       "\n",
       "    .dataframe thead th {\n",
       "        text-align: right;\n",
       "    }\n",
       "</style>\n",
       "<table border=\"1\" class=\"dataframe\">\n",
       "  <thead>\n",
       "    <tr style=\"text-align: right;\">\n",
       "      <th></th>\n",
       "      <th>bracketsInfo_AsyncDispatcher event handler</th>\n",
       "      <th>bracketsInfo_CommitterEvent Processor #0</th>\n",
       "      <th>bracketsInfo_CommitterEvent Processor #1</th>\n",
       "      <th>bracketsInfo_CommitterEvent Processor #2</th>\n",
       "      <th>bracketsInfo_CommitterEvent Processor #3</th>\n",
       "      <th>bracketsInfo_CommitterEvent Processor #4</th>\n",
       "      <th>bracketsInfo_ContainerLauncher #0</th>\n",
       "      <th>bracketsInfo_ContainerLauncher #1</th>\n",
       "      <th>bracketsInfo_ContainerLauncher #2</th>\n",
       "      <th>bracketsInfo_ContainerLauncher #3</th>\n",
       "      <th>...</th>\n",
       "      <th>func_ipc</th>\n",
       "      <th>func_mapred</th>\n",
       "      <th>func_mapreduce</th>\n",
       "      <th>func_metrics2</th>\n",
       "      <th>func_service</th>\n",
       "      <th>func_yarn</th>\n",
       "      <th>hasError_False</th>\n",
       "      <th>hasError_True</th>\n",
       "      <th>hasException_False</th>\n",
       "      <th>hasException_True</th>\n",
       "    </tr>\n",
       "  </thead>\n",
       "  <tbody>\n",
       "    <tr>\n",
       "      <th>INFO</th>\n",
       "      <td>0.853855</td>\n",
       "      <td>-0.140254</td>\n",
       "      <td>-0.484832</td>\n",
       "      <td>-0.314788</td>\n",
       "      <td>-0.270970</td>\n",
       "      <td>-0.112451</td>\n",
       "      <td>0.230371</td>\n",
       "      <td>0.243168</td>\n",
       "      <td>0.230745</td>\n",
       "      <td>0.087792</td>\n",
       "      <td>...</td>\n",
       "      <td>-0.744618</td>\n",
       "      <td>2.356346</td>\n",
       "      <td>0.342093</td>\n",
       "      <td>0.227170</td>\n",
       "      <td>-0.008651</td>\n",
       "      <td>0.537993</td>\n",
       "      <td>1.407915</td>\n",
       "      <td>-0.111437</td>\n",
       "      <td>1.164313</td>\n",
       "      <td>0.132164</td>\n",
       "    </tr>\n",
       "    <tr>\n",
       "      <th>WARN</th>\n",
       "      <td>-0.551491</td>\n",
       "      <td>0.144147</td>\n",
       "      <td>0.490042</td>\n",
       "      <td>0.318449</td>\n",
       "      <td>0.274053</td>\n",
       "      <td>0.113911</td>\n",
       "      <td>-0.199594</td>\n",
       "      <td>-0.212313</td>\n",
       "      <td>-0.200479</td>\n",
       "      <td>-0.068590</td>\n",
       "      <td>...</td>\n",
       "      <td>1.229937</td>\n",
       "      <td>-1.428408</td>\n",
       "      <td>-1.098012</td>\n",
       "      <td>-0.168298</td>\n",
       "      <td>0.009384</td>\n",
       "      <td>-0.420294</td>\n",
       "      <td>-0.367686</td>\n",
       "      <td>0.069437</td>\n",
       "      <td>-0.194372</td>\n",
       "      <td>-0.103877</td>\n",
       "    </tr>\n",
       "    <tr>\n",
       "      <th>ERROR</th>\n",
       "      <td>-0.302364</td>\n",
       "      <td>-0.003894</td>\n",
       "      <td>-0.005210</td>\n",
       "      <td>-0.003661</td>\n",
       "      <td>-0.003083</td>\n",
       "      <td>-0.001461</td>\n",
       "      <td>-0.030777</td>\n",
       "      <td>-0.030855</td>\n",
       "      <td>-0.030266</td>\n",
       "      <td>-0.019202</td>\n",
       "      <td>...</td>\n",
       "      <td>-0.485319</td>\n",
       "      <td>-0.927938</td>\n",
       "      <td>0.755919</td>\n",
       "      <td>-0.058873</td>\n",
       "      <td>-0.000734</td>\n",
       "      <td>-0.117698</td>\n",
       "      <td>-1.040228</td>\n",
       "      <td>0.042000</td>\n",
       "      <td>-0.969941</td>\n",
       "      <td>-0.028287</td>\n",
       "    </tr>\n",
       "  </tbody>\n",
       "</table>\n",
       "<p>3 rows × 1823 columns</p>\n",
       "</div>"
      ],
      "text/plain": [
       "       bracketsInfo_AsyncDispatcher event handler  \\\n",
       "INFO                                     0.853855   \n",
       "WARN                                    -0.551491   \n",
       "ERROR                                   -0.302364   \n",
       "\n",
       "       bracketsInfo_CommitterEvent Processor #0  \\\n",
       "INFO                                  -0.140254   \n",
       "WARN                                   0.144147   \n",
       "ERROR                                 -0.003894   \n",
       "\n",
       "       bracketsInfo_CommitterEvent Processor #1  \\\n",
       "INFO                                  -0.484832   \n",
       "WARN                                   0.490042   \n",
       "ERROR                                 -0.005210   \n",
       "\n",
       "       bracketsInfo_CommitterEvent Processor #2  \\\n",
       "INFO                                  -0.314788   \n",
       "WARN                                   0.318449   \n",
       "ERROR                                 -0.003661   \n",
       "\n",
       "       bracketsInfo_CommitterEvent Processor #3  \\\n",
       "INFO                                  -0.270970   \n",
       "WARN                                   0.274053   \n",
       "ERROR                                 -0.003083   \n",
       "\n",
       "       bracketsInfo_CommitterEvent Processor #4  \\\n",
       "INFO                                  -0.112451   \n",
       "WARN                                   0.113911   \n",
       "ERROR                                 -0.001461   \n",
       "\n",
       "       bracketsInfo_ContainerLauncher #0  bracketsInfo_ContainerLauncher #1  \\\n",
       "INFO                            0.230371                           0.243168   \n",
       "WARN                           -0.199594                          -0.212313   \n",
       "ERROR                          -0.030777                          -0.030855   \n",
       "\n",
       "       bracketsInfo_ContainerLauncher #2  bracketsInfo_ContainerLauncher #3  \\\n",
       "INFO                            0.230745                           0.087792   \n",
       "WARN                           -0.200479                          -0.068590   \n",
       "ERROR                          -0.030266                          -0.019202   \n",
       "\n",
       "       ...  func_ipc  func_mapred  func_mapreduce  func_metrics2  \\\n",
       "INFO   ... -0.744618     2.356346        0.342093       0.227170   \n",
       "WARN   ...  1.229937    -1.428408       -1.098012      -0.168298   \n",
       "ERROR  ... -0.485319    -0.927938        0.755919      -0.058873   \n",
       "\n",
       "       func_service  func_yarn  hasError_False  hasError_True  \\\n",
       "INFO      -0.008651   0.537993        1.407915      -0.111437   \n",
       "WARN       0.009384  -0.420294       -0.367686       0.069437   \n",
       "ERROR     -0.000734  -0.117698       -1.040228       0.042000   \n",
       "\n",
       "       hasException_False  hasException_True  \n",
       "INFO             1.164313           0.132164  \n",
       "WARN            -0.194372          -0.103877  \n",
       "ERROR           -0.969941          -0.028287  \n",
       "\n",
       "[3 rows x 1823 columns]"
      ]
     },
     "execution_count": 116,
     "metadata": {},
     "output_type": "execute_result"
    }
   ],
   "source": [
    "coef_df = pd.DataFrame(clf.coef_,columns=x_train.columns,\n",
    "                       index=['INFO','WARN','ERROR'])\n",
    "coef_df"
   ]
  },
  {
   "cell_type": "markdown",
   "id": "dcaf59a6-66de-48df-a2f2-9436d598feaa",
   "metadata": {},
   "source": [
    "## Any Additional Techniques to Highlight"
   ]
  },
  {
   "cell_type": "markdown",
   "id": "afa7186d-c054-4525-8942-b2baedb4f196",
   "metadata": {},
   "source": [
    "As we have known that the log data comes from the Hadoop cluster experiment, there are three types of reasons---Machine down, network disconnect, and disk full---to cause the failures. The additional techniques to highlight might be detect the logs relate to the three types of failures, but it is very difficult and needs more time."
   ]
  },
  {
   "cell_type": "code",
   "execution_count": null,
   "id": "d80207f4-6dfa-4889-a39a-ea74b27e79c8",
   "metadata": {},
   "outputs": [],
   "source": []
  }
 ],
 "metadata": {
  "kernelspec": {
   "display_name": "Python 3 (ipykernel)",
   "language": "python",
   "name": "python3"
  },
  "language_info": {
   "codemirror_mode": {
    "name": "ipython",
    "version": 3
   },
   "file_extension": ".py",
   "mimetype": "text/x-python",
   "name": "python",
   "nbconvert_exporter": "python",
   "pygments_lexer": "ipython3",
   "version": "3.9.12"
  }
 },
 "nbformat": 4,
 "nbformat_minor": 5
}
