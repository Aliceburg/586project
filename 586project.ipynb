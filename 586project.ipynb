{
  "nbformat": 4,
  "nbformat_minor": 0,
  "metadata": {
    "colab": {
      "name": "586project.ipynb",
      "provenance": [],
      "collapsed_sections": []
    },
    "kernelspec": {
      "name": "python3",
      "display_name": "Python 3"
    },
    "language_info": {
      "name": "python"
    }
  },
  "cells": [
    {
      "cell_type": "markdown",
      "source": [
        "# Hadoop Log Data Anomaly Detection"
      ],
      "metadata": {
        "id": "GX3C9mqCwpEe"
      }
    },
    {
      "cell_type": "markdown",
      "source": [
        "Author: Yilin Sun,  Song Zhang"
      ],
      "metadata": {
        "id": "7NVK80VlvB13"
      }
    },
    {
      "cell_type": "markdown",
      "source": [
        "The data we analyze are the logs generated from a Hadoop cluster. What we are going to detect the log types by modelling. "
      ],
      "metadata": {
        "id": "VB8pL58Tw6oM"
      }
    },
    {
      "cell_type": "markdown",
      "source": [
        "## Data Pre-processing"
      ],
      "metadata": {
        "id": "51RCpWZ9a3Oq"
      }
    },
    {
      "cell_type": "markdown",
      "source": [
        "First, we process the data from the log file. We create a dataframe based on the log info. We extract the date, hour, log type, information in the bracket, and the function(which is after the .hadoop) of the log. In addition, we determine if the log contains the key word \"Error\" or \"Exception\" and store the result in two columns.  "
      ],
      "metadata": {
        "id": "jcONYHJfaEyC"
      }
    },
    {
      "cell_type": "code",
      "source": [
        "import pandas as pd\n",
        "import altair as alt\n",
        "import re\n",
        "path = \"combined.log\"\n",
        "data = []\n",
        "with open(path) as f:\n",
        "    f = f.readlines()\n",
        "    for line in f:\n",
        "       new_line = line.split()\n",
        "       if len(new_line)>3:\n",
        "         if new_line[2]==\"INFO\" or new_line[2]==\"WARN\" or new_line[2]==\"ERROR\":\n",
        "            date = new_line[0]\n",
        "            hour = new_line[1]\n",
        "            label = new_line[2]\n",
        "            bracketsInfo= line[line.find('[')+len('['):line.find(']')]\n",
        "            func = \"\"\n",
        "            m = line.split(\".hadoop.\",1)\n",
        "            if len(m)>1:\n",
        "              func = m[1].split(\".\",1)[0]\n",
        "            \n",
        "            hasError = False\n",
        "            hasException =False\n",
        "            message = []\n",
        "            for i in range(3,len(new_line)):\n",
        "              if \"Error\" in new_line[i]:\n",
        "                hasError = True\n",
        "              if \"ERROR\" in new_line[i]:\n",
        "                hasError = True\n",
        "              if \"Exception\" in new_line[i]:\n",
        "                hasException = True\n",
        "              if \"EXCEPTION\" in new_line[i]:\n",
        "                hasException = True\n",
        "              message.append(new_line[i])\n",
        "            data.append([date,hour,label,bracketsInfo,hasError,hasException,func,message])\n",
        "\n",
        "\n",
        "df = pd.DataFrame(data, columns=['date', 'hour', 'label','bracketsInfo','hasError','hasException','func','message'])\n"
      ],
      "metadata": {
        "id": "eMT46-gftp-D"
      },
      "execution_count": null,
      "outputs": []
    },
    {
      "cell_type": "code",
      "source": [
        "df.head(5)"
      ],
      "metadata": {
        "colab": {
          "base_uri": "https://localhost:8080/",
          "height": 250
        },
        "id": "KkeNknaOjvwz",
        "outputId": "3eb5727f-8c27-49eb-c7dd-0d4e61f5b589"
      },
      "execution_count": null,
      "outputs": [
        {
          "output_type": "execute_result",
          "data": {
            "text/plain": [
              "         date          hour label bracketsInfo  hasError  hasException  \\\n",
              "0  2015-10-17  15:37:56,547  INFO         main     False         False   \n",
              "1  2015-10-17  15:37:56,899  INFO         main     False         False   \n",
              "2  2015-10-17  15:37:56,900  INFO         main     False         False   \n",
              "3  2015-10-17  15:37:57,036  INFO         main     False         False   \n",
              "4  2015-10-17  15:37:57,634  INFO         main     False         False   \n",
              "\n",
              "        func                                            message  \n",
              "0  mapreduce  [[main], org.apache.hadoop.mapreduce.v2.app.MR...  \n",
              "1  mapreduce  [[main], org.apache.hadoop.mapreduce.v2.app.MR...  \n",
              "2  mapreduce  [[main], org.apache.hadoop.mapreduce.v2.app.MR...  \n",
              "3  mapreduce  [[main], org.apache.hadoop.mapreduce.v2.app.MR...  \n",
              "4  mapreduce  [[main], org.apache.hadoop.mapreduce.v2.app.MR...  "
            ],
            "text/html": [
              "\n",
              "  <div id=\"df-c2ce591d-33e8-4d62-be53-a491c690e55e\">\n",
              "    <div class=\"colab-df-container\">\n",
              "      <div>\n",
              "<style scoped>\n",
              "    .dataframe tbody tr th:only-of-type {\n",
              "        vertical-align: middle;\n",
              "    }\n",
              "\n",
              "    .dataframe tbody tr th {\n",
              "        vertical-align: top;\n",
              "    }\n",
              "\n",
              "    .dataframe thead th {\n",
              "        text-align: right;\n",
              "    }\n",
              "</style>\n",
              "<table border=\"1\" class=\"dataframe\">\n",
              "  <thead>\n",
              "    <tr style=\"text-align: right;\">\n",
              "      <th></th>\n",
              "      <th>date</th>\n",
              "      <th>hour</th>\n",
              "      <th>label</th>\n",
              "      <th>bracketsInfo</th>\n",
              "      <th>hasError</th>\n",
              "      <th>hasException</th>\n",
              "      <th>func</th>\n",
              "      <th>message</th>\n",
              "    </tr>\n",
              "  </thead>\n",
              "  <tbody>\n",
              "    <tr>\n",
              "      <th>0</th>\n",
              "      <td>2015-10-17</td>\n",
              "      <td>15:37:56,547</td>\n",
              "      <td>INFO</td>\n",
              "      <td>main</td>\n",
              "      <td>False</td>\n",
              "      <td>False</td>\n",
              "      <td>mapreduce</td>\n",
              "      <td>[[main], org.apache.hadoop.mapreduce.v2.app.MR...</td>\n",
              "    </tr>\n",
              "    <tr>\n",
              "      <th>1</th>\n",
              "      <td>2015-10-17</td>\n",
              "      <td>15:37:56,899</td>\n",
              "      <td>INFO</td>\n",
              "      <td>main</td>\n",
              "      <td>False</td>\n",
              "      <td>False</td>\n",
              "      <td>mapreduce</td>\n",
              "      <td>[[main], org.apache.hadoop.mapreduce.v2.app.MR...</td>\n",
              "    </tr>\n",
              "    <tr>\n",
              "      <th>2</th>\n",
              "      <td>2015-10-17</td>\n",
              "      <td>15:37:56,900</td>\n",
              "      <td>INFO</td>\n",
              "      <td>main</td>\n",
              "      <td>False</td>\n",
              "      <td>False</td>\n",
              "      <td>mapreduce</td>\n",
              "      <td>[[main], org.apache.hadoop.mapreduce.v2.app.MR...</td>\n",
              "    </tr>\n",
              "    <tr>\n",
              "      <th>3</th>\n",
              "      <td>2015-10-17</td>\n",
              "      <td>15:37:57,036</td>\n",
              "      <td>INFO</td>\n",
              "      <td>main</td>\n",
              "      <td>False</td>\n",
              "      <td>False</td>\n",
              "      <td>mapreduce</td>\n",
              "      <td>[[main], org.apache.hadoop.mapreduce.v2.app.MR...</td>\n",
              "    </tr>\n",
              "    <tr>\n",
              "      <th>4</th>\n",
              "      <td>2015-10-17</td>\n",
              "      <td>15:37:57,634</td>\n",
              "      <td>INFO</td>\n",
              "      <td>main</td>\n",
              "      <td>False</td>\n",
              "      <td>False</td>\n",
              "      <td>mapreduce</td>\n",
              "      <td>[[main], org.apache.hadoop.mapreduce.v2.app.MR...</td>\n",
              "    </tr>\n",
              "  </tbody>\n",
              "</table>\n",
              "</div>\n",
              "      <button class=\"colab-df-convert\" onclick=\"convertToInteractive('df-c2ce591d-33e8-4d62-be53-a491c690e55e')\"\n",
              "              title=\"Convert this dataframe to an interactive table.\"\n",
              "              style=\"display:none;\">\n",
              "        \n",
              "  <svg xmlns=\"http://www.w3.org/2000/svg\" height=\"24px\"viewBox=\"0 0 24 24\"\n",
              "       width=\"24px\">\n",
              "    <path d=\"M0 0h24v24H0V0z\" fill=\"none\"/>\n",
              "    <path d=\"M18.56 5.44l.94 2.06.94-2.06 2.06-.94-2.06-.94-.94-2.06-.94 2.06-2.06.94zm-11 1L8.5 8.5l.94-2.06 2.06-.94-2.06-.94L8.5 2.5l-.94 2.06-2.06.94zm10 10l.94 2.06.94-2.06 2.06-.94-2.06-.94-.94-2.06-.94 2.06-2.06.94z\"/><path d=\"M17.41 7.96l-1.37-1.37c-.4-.4-.92-.59-1.43-.59-.52 0-1.04.2-1.43.59L10.3 9.45l-7.72 7.72c-.78.78-.78 2.05 0 2.83L4 21.41c.39.39.9.59 1.41.59.51 0 1.02-.2 1.41-.59l7.78-7.78 2.81-2.81c.8-.78.8-2.07 0-2.86zM5.41 20L4 18.59l7.72-7.72 1.47 1.35L5.41 20z\"/>\n",
              "  </svg>\n",
              "      </button>\n",
              "      \n",
              "  <style>\n",
              "    .colab-df-container {\n",
              "      display:flex;\n",
              "      flex-wrap:wrap;\n",
              "      gap: 12px;\n",
              "    }\n",
              "\n",
              "    .colab-df-convert {\n",
              "      background-color: #E8F0FE;\n",
              "      border: none;\n",
              "      border-radius: 50%;\n",
              "      cursor: pointer;\n",
              "      display: none;\n",
              "      fill: #1967D2;\n",
              "      height: 32px;\n",
              "      padding: 0 0 0 0;\n",
              "      width: 32px;\n",
              "    }\n",
              "\n",
              "    .colab-df-convert:hover {\n",
              "      background-color: #E2EBFA;\n",
              "      box-shadow: 0px 1px 2px rgba(60, 64, 67, 0.3), 0px 1px 3px 1px rgba(60, 64, 67, 0.15);\n",
              "      fill: #174EA6;\n",
              "    }\n",
              "\n",
              "    [theme=dark] .colab-df-convert {\n",
              "      background-color: #3B4455;\n",
              "      fill: #D2E3FC;\n",
              "    }\n",
              "\n",
              "    [theme=dark] .colab-df-convert:hover {\n",
              "      background-color: #434B5C;\n",
              "      box-shadow: 0px 1px 3px 1px rgba(0, 0, 0, 0.15);\n",
              "      filter: drop-shadow(0px 1px 2px rgba(0, 0, 0, 0.3));\n",
              "      fill: #FFFFFF;\n",
              "    }\n",
              "  </style>\n",
              "\n",
              "      <script>\n",
              "        const buttonEl =\n",
              "          document.querySelector('#df-c2ce591d-33e8-4d62-be53-a491c690e55e button.colab-df-convert');\n",
              "        buttonEl.style.display =\n",
              "          google.colab.kernel.accessAllowed ? 'block' : 'none';\n",
              "\n",
              "        async function convertToInteractive(key) {\n",
              "          const element = document.querySelector('#df-c2ce591d-33e8-4d62-be53-a491c690e55e');\n",
              "          const dataTable =\n",
              "            await google.colab.kernel.invokeFunction('convertToInteractive',\n",
              "                                                     [key], {});\n",
              "          if (!dataTable) return;\n",
              "\n",
              "          const docLinkHtml = 'Like what you see? Visit the ' +\n",
              "            '<a target=\"_blank\" href=https://colab.research.google.com/notebooks/data_table.ipynb>data table notebook</a>'\n",
              "            + ' to learn more about interactive tables.';\n",
              "          element.innerHTML = '';\n",
              "          dataTable['output_type'] = 'display_data';\n",
              "          await google.colab.output.renderOutput(dataTable, element);\n",
              "          const docLink = document.createElement('div');\n",
              "          docLink.innerHTML = docLinkHtml;\n",
              "          element.appendChild(docLink);\n",
              "        }\n",
              "      </script>\n",
              "    </div>\n",
              "  </div>\n",
              "  "
            ]
          },
          "metadata": {},
          "execution_count": 2
        }
      ]
    },
    {
      "cell_type": "markdown",
      "source": [
        "Next, we show the details of the different label. "
      ],
      "metadata": {
        "id": "xJcKYb6n7smi"
      }
    },
    {
      "cell_type": "code",
      "source": [
        "df0 = df[df[\"label\"]=='INFO']\n",
        "len(df0)\n"
      ],
      "metadata": {
        "colab": {
          "base_uri": "https://localhost:8080/"
        },
        "id": "eObx0DxLrBJz",
        "outputId": "8fe36272-06bd-4e39-8d27-54828cfda73b"
      },
      "execution_count": null,
      "outputs": [
        {
          "output_type": "execute_result",
          "data": {
            "text/plain": [
              "120519"
            ]
          },
          "metadata": {},
          "execution_count": 3
        }
      ]
    },
    {
      "cell_type": "code",
      "source": [
        "df1 = df[df[\"label\"]=='WARN']\n",
        "len(df1)"
      ],
      "metadata": {
        "colab": {
          "base_uri": "https://localhost:8080/"
        },
        "id": "wicnkz9764Fv",
        "outputId": "da03252c-81f5-43ef-9975-ef633a0f68db"
      },
      "execution_count": null,
      "outputs": [
        {
          "output_type": "execute_result",
          "data": {
            "text/plain": [
              "6164"
            ]
          },
          "metadata": {},
          "execution_count": 4
        }
      ]
    },
    {
      "cell_type": "code",
      "source": [
        "df2 = df[df[\"label\"]=='ERROR']\n",
        "len(df2)"
      ],
      "metadata": {
        "colab": {
          "base_uri": "https://localhost:8080/"
        },
        "id": "vBdDl_PP63xO",
        "outputId": "0b7eb732-e90d-4484-cd3c-9b21a9ac64a3"
      },
      "execution_count": null,
      "outputs": [
        {
          "output_type": "execute_result",
          "data": {
            "text/plain": [
              "336"
            ]
          },
          "metadata": {},
          "execution_count": 5
        }
      ]
    },
    {
      "cell_type": "markdown",
      "source": [
        "For the dataset, it is too large(more than 120k rows) and it took a long time to build the model later. Also in contrast to INFO, the ERROR and WARN info is not too much. So we extract the data to 15000 rows which contain all the ERROR and WARN and extract the INFO row for the rest."
      ],
      "metadata": {
        "id": "j09wjt7n5noG"
      }
    },
    {
      "cell_type": "code",
      "source": [
        "num  = 15000-len(df1)-len(df2)\n",
        "df3 = df0.head(num)\n",
        "frames = [df1,df2,df3]\n",
        "df = pd.concat(frames)\n",
        "df = df.sample(frac=1)\n",
        "df.head(5)"
      ],
      "metadata": {
        "colab": {
          "base_uri": "https://localhost:8080/",
          "height": 337
        },
        "id": "YQ0If74T6DN4",
        "outputId": "274ed7f2-1d90-48c4-863a-71caf7075920"
      },
      "execution_count": null,
      "outputs": [
        {
          "output_type": "execute_result",
          "data": {
            "text/plain": [
              "             date          hour label                         bracketsInfo  \\\n",
              "63764  2015-10-18  18:25:28,974  WARN  LeaseRenewer:msrabi@msra-sa-41:9000   \n",
              "73632  2015-10-18  18:06:53,656  WARN  LeaseRenewer:msrabi@msra-sa-41:9000   \n",
              "73400  2015-10-18  18:05:47,008  WARN             RMCommunicator Allocator   \n",
              "62820  2015-10-18  18:17:34,992  WARN  LeaseRenewer:msrabi@msra-sa-41:9000   \n",
              "726    2015-10-17  15:40:09,159  INFO       IPC Server handler 21 on 47468   \n",
              "\n",
              "       hasError  hasException    func  \\\n",
              "63764     False         False    hdfs   \n",
              "73632     False         False     ipc   \n",
              "73400     False         False     ipc   \n",
              "62820     False         False    hdfs   \n",
              "726       False         False  mapred   \n",
              "\n",
              "                                                 message  \n",
              "63764  [[LeaseRenewer:msrabi@msra-sa-41:9000], org.ap...  \n",
              "73632  [[LeaseRenewer:msrabi@msra-sa-41:9000], org.ap...  \n",
              "73400  [[RMCommunicator, Allocator], org.apache.hadoo...  \n",
              "62820  [[LeaseRenewer:msrabi@msra-sa-41:9000], org.ap...  \n",
              "726    [[IPC, Server, handler, 21, on, 47468], org.ap...  "
            ],
            "text/html": [
              "\n",
              "  <div id=\"df-2d753884-191f-4ec4-a9f9-93ba07aa5e40\">\n",
              "    <div class=\"colab-df-container\">\n",
              "      <div>\n",
              "<style scoped>\n",
              "    .dataframe tbody tr th:only-of-type {\n",
              "        vertical-align: middle;\n",
              "    }\n",
              "\n",
              "    .dataframe tbody tr th {\n",
              "        vertical-align: top;\n",
              "    }\n",
              "\n",
              "    .dataframe thead th {\n",
              "        text-align: right;\n",
              "    }\n",
              "</style>\n",
              "<table border=\"1\" class=\"dataframe\">\n",
              "  <thead>\n",
              "    <tr style=\"text-align: right;\">\n",
              "      <th></th>\n",
              "      <th>date</th>\n",
              "      <th>hour</th>\n",
              "      <th>label</th>\n",
              "      <th>bracketsInfo</th>\n",
              "      <th>hasError</th>\n",
              "      <th>hasException</th>\n",
              "      <th>func</th>\n",
              "      <th>message</th>\n",
              "    </tr>\n",
              "  </thead>\n",
              "  <tbody>\n",
              "    <tr>\n",
              "      <th>63764</th>\n",
              "      <td>2015-10-18</td>\n",
              "      <td>18:25:28,974</td>\n",
              "      <td>WARN</td>\n",
              "      <td>LeaseRenewer:msrabi@msra-sa-41:9000</td>\n",
              "      <td>False</td>\n",
              "      <td>False</td>\n",
              "      <td>hdfs</td>\n",
              "      <td>[[LeaseRenewer:msrabi@msra-sa-41:9000], org.ap...</td>\n",
              "    </tr>\n",
              "    <tr>\n",
              "      <th>73632</th>\n",
              "      <td>2015-10-18</td>\n",
              "      <td>18:06:53,656</td>\n",
              "      <td>WARN</td>\n",
              "      <td>LeaseRenewer:msrabi@msra-sa-41:9000</td>\n",
              "      <td>False</td>\n",
              "      <td>False</td>\n",
              "      <td>ipc</td>\n",
              "      <td>[[LeaseRenewer:msrabi@msra-sa-41:9000], org.ap...</td>\n",
              "    </tr>\n",
              "    <tr>\n",
              "      <th>73400</th>\n",
              "      <td>2015-10-18</td>\n",
              "      <td>18:05:47,008</td>\n",
              "      <td>WARN</td>\n",
              "      <td>RMCommunicator Allocator</td>\n",
              "      <td>False</td>\n",
              "      <td>False</td>\n",
              "      <td>ipc</td>\n",
              "      <td>[[RMCommunicator, Allocator], org.apache.hadoo...</td>\n",
              "    </tr>\n",
              "    <tr>\n",
              "      <th>62820</th>\n",
              "      <td>2015-10-18</td>\n",
              "      <td>18:17:34,992</td>\n",
              "      <td>WARN</td>\n",
              "      <td>LeaseRenewer:msrabi@msra-sa-41:9000</td>\n",
              "      <td>False</td>\n",
              "      <td>False</td>\n",
              "      <td>hdfs</td>\n",
              "      <td>[[LeaseRenewer:msrabi@msra-sa-41:9000], org.ap...</td>\n",
              "    </tr>\n",
              "    <tr>\n",
              "      <th>726</th>\n",
              "      <td>2015-10-17</td>\n",
              "      <td>15:40:09,159</td>\n",
              "      <td>INFO</td>\n",
              "      <td>IPC Server handler 21 on 47468</td>\n",
              "      <td>False</td>\n",
              "      <td>False</td>\n",
              "      <td>mapred</td>\n",
              "      <td>[[IPC, Server, handler, 21, on, 47468], org.ap...</td>\n",
              "    </tr>\n",
              "  </tbody>\n",
              "</table>\n",
              "</div>\n",
              "      <button class=\"colab-df-convert\" onclick=\"convertToInteractive('df-2d753884-191f-4ec4-a9f9-93ba07aa5e40')\"\n",
              "              title=\"Convert this dataframe to an interactive table.\"\n",
              "              style=\"display:none;\">\n",
              "        \n",
              "  <svg xmlns=\"http://www.w3.org/2000/svg\" height=\"24px\"viewBox=\"0 0 24 24\"\n",
              "       width=\"24px\">\n",
              "    <path d=\"M0 0h24v24H0V0z\" fill=\"none\"/>\n",
              "    <path d=\"M18.56 5.44l.94 2.06.94-2.06 2.06-.94-2.06-.94-.94-2.06-.94 2.06-2.06.94zm-11 1L8.5 8.5l.94-2.06 2.06-.94-2.06-.94L8.5 2.5l-.94 2.06-2.06.94zm10 10l.94 2.06.94-2.06 2.06-.94-2.06-.94-.94-2.06-.94 2.06-2.06.94z\"/><path d=\"M17.41 7.96l-1.37-1.37c-.4-.4-.92-.59-1.43-.59-.52 0-1.04.2-1.43.59L10.3 9.45l-7.72 7.72c-.78.78-.78 2.05 0 2.83L4 21.41c.39.39.9.59 1.41.59.51 0 1.02-.2 1.41-.59l7.78-7.78 2.81-2.81c.8-.78.8-2.07 0-2.86zM5.41 20L4 18.59l7.72-7.72 1.47 1.35L5.41 20z\"/>\n",
              "  </svg>\n",
              "      </button>\n",
              "      \n",
              "  <style>\n",
              "    .colab-df-container {\n",
              "      display:flex;\n",
              "      flex-wrap:wrap;\n",
              "      gap: 12px;\n",
              "    }\n",
              "\n",
              "    .colab-df-convert {\n",
              "      background-color: #E8F0FE;\n",
              "      border: none;\n",
              "      border-radius: 50%;\n",
              "      cursor: pointer;\n",
              "      display: none;\n",
              "      fill: #1967D2;\n",
              "      height: 32px;\n",
              "      padding: 0 0 0 0;\n",
              "      width: 32px;\n",
              "    }\n",
              "\n",
              "    .colab-df-convert:hover {\n",
              "      background-color: #E2EBFA;\n",
              "      box-shadow: 0px 1px 2px rgba(60, 64, 67, 0.3), 0px 1px 3px 1px rgba(60, 64, 67, 0.15);\n",
              "      fill: #174EA6;\n",
              "    }\n",
              "\n",
              "    [theme=dark] .colab-df-convert {\n",
              "      background-color: #3B4455;\n",
              "      fill: #D2E3FC;\n",
              "    }\n",
              "\n",
              "    [theme=dark] .colab-df-convert:hover {\n",
              "      background-color: #434B5C;\n",
              "      box-shadow: 0px 1px 3px 1px rgba(0, 0, 0, 0.15);\n",
              "      filter: drop-shadow(0px 1px 2px rgba(0, 0, 0, 0.3));\n",
              "      fill: #FFFFFF;\n",
              "    }\n",
              "  </style>\n",
              "\n",
              "      <script>\n",
              "        const buttonEl =\n",
              "          document.querySelector('#df-2d753884-191f-4ec4-a9f9-93ba07aa5e40 button.colab-df-convert');\n",
              "        buttonEl.style.display =\n",
              "          google.colab.kernel.accessAllowed ? 'block' : 'none';\n",
              "\n",
              "        async function convertToInteractive(key) {\n",
              "          const element = document.querySelector('#df-2d753884-191f-4ec4-a9f9-93ba07aa5e40');\n",
              "          const dataTable =\n",
              "            await google.colab.kernel.invokeFunction('convertToInteractive',\n",
              "                                                     [key], {});\n",
              "          if (!dataTable) return;\n",
              "\n",
              "          const docLinkHtml = 'Like what you see? Visit the ' +\n",
              "            '<a target=\"_blank\" href=https://colab.research.google.com/notebooks/data_table.ipynb>data table notebook</a>'\n",
              "            + ' to learn more about interactive tables.';\n",
              "          element.innerHTML = '';\n",
              "          dataTable['output_type'] = 'display_data';\n",
              "          await google.colab.output.renderOutput(dataTable, element);\n",
              "          const docLink = document.createElement('div');\n",
              "          docLink.innerHTML = docLinkHtml;\n",
              "          element.appendChild(docLink);\n",
              "        }\n",
              "      </script>\n",
              "    </div>\n",
              "  </div>\n",
              "  "
            ]
          },
          "metadata": {},
          "execution_count": 6
        }
      ]
    },
    {
      "cell_type": "markdown",
      "source": [
        "## Exploratory Data Analysis\n",
        "\n"
      ],
      "metadata": {
        "id": "9RCzVHU9xiwY"
      }
    },
    {
      "cell_type": "markdown",
      "source": [
        "1. count error label based on brackets info. "
      ],
      "metadata": {
        "id": "0-JsZhjXBGH6"
      }
    },
    {
      "cell_type": "code",
      "source": [
        "p1=alt.Chart(df2).mark_bar().encode(\n",
        "    x='bracketsInfo',\n",
        "y='count()',\n",
        "   \n",
        ")\n"
      ],
      "metadata": {
        "id": "De1fzG00BNph"
      },
      "execution_count": null,
      "outputs": []
    },
    {
      "cell_type": "markdown",
      "source": [
        "2. error count based on the date."
      ],
      "metadata": {
        "id": "MaKMo4r89YP3"
      }
    },
    {
      "cell_type": "code",
      "source": [
        "p2=alt.Chart(df2).mark_bar().encode(\n",
        "    x='date',\n",
        "y='count()',\n",
        "   \n",
        ")\n"
      ],
      "metadata": {
        "id": "6nM4iKP1J1f9"
      },
      "execution_count": null,
      "outputs": []
    },
    {
      "cell_type": "markdown",
      "source": [
        "3. error count based on func."
      ],
      "metadata": {
        "id": "dRWLuL8E9n5t"
      }
    },
    {
      "cell_type": "code",
      "source": [
        "p3=alt.Chart(df2).mark_bar().encode(\n",
        "    x='func',\n",
        "y='count()',\n",
        "   \n",
        ")"
      ],
      "metadata": {
        "id": "IuS6ZP5LJ_n4"
      },
      "execution_count": null,
      "outputs": []
    },
    {
      "cell_type": "code",
      "source": [
        "p1+p2+p3"
      ],
      "metadata": {
        "colab": {
          "base_uri": "https://localhost:8080/",
          "height": 481
        },
        "id": "f3D5ZzNz-6Fk",
        "outputId": "4f4f8ffc-5251-4354-8d56-b569ff68b508"
      },
      "execution_count": null,
      "outputs": [
        {
          "output_type": "execute_result",
          "data": {
            "text/html": [
              "\n",
              "<div id=\"altair-viz-caed1aace3a7429c98b8901e71331ef0\"></div>\n",
              "<script type=\"text/javascript\">\n",
              "  var VEGA_DEBUG = (typeof VEGA_DEBUG == \"undefined\") ? {} : VEGA_DEBUG;\n",
              "  (function(spec, embedOpt){\n",
              "    let outputDiv = document.currentScript.previousElementSibling;\n",
              "    if (outputDiv.id !== \"altair-viz-caed1aace3a7429c98b8901e71331ef0\") {\n",
              "      outputDiv = document.getElementById(\"altair-viz-caed1aace3a7429c98b8901e71331ef0\");\n",
              "    }\n",
              "    const paths = {\n",
              "      \"vega\": \"https://cdn.jsdelivr.net/npm//vega@5?noext\",\n",
              "      \"vega-lib\": \"https://cdn.jsdelivr.net/npm//vega-lib?noext\",\n",
              "      \"vega-lite\": \"https://cdn.jsdelivr.net/npm//vega-lite@4.17.0?noext\",\n",
              "      \"vega-embed\": \"https://cdn.jsdelivr.net/npm//vega-embed@6?noext\",\n",
              "    };\n",
              "\n",
              "    function maybeLoadScript(lib, version) {\n",
              "      var key = `${lib.replace(\"-\", \"\")}_version`;\n",
              "      return (VEGA_DEBUG[key] == version) ?\n",
              "        Promise.resolve(paths[lib]) :\n",
              "        new Promise(function(resolve, reject) {\n",
              "          var s = document.createElement('script');\n",
              "          document.getElementsByTagName(\"head\")[0].appendChild(s);\n",
              "          s.async = true;\n",
              "          s.onload = () => {\n",
              "            VEGA_DEBUG[key] = version;\n",
              "            return resolve(paths[lib]);\n",
              "          };\n",
              "          s.onerror = () => reject(`Error loading script: ${paths[lib]}`);\n",
              "          s.src = paths[lib];\n",
              "        });\n",
              "    }\n",
              "\n",
              "    function showError(err) {\n",
              "      outputDiv.innerHTML = `<div class=\"error\" style=\"color:red;\">${err}</div>`;\n",
              "      throw err;\n",
              "    }\n",
              "\n",
              "    function displayChart(vegaEmbed) {\n",
              "      vegaEmbed(outputDiv, spec, embedOpt)\n",
              "        .catch(err => showError(`Javascript Error: ${err.message}<br>This usually means there's a typo in your chart specification. See the javascript console for the full traceback.`));\n",
              "    }\n",
              "\n",
              "    if(typeof define === \"function\" && define.amd) {\n",
              "      requirejs.config({paths});\n",
              "      require([\"vega-embed\"], displayChart, err => showError(`Error loading script: ${err.message}`));\n",
              "    } else {\n",
              "      maybeLoadScript(\"vega\", \"5\")\n",
              "        .then(() => maybeLoadScript(\"vega-lite\", \"4.17.0\"))\n",
              "        .then(() => maybeLoadScript(\"vega-embed\", \"6\"))\n",
              "        .catch(showError)\n",
              "        .then(() => displayChart(vegaEmbed));\n",
              "    }\n",
              "  })({\"config\": {\"view\": {\"continuousWidth\": 400, \"continuousHeight\": 300}}, \"layer\": [{\"mark\": \"bar\", \"encoding\": {\"x\": {\"field\": \"bracketsInfo\", \"type\": \"nominal\"}, \"y\": {\"aggregate\": \"count\", \"type\": \"quantitative\"}}}, {\"mark\": \"bar\", \"encoding\": {\"x\": {\"field\": \"date\", \"type\": \"nominal\"}, \"y\": {\"aggregate\": \"count\", \"type\": \"quantitative\"}}}, {\"mark\": \"bar\", \"encoding\": {\"x\": {\"field\": \"func\", \"type\": \"nominal\"}, \"y\": {\"aggregate\": \"count\", \"type\": \"quantitative\"}}}], \"data\": {\"name\": \"data-a6b331b2b2e8da8e9abfe686799251d6\"}, \"$schema\": \"https://vega.github.io/schema/vega-lite/v4.17.0.json\", \"datasets\": {\"data-a6b331b2b2e8da8e9abfe686799251d6\": [{\"date\": \"2015-10-17\", \"hour\": \"15:38:16,720\", \"label\": \"ERROR\", \"bracketsInfo\": \"RMCommunicator Allocator\", \"hasError\": false, \"hasException\": false, \"func\": \"mapreduce\", \"message\": [\"[RMCommunicator\", \"Allocator]\", \"org.apache.hadoop.mapreduce.v2.app.rm.RMContainerAllocator:\", \"Container\", \"complete\", \"event\", \"for\", \"unknown\", \"container\", \"id\", \"container_1445062781478_0012_01_000012\"]}, {\"date\": \"2015-10-17\", \"hour\": \"15:38:10,409\", \"label\": \"ERROR\", \"bracketsInfo\": \"RMCommunicator Allocator\", \"hasError\": false, \"hasException\": false, \"func\": \"mapreduce\", \"message\": [\"[RMCommunicator\", \"Allocator]\", \"org.apache.hadoop.mapreduce.v2.app.rm.RMContainerAllocator:\", \"Container\", \"complete\", \"event\", \"for\", \"unknown\", \"container\", \"id\", \"container_1445062781478_0013_01_000013\"]}, {\"date\": \"2015-10-17\", \"hour\": \"15:38:10,409\", \"label\": \"ERROR\", \"bracketsInfo\": \"RMCommunicator Allocator\", \"hasError\": false, \"hasException\": false, \"func\": \"mapreduce\", \"message\": [\"[RMCommunicator\", \"Allocator]\", \"org.apache.hadoop.mapreduce.v2.app.rm.RMContainerAllocator:\", \"Container\", \"complete\", \"event\", \"for\", \"unknown\", \"container\", \"id\", \"container_1445062781478_0013_01_000012\"]}, {\"date\": \"2015-10-17\", \"hour\": \"15:38:11,425\", \"label\": \"ERROR\", \"bracketsInfo\": \"RMCommunicator Allocator\", \"hasError\": false, \"hasException\": false, \"func\": \"mapreduce\", \"message\": [\"[RMCommunicator\", \"Allocator]\", \"org.apache.hadoop.mapreduce.v2.app.rm.RMContainerAllocator:\", \"Container\", \"complete\", \"event\", \"for\", \"unknown\", \"container\", \"id\", \"container_1445062781478_0013_01_000014\"]}, {\"date\": \"2015-10-17\", \"hour\": \"15:45:59,146\", \"label\": \"ERROR\", \"bracketsInfo\": \"RMCommunicator Allocator\", \"hasError\": false, \"hasException\": false, \"func\": \"mapreduce\", \"message\": [\"[RMCommunicator\", \"Allocator]\", \"org.apache.hadoop.mapreduce.v2.app.rm.RMContainerAllocator:\", \"Container\", \"complete\", \"event\", \"for\", \"unknown\", \"container\", \"id\", \"container_1445062781478_0015_01_000012\"]}, {\"date\": \"2015-10-17\", \"hour\": \"16:47:51,045\", \"label\": \"ERROR\", \"bracketsInfo\": \"RMCommunicator Allocator\", \"hasError\": false, \"hasException\": false, \"func\": \"mapreduce\", \"message\": [\"[RMCommunicator\", \"Allocator]\", \"org.apache.hadoop.mapreduce.v2.app.rm.RMContainerAllocator:\", \"Container\", \"complete\", \"event\", \"for\", \"unknown\", \"container\", \"id\", \"container_1445062781478_0018_01_000012\"]}, {\"date\": \"2015-10-17\", \"hour\": \"16:47:52,060\", \"label\": \"ERROR\", \"bracketsInfo\": \"RMCommunicator Allocator\", \"hasError\": false, \"hasException\": false, \"func\": \"mapreduce\", \"message\": [\"[RMCommunicator\", \"Allocator]\", \"org.apache.hadoop.mapreduce.v2.app.rm.RMContainerAllocator:\", \"Container\", \"complete\", \"event\", \"for\", \"unknown\", \"container\", \"id\", \"container_1445062781478_0018_01_000013\"]}, {\"date\": \"2015-10-17\", \"hour\": \"18:09:31,615\", \"label\": \"ERROR\", \"bracketsInfo\": \"RMCommunicator Allocator\", \"hasError\": false, \"hasException\": false, \"func\": \"mapreduce\", \"message\": [\"[RMCommunicator\", \"Allocator]\", \"org.apache.hadoop.mapreduce.v2.app.rm.RMContainerAllocator:\", \"Container\", \"complete\", \"event\", \"for\", \"unknown\", \"container\", \"id\", \"container_1445076437777_0003_01_000012\"]}, {\"date\": \"2015-10-17\", \"hour\": \"18:09:32,662\", \"label\": \"ERROR\", \"bracketsInfo\": \"RMCommunicator Allocator\", \"hasError\": false, \"hasException\": false, \"func\": \"mapreduce\", \"message\": [\"[RMCommunicator\", \"Allocator]\", \"org.apache.hadoop.mapreduce.v2.app.rm.RMContainerAllocator:\", \"Container\", \"complete\", \"event\", \"for\", \"unknown\", \"container\", \"id\", \"container_1445076437777_0003_01_000013\"]}, {\"date\": \"2015-10-17\", \"hour\": \"22:29:08,360\", \"label\": \"ERROR\", \"bracketsInfo\": \"RMCommunicator Allocator\", \"hasError\": true, \"hasException\": false, \"func\": \"mapreduce\", \"message\": [\"[RMCommunicator\", \"Allocator]\", \"org.apache.hadoop.mapreduce.v2.app.rm.RMContainerAllocator:\", \"Error\", \"communicating\", \"with\", \"RM:\", \"Resource\", \"Manager\", \"doesn't\", \"recognize\", \"AttemptId:\", \"application_1445087491445_0007\"]}, {\"date\": \"2015-10-18\", \"hour\": \"18:04:11,034\", \"label\": \"ERROR\", \"bracketsInfo\": \"RMCommunicator Allocator\", \"hasError\": false, \"hasException\": false, \"func\": \"mapreduce\", \"message\": [\"[RMCommunicator\", \"Allocator]\", \"org.apache.hadoop.mapreduce.v2.app.rm.RMContainerAllocator:\", \"Container\", \"complete\", \"event\", \"for\", \"unknown\", \"container\", \"id\", \"container_1445144423722_0020_01_000012\"]}, {\"date\": \"2015-10-18\", \"hour\": \"18:06:01,840\", \"label\": \"ERROR\", \"bracketsInfo\": \"RMCommunicator Allocator\", \"hasError\": true, \"hasException\": false, \"func\": \"mapreduce\", \"message\": [\"[RMCommunicator\", \"Allocator]\", \"org.apache.hadoop.mapreduce.v2.app.rm.RMContainerAllocator:\", \"ERROR\", \"IN\", \"CONTACTING\", \"RM.\"]}, {\"date\": \"2015-10-18\", \"hour\": \"18:06:03,856\", \"label\": \"ERROR\", \"bracketsInfo\": \"RMCommunicator Allocator\", \"hasError\": true, \"hasException\": false, \"func\": \"mapreduce\", \"message\": [\"[RMCommunicator\", \"Allocator]\", \"org.apache.hadoop.mapreduce.v2.app.rm.RMContainerAllocator:\", \"ERROR\", \"IN\", \"CONTACTING\", \"RM.\"]}, {\"date\": \"2015-10-18\", \"hour\": \"18:06:05,934\", \"label\": \"ERROR\", \"bracketsInfo\": \"RMCommunicator Allocator\", \"hasError\": true, \"hasException\": false, \"func\": \"mapreduce\", \"message\": [\"[RMCommunicator\", \"Allocator]\", \"org.apache.hadoop.mapreduce.v2.app.rm.RMContainerAllocator:\", \"ERROR\", \"IN\", \"CONTACTING\", \"RM.\"]}, {\"date\": \"2015-10-18\", \"hour\": \"18:06:07,950\", \"label\": \"ERROR\", \"bracketsInfo\": \"RMCommunicator Allocator\", \"hasError\": true, \"hasException\": false, \"func\": \"mapreduce\", \"message\": [\"[RMCommunicator\", \"Allocator]\", \"org.apache.hadoop.mapreduce.v2.app.rm.RMContainerAllocator:\", \"ERROR\", \"IN\", \"CONTACTING\", \"RM.\"]}, {\"date\": \"2015-10-18\", \"hour\": \"18:06:09,966\", \"label\": \"ERROR\", \"bracketsInfo\": \"RMCommunicator Allocator\", \"hasError\": true, \"hasException\": false, \"func\": \"mapreduce\", \"message\": [\"[RMCommunicator\", \"Allocator]\", \"org.apache.hadoop.mapreduce.v2.app.rm.RMContainerAllocator:\", \"ERROR\", \"IN\", \"CONTACTING\", \"RM.\"]}, {\"date\": \"2015-10-18\", \"hour\": \"18:06:11,997\", \"label\": \"ERROR\", \"bracketsInfo\": \"RMCommunicator Allocator\", \"hasError\": true, \"hasException\": false, \"func\": \"mapreduce\", \"message\": [\"[RMCommunicator\", \"Allocator]\", \"org.apache.hadoop.mapreduce.v2.app.rm.RMContainerAllocator:\", \"ERROR\", \"IN\", \"CONTACTING\", \"RM.\"]}, {\"date\": \"2015-10-18\", \"hour\": \"18:06:14,013\", \"label\": \"ERROR\", \"bracketsInfo\": \"RMCommunicator Allocator\", \"hasError\": true, \"hasException\": false, \"func\": \"mapreduce\", \"message\": [\"[RMCommunicator\", \"Allocator]\", \"org.apache.hadoop.mapreduce.v2.app.rm.RMContainerAllocator:\", \"ERROR\", \"IN\", \"CONTACTING\", \"RM.\"]}, {\"date\": \"2015-10-18\", \"hour\": \"18:06:16,029\", \"label\": \"ERROR\", \"bracketsInfo\": \"RMCommunicator Allocator\", \"hasError\": true, \"hasException\": false, \"func\": \"mapreduce\", \"message\": [\"[RMCommunicator\", \"Allocator]\", \"org.apache.hadoop.mapreduce.v2.app.rm.RMContainerAllocator:\", \"ERROR\", \"IN\", \"CONTACTING\", \"RM.\"]}, {\"date\": \"2015-10-18\", \"hour\": \"18:06:18,045\", \"label\": \"ERROR\", \"bracketsInfo\": \"RMCommunicator Allocator\", \"hasError\": true, \"hasException\": false, \"func\": \"mapreduce\", \"message\": [\"[RMCommunicator\", \"Allocator]\", \"org.apache.hadoop.mapreduce.v2.app.rm.RMContainerAllocator:\", \"ERROR\", \"IN\", \"CONTACTING\", \"RM.\"]}, {\"date\": \"2015-10-18\", \"hour\": \"18:06:20,076\", \"label\": \"ERROR\", \"bracketsInfo\": \"RMCommunicator Allocator\", \"hasError\": true, \"hasException\": false, \"func\": \"mapreduce\", \"message\": [\"[RMCommunicator\", \"Allocator]\", \"org.apache.hadoop.mapreduce.v2.app.rm.RMContainerAllocator:\", \"ERROR\", \"IN\", \"CONTACTING\", \"RM.\"]}, {\"date\": \"2015-10-18\", \"hour\": \"18:06:22,092\", \"label\": \"ERROR\", \"bracketsInfo\": \"RMCommunicator Allocator\", \"hasError\": true, \"hasException\": false, \"func\": \"mapreduce\", \"message\": [\"[RMCommunicator\", \"Allocator]\", \"org.apache.hadoop.mapreduce.v2.app.rm.RMContainerAllocator:\", \"ERROR\", \"IN\", \"CONTACTING\", \"RM.\"]}, {\"date\": \"2015-10-18\", \"hour\": \"18:06:24,092\", \"label\": \"ERROR\", \"bracketsInfo\": \"RMCommunicator Allocator\", \"hasError\": true, \"hasException\": false, \"func\": \"mapreduce\", \"message\": [\"[RMCommunicator\", \"Allocator]\", \"org.apache.hadoop.mapreduce.v2.app.rm.RMContainerAllocator:\", \"ERROR\", \"IN\", \"CONTACTING\", \"RM.\"]}, {\"date\": \"2015-10-18\", \"hour\": \"18:06:26,108\", \"label\": \"ERROR\", \"bracketsInfo\": \"RMCommunicator Allocator\", \"hasError\": true, \"hasException\": false, \"func\": \"mapreduce\", \"message\": [\"[RMCommunicator\", \"Allocator]\", \"org.apache.hadoop.mapreduce.v2.app.rm.RMContainerAllocator:\", \"ERROR\", \"IN\", \"CONTACTING\", \"RM.\"]}, {\"date\": \"2015-10-18\", \"hour\": \"18:06:26,139\", \"label\": \"ERROR\", \"bracketsInfo\": \"eventHandlingThread\", \"hasError\": true, \"hasException\": false, \"func\": \"mapreduce\", \"message\": [\"[eventHandlingThread]\", \"org.apache.hadoop.mapreduce.jobhistory.JobHistoryEventHandler:\", \"Error\", \"writing\", \"History\", \"Event:\", \"org.apache.hadoop.mapreduce.jobhistory.TaskAttemptUnsuccessfulCompletionEvent@7317849d\"]}, {\"date\": \"2015-10-18\", \"hour\": \"18:06:26,139\", \"label\": \"ERROR\", \"bracketsInfo\": \"eventHandlingThread\", \"hasError\": false, \"hasException\": true, \"func\": \"yarn\", \"message\": [\"[eventHandlingThread]\", \"org.apache.hadoop.yarn.YarnUncaughtExceptionHandler:\", \"Thread\", \"Thread[eventHandlingThread,5,main]\", \"threw\", \"an\", \"Exception.\"]}, {\"date\": \"2015-10-18\", \"hour\": \"18:06:28,108\", \"label\": \"ERROR\", \"bracketsInfo\": \"RMCommunicator Allocator\", \"hasError\": true, \"hasException\": false, \"func\": \"mapreduce\", \"message\": [\"[RMCommunicator\", \"Allocator]\", \"org.apache.hadoop.mapreduce.v2.app.rm.RMContainerAllocator:\", \"ERROR\", \"IN\", \"CONTACTING\", \"RM.\"]}, {\"date\": \"2015-10-18\", \"hour\": \"18:06:30,108\", \"label\": \"ERROR\", \"bracketsInfo\": \"RMCommunicator Allocator\", \"hasError\": true, \"hasException\": false, \"func\": \"mapreduce\", \"message\": [\"[RMCommunicator\", \"Allocator]\", \"org.apache.hadoop.mapreduce.v2.app.rm.RMContainerAllocator:\", \"ERROR\", \"IN\", \"CONTACTING\", \"RM.\"]}, {\"date\": \"2015-10-18\", \"hour\": \"18:06:32,108\", \"label\": \"ERROR\", \"bracketsInfo\": \"RMCommunicator Allocator\", \"hasError\": true, \"hasException\": false, \"func\": \"mapreduce\", \"message\": [\"[RMCommunicator\", \"Allocator]\", \"org.apache.hadoop.mapreduce.v2.app.rm.RMContainerAllocator:\", \"ERROR\", \"IN\", \"CONTACTING\", \"RM.\"]}, {\"date\": \"2015-10-18\", \"hour\": \"18:06:34,108\", \"label\": \"ERROR\", \"bracketsInfo\": \"RMCommunicator Allocator\", \"hasError\": true, \"hasException\": false, \"func\": \"mapreduce\", \"message\": [\"[RMCommunicator\", \"Allocator]\", \"org.apache.hadoop.mapreduce.v2.app.rm.RMContainerAllocator:\", \"ERROR\", \"IN\", \"CONTACTING\", \"RM.\"]}, {\"date\": \"2015-10-18\", \"hour\": \"18:06:36,108\", \"label\": \"ERROR\", \"bracketsInfo\": \"RMCommunicator Allocator\", \"hasError\": true, \"hasException\": false, \"func\": \"mapreduce\", \"message\": [\"[RMCommunicator\", \"Allocator]\", \"org.apache.hadoop.mapreduce.v2.app.rm.RMContainerAllocator:\", \"ERROR\", \"IN\", \"CONTACTING\", \"RM.\"]}, {\"date\": \"2015-10-18\", \"hour\": \"18:06:38,108\", \"label\": \"ERROR\", \"bracketsInfo\": \"RMCommunicator Allocator\", \"hasError\": true, \"hasException\": false, \"func\": \"mapreduce\", \"message\": [\"[RMCommunicator\", \"Allocator]\", \"org.apache.hadoop.mapreduce.v2.app.rm.RMContainerAllocator:\", \"ERROR\", \"IN\", \"CONTACTING\", \"RM.\"]}, {\"date\": \"2015-10-18\", \"hour\": \"18:06:40,108\", \"label\": \"ERROR\", \"bracketsInfo\": \"RMCommunicator Allocator\", \"hasError\": true, \"hasException\": false, \"func\": \"mapreduce\", \"message\": [\"[RMCommunicator\", \"Allocator]\", \"org.apache.hadoop.mapreduce.v2.app.rm.RMContainerAllocator:\", \"ERROR\", \"IN\", \"CONTACTING\", \"RM.\"]}, {\"date\": \"2015-10-18\", \"hour\": \"18:06:42,109\", \"label\": \"ERROR\", \"bracketsInfo\": \"RMCommunicator Allocator\", \"hasError\": true, \"hasException\": false, \"func\": \"mapreduce\", \"message\": [\"[RMCommunicator\", \"Allocator]\", \"org.apache.hadoop.mapreduce.v2.app.rm.RMContainerAllocator:\", \"ERROR\", \"IN\", \"CONTACTING\", \"RM.\"]}, {\"date\": \"2015-10-18\", \"hour\": \"18:06:44,124\", \"label\": \"ERROR\", \"bracketsInfo\": \"RMCommunicator Allocator\", \"hasError\": true, \"hasException\": false, \"func\": \"mapreduce\", \"message\": [\"[RMCommunicator\", \"Allocator]\", \"org.apache.hadoop.mapreduce.v2.app.rm.RMContainerAllocator:\", \"ERROR\", \"IN\", \"CONTACTING\", \"RM.\"]}, {\"date\": \"2015-10-18\", \"hour\": \"18:06:46,124\", \"label\": \"ERROR\", \"bracketsInfo\": \"RMCommunicator Allocator\", \"hasError\": true, \"hasException\": false, \"func\": \"mapreduce\", \"message\": [\"[RMCommunicator\", \"Allocator]\", \"org.apache.hadoop.mapreduce.v2.app.rm.RMContainerAllocator:\", \"ERROR\", \"IN\", \"CONTACTING\", \"RM.\"]}, {\"date\": \"2015-10-18\", \"hour\": \"18:06:48,140\", \"label\": \"ERROR\", \"bracketsInfo\": \"RMCommunicator Allocator\", \"hasError\": true, \"hasException\": false, \"func\": \"mapreduce\", \"message\": [\"[RMCommunicator\", \"Allocator]\", \"org.apache.hadoop.mapreduce.v2.app.rm.RMContainerAllocator:\", \"ERROR\", \"IN\", \"CONTACTING\", \"RM.\"]}, {\"date\": \"2015-10-18\", \"hour\": \"18:06:50,140\", \"label\": \"ERROR\", \"bracketsInfo\": \"RMCommunicator Allocator\", \"hasError\": true, \"hasException\": false, \"func\": \"mapreduce\", \"message\": [\"[RMCommunicator\", \"Allocator]\", \"org.apache.hadoop.mapreduce.v2.app.rm.RMContainerAllocator:\", \"ERROR\", \"IN\", \"CONTACTING\", \"RM.\"]}, {\"date\": \"2015-10-18\", \"hour\": \"18:06:52,140\", \"label\": \"ERROR\", \"bracketsInfo\": \"RMCommunicator Allocator\", \"hasError\": true, \"hasException\": false, \"func\": \"mapreduce\", \"message\": [\"[RMCommunicator\", \"Allocator]\", \"org.apache.hadoop.mapreduce.v2.app.rm.RMContainerAllocator:\", \"ERROR\", \"IN\", \"CONTACTING\", \"RM.\"]}, {\"date\": \"2015-10-18\", \"hour\": \"18:06:54,141\", \"label\": \"ERROR\", \"bracketsInfo\": \"RMCommunicator Allocator\", \"hasError\": true, \"hasException\": false, \"func\": \"mapreduce\", \"message\": [\"[RMCommunicator\", \"Allocator]\", \"org.apache.hadoop.mapreduce.v2.app.rm.RMContainerAllocator:\", \"ERROR\", \"IN\", \"CONTACTING\", \"RM.\"]}, {\"date\": \"2015-10-18\", \"hour\": \"18:06:56,156\", \"label\": \"ERROR\", \"bracketsInfo\": \"RMCommunicator Allocator\", \"hasError\": true, \"hasException\": false, \"func\": \"mapreduce\", \"message\": [\"[RMCommunicator\", \"Allocator]\", \"org.apache.hadoop.mapreduce.v2.app.rm.RMContainerAllocator:\", \"ERROR\", \"IN\", \"CONTACTING\", \"RM.\"]}, {\"date\": \"2015-10-18\", \"hour\": \"18:06:58,156\", \"label\": \"ERROR\", \"bracketsInfo\": \"RMCommunicator Allocator\", \"hasError\": true, \"hasException\": false, \"func\": \"mapreduce\", \"message\": [\"[RMCommunicator\", \"Allocator]\", \"org.apache.hadoop.mapreduce.v2.app.rm.RMContainerAllocator:\", \"ERROR\", \"IN\", \"CONTACTING\", \"RM.\"]}, {\"date\": \"2015-10-18\", \"hour\": \"18:07:00,188\", \"label\": \"ERROR\", \"bracketsInfo\": \"RMCommunicator Allocator\", \"hasError\": true, \"hasException\": false, \"func\": \"mapreduce\", \"message\": [\"[RMCommunicator\", \"Allocator]\", \"org.apache.hadoop.mapreduce.v2.app.rm.RMContainerAllocator:\", \"ERROR\", \"IN\", \"CONTACTING\", \"RM.\"]}, {\"date\": \"2015-10-18\", \"hour\": \"18:07:02,188\", \"label\": \"ERROR\", \"bracketsInfo\": \"RMCommunicator Allocator\", \"hasError\": true, \"hasException\": false, \"func\": \"mapreduce\", \"message\": [\"[RMCommunicator\", \"Allocator]\", \"org.apache.hadoop.mapreduce.v2.app.rm.RMContainerAllocator:\", \"ERROR\", \"IN\", \"CONTACTING\", \"RM.\"]}, {\"date\": \"2015-10-18\", \"hour\": \"18:07:04,188\", \"label\": \"ERROR\", \"bracketsInfo\": \"RMCommunicator Allocator\", \"hasError\": true, \"hasException\": false, \"func\": \"mapreduce\", \"message\": [\"[RMCommunicator\", \"Allocator]\", \"org.apache.hadoop.mapreduce.v2.app.rm.RMContainerAllocator:\", \"ERROR\", \"IN\", \"CONTACTING\", \"RM.\"]}, {\"date\": \"2015-10-18\", \"hour\": \"18:07:06,188\", \"label\": \"ERROR\", \"bracketsInfo\": \"RMCommunicator Allocator\", \"hasError\": true, \"hasException\": false, \"func\": \"mapreduce\", \"message\": [\"[RMCommunicator\", \"Allocator]\", \"org.apache.hadoop.mapreduce.v2.app.rm.RMContainerAllocator:\", \"ERROR\", \"IN\", \"CONTACTING\", \"RM.\"]}, {\"date\": \"2015-10-18\", \"hour\": \"18:07:08,188\", \"label\": \"ERROR\", \"bracketsInfo\": \"RMCommunicator Allocator\", \"hasError\": true, \"hasException\": false, \"func\": \"mapreduce\", \"message\": [\"[RMCommunicator\", \"Allocator]\", \"org.apache.hadoop.mapreduce.v2.app.rm.RMContainerAllocator:\", \"ERROR\", \"IN\", \"CONTACTING\", \"RM.\"]}, {\"date\": \"2015-10-18\", \"hour\": \"18:07:10,188\", \"label\": \"ERROR\", \"bracketsInfo\": \"RMCommunicator Allocator\", \"hasError\": true, \"hasException\": false, \"func\": \"mapreduce\", \"message\": [\"[RMCommunicator\", \"Allocator]\", \"org.apache.hadoop.mapreduce.v2.app.rm.RMContainerAllocator:\", \"ERROR\", \"IN\", \"CONTACTING\", \"RM.\"]}, {\"date\": \"2015-10-18\", \"hour\": \"18:07:12,189\", \"label\": \"ERROR\", \"bracketsInfo\": \"RMCommunicator Allocator\", \"hasError\": true, \"hasException\": false, \"func\": \"mapreduce\", \"message\": [\"[RMCommunicator\", \"Allocator]\", \"org.apache.hadoop.mapreduce.v2.app.rm.RMContainerAllocator:\", \"ERROR\", \"IN\", \"CONTACTING\", \"RM.\"]}, {\"date\": \"2015-10-18\", \"hour\": \"18:07:14,189\", \"label\": \"ERROR\", \"bracketsInfo\": \"RMCommunicator Allocator\", \"hasError\": true, \"hasException\": false, \"func\": \"mapreduce\", \"message\": [\"[RMCommunicator\", \"Allocator]\", \"org.apache.hadoop.mapreduce.v2.app.rm.RMContainerAllocator:\", \"ERROR\", \"IN\", \"CONTACTING\", \"RM.\"]}, {\"date\": \"2015-10-18\", \"hour\": \"18:07:16,189\", \"label\": \"ERROR\", \"bracketsInfo\": \"RMCommunicator Allocator\", \"hasError\": true, \"hasException\": false, \"func\": \"mapreduce\", \"message\": [\"[RMCommunicator\", \"Allocator]\", \"org.apache.hadoop.mapreduce.v2.app.rm.RMContainerAllocator:\", \"ERROR\", \"IN\", \"CONTACTING\", \"RM.\"]}, {\"date\": \"2015-10-18\", \"hour\": \"18:07:18,189\", \"label\": \"ERROR\", \"bracketsInfo\": \"RMCommunicator Allocator\", \"hasError\": true, \"hasException\": false, \"func\": \"mapreduce\", \"message\": [\"[RMCommunicator\", \"Allocator]\", \"org.apache.hadoop.mapreduce.v2.app.rm.RMContainerAllocator:\", \"ERROR\", \"IN\", \"CONTACTING\", \"RM.\"]}, {\"date\": \"2015-10-18\", \"hour\": \"18:07:20,189\", \"label\": \"ERROR\", \"bracketsInfo\": \"RMCommunicator Allocator\", \"hasError\": true, \"hasException\": false, \"func\": \"mapreduce\", \"message\": [\"[RMCommunicator\", \"Allocator]\", \"org.apache.hadoop.mapreduce.v2.app.rm.RMContainerAllocator:\", \"ERROR\", \"IN\", \"CONTACTING\", \"RM.\"]}, {\"date\": \"2015-10-18\", \"hour\": \"18:07:22,189\", \"label\": \"ERROR\", \"bracketsInfo\": \"RMCommunicator Allocator\", \"hasError\": true, \"hasException\": false, \"func\": \"mapreduce\", \"message\": [\"[RMCommunicator\", \"Allocator]\", \"org.apache.hadoop.mapreduce.v2.app.rm.RMContainerAllocator:\", \"ERROR\", \"IN\", \"CONTACTING\", \"RM.\"]}, {\"date\": \"2015-10-18\", \"hour\": \"18:07:24,189\", \"label\": \"ERROR\", \"bracketsInfo\": \"RMCommunicator Allocator\", \"hasError\": true, \"hasException\": false, \"func\": \"mapreduce\", \"message\": [\"[RMCommunicator\", \"Allocator]\", \"org.apache.hadoop.mapreduce.v2.app.rm.RMContainerAllocator:\", \"ERROR\", \"IN\", \"CONTACTING\", \"RM.\"]}, {\"date\": \"2015-10-18\", \"hour\": \"18:07:26,189\", \"label\": \"ERROR\", \"bracketsInfo\": \"RMCommunicator Allocator\", \"hasError\": true, \"hasException\": false, \"func\": \"mapreduce\", \"message\": [\"[RMCommunicator\", \"Allocator]\", \"org.apache.hadoop.mapreduce.v2.app.rm.RMContainerAllocator:\", \"ERROR\", \"IN\", \"CONTACTING\", \"RM.\"]}, {\"date\": \"2015-10-18\", \"hour\": \"18:07:28,189\", \"label\": \"ERROR\", \"bracketsInfo\": \"RMCommunicator Allocator\", \"hasError\": true, \"hasException\": false, \"func\": \"mapreduce\", \"message\": [\"[RMCommunicator\", \"Allocator]\", \"org.apache.hadoop.mapreduce.v2.app.rm.RMContainerAllocator:\", \"ERROR\", \"IN\", \"CONTACTING\", \"RM.\"]}, {\"date\": \"2015-10-18\", \"hour\": \"18:07:30,190\", \"label\": \"ERROR\", \"bracketsInfo\": \"RMCommunicator Allocator\", \"hasError\": true, \"hasException\": false, \"func\": \"mapreduce\", \"message\": [\"[RMCommunicator\", \"Allocator]\", \"org.apache.hadoop.mapreduce.v2.app.rm.RMContainerAllocator:\", \"ERROR\", \"IN\", \"CONTACTING\", \"RM.\"]}, {\"date\": \"2015-10-18\", \"hour\": \"18:07:32,190\", \"label\": \"ERROR\", \"bracketsInfo\": \"RMCommunicator Allocator\", \"hasError\": true, \"hasException\": false, \"func\": \"mapreduce\", \"message\": [\"[RMCommunicator\", \"Allocator]\", \"org.apache.hadoop.mapreduce.v2.app.rm.RMContainerAllocator:\", \"ERROR\", \"IN\", \"CONTACTING\", \"RM.\"]}, {\"date\": \"2015-10-18\", \"hour\": \"18:07:34,205\", \"label\": \"ERROR\", \"bracketsInfo\": \"RMCommunicator Allocator\", \"hasError\": true, \"hasException\": false, \"func\": \"mapreduce\", \"message\": [\"[RMCommunicator\", \"Allocator]\", \"org.apache.hadoop.mapreduce.v2.app.rm.RMContainerAllocator:\", \"ERROR\", \"IN\", \"CONTACTING\", \"RM.\"]}, {\"date\": \"2015-10-18\", \"hour\": \"18:07:36,221\", \"label\": \"ERROR\", \"bracketsInfo\": \"RMCommunicator Allocator\", \"hasError\": true, \"hasException\": false, \"func\": \"mapreduce\", \"message\": [\"[RMCommunicator\", \"Allocator]\", \"org.apache.hadoop.mapreduce.v2.app.rm.RMContainerAllocator:\", \"ERROR\", \"IN\", \"CONTACTING\", \"RM.\"]}, {\"date\": \"2015-10-18\", \"hour\": \"18:07:38,221\", \"label\": \"ERROR\", \"bracketsInfo\": \"RMCommunicator Allocator\", \"hasError\": true, \"hasException\": false, \"func\": \"mapreduce\", \"message\": [\"[RMCommunicator\", \"Allocator]\", \"org.apache.hadoop.mapreduce.v2.app.rm.RMContainerAllocator:\", \"ERROR\", \"IN\", \"CONTACTING\", \"RM.\"]}, {\"date\": \"2015-10-18\", \"hour\": \"18:07:40,221\", \"label\": \"ERROR\", \"bracketsInfo\": \"RMCommunicator Allocator\", \"hasError\": true, \"hasException\": false, \"func\": \"mapreduce\", \"message\": [\"[RMCommunicator\", \"Allocator]\", \"org.apache.hadoop.mapreduce.v2.app.rm.RMContainerAllocator:\", \"ERROR\", \"IN\", \"CONTACTING\", \"RM.\"]}, {\"date\": \"2015-10-18\", \"hour\": \"18:07:42,222\", \"label\": \"ERROR\", \"bracketsInfo\": \"RMCommunicator Allocator\", \"hasError\": true, \"hasException\": false, \"func\": \"mapreduce\", \"message\": [\"[RMCommunicator\", \"Allocator]\", \"org.apache.hadoop.mapreduce.v2.app.rm.RMContainerAllocator:\", \"ERROR\", \"IN\", \"CONTACTING\", \"RM.\"]}, {\"date\": \"2015-10-18\", \"hour\": \"18:07:44,222\", \"label\": \"ERROR\", \"bracketsInfo\": \"RMCommunicator Allocator\", \"hasError\": true, \"hasException\": false, \"func\": \"mapreduce\", \"message\": [\"[RMCommunicator\", \"Allocator]\", \"org.apache.hadoop.mapreduce.v2.app.rm.RMContainerAllocator:\", \"ERROR\", \"IN\", \"CONTACTING\", \"RM.\"]}, {\"date\": \"2015-10-18\", \"hour\": \"18:07:46,222\", \"label\": \"ERROR\", \"bracketsInfo\": \"RMCommunicator Allocator\", \"hasError\": true, \"hasException\": false, \"func\": \"mapreduce\", \"message\": [\"[RMCommunicator\", \"Allocator]\", \"org.apache.hadoop.mapreduce.v2.app.rm.RMContainerAllocator:\", \"ERROR\", \"IN\", \"CONTACTING\", \"RM.\"]}, {\"date\": \"2015-10-18\", \"hour\": \"18:07:48,238\", \"label\": \"ERROR\", \"bracketsInfo\": \"RMCommunicator Allocator\", \"hasError\": true, \"hasException\": false, \"func\": \"mapreduce\", \"message\": [\"[RMCommunicator\", \"Allocator]\", \"org.apache.hadoop.mapreduce.v2.app.rm.RMContainerAllocator:\", \"ERROR\", \"IN\", \"CONTACTING\", \"RM.\"]}, {\"date\": \"2015-10-18\", \"hour\": \"18:07:50,238\", \"label\": \"ERROR\", \"bracketsInfo\": \"RMCommunicator Allocator\", \"hasError\": true, \"hasException\": false, \"func\": \"mapreduce\", \"message\": [\"[RMCommunicator\", \"Allocator]\", \"org.apache.hadoop.mapreduce.v2.app.rm.RMContainerAllocator:\", \"ERROR\", \"IN\", \"CONTACTING\", \"RM.\"]}, {\"date\": \"2015-10-18\", \"hour\": \"18:07:52,238\", \"label\": \"ERROR\", \"bracketsInfo\": \"RMCommunicator Allocator\", \"hasError\": true, \"hasException\": false, \"func\": \"mapreduce\", \"message\": [\"[RMCommunicator\", \"Allocator]\", \"org.apache.hadoop.mapreduce.v2.app.rm.RMContainerAllocator:\", \"ERROR\", \"IN\", \"CONTACTING\", \"RM.\"]}, {\"date\": \"2015-10-18\", \"hour\": \"18:07:54,238\", \"label\": \"ERROR\", \"bracketsInfo\": \"RMCommunicator Allocator\", \"hasError\": true, \"hasException\": false, \"func\": \"mapreduce\", \"message\": [\"[RMCommunicator\", \"Allocator]\", \"org.apache.hadoop.mapreduce.v2.app.rm.RMContainerAllocator:\", \"ERROR\", \"IN\", \"CONTACTING\", \"RM.\"]}, {\"date\": \"2015-10-18\", \"hour\": \"18:07:56,238\", \"label\": \"ERROR\", \"bracketsInfo\": \"RMCommunicator Allocator\", \"hasError\": true, \"hasException\": false, \"func\": \"mapreduce\", \"message\": [\"[RMCommunicator\", \"Allocator]\", \"org.apache.hadoop.mapreduce.v2.app.rm.RMContainerAllocator:\", \"ERROR\", \"IN\", \"CONTACTING\", \"RM.\"]}, {\"date\": \"2015-10-18\", \"hour\": \"18:07:58,238\", \"label\": \"ERROR\", \"bracketsInfo\": \"RMCommunicator Allocator\", \"hasError\": true, \"hasException\": false, \"func\": \"mapreduce\", \"message\": [\"[RMCommunicator\", \"Allocator]\", \"org.apache.hadoop.mapreduce.v2.app.rm.RMContainerAllocator:\", \"ERROR\", \"IN\", \"CONTACTING\", \"RM.\"]}, {\"date\": \"2015-10-18\", \"hour\": \"18:08:00,238\", \"label\": \"ERROR\", \"bracketsInfo\": \"RMCommunicator Allocator\", \"hasError\": true, \"hasException\": false, \"func\": \"mapreduce\", \"message\": [\"[RMCommunicator\", \"Allocator]\", \"org.apache.hadoop.mapreduce.v2.app.rm.RMContainerAllocator:\", \"ERROR\", \"IN\", \"CONTACTING\", \"RM.\"]}, {\"date\": \"2015-10-18\", \"hour\": \"18:08:02,238\", \"label\": \"ERROR\", \"bracketsInfo\": \"RMCommunicator Allocator\", \"hasError\": true, \"hasException\": false, \"func\": \"mapreduce\", \"message\": [\"[RMCommunicator\", \"Allocator]\", \"org.apache.hadoop.mapreduce.v2.app.rm.RMContainerAllocator:\", \"ERROR\", \"IN\", \"CONTACTING\", \"RM.\"]}, {\"date\": \"2015-10-18\", \"hour\": \"18:08:04,239\", \"label\": \"ERROR\", \"bracketsInfo\": \"RMCommunicator Allocator\", \"hasError\": true, \"hasException\": false, \"func\": \"mapreduce\", \"message\": [\"[RMCommunicator\", \"Allocator]\", \"org.apache.hadoop.mapreduce.v2.app.rm.RMContainerAllocator:\", \"ERROR\", \"IN\", \"CONTACTING\", \"RM.\"]}, {\"date\": \"2015-10-18\", \"hour\": \"18:08:06,239\", \"label\": \"ERROR\", \"bracketsInfo\": \"RMCommunicator Allocator\", \"hasError\": true, \"hasException\": false, \"func\": \"mapreduce\", \"message\": [\"[RMCommunicator\", \"Allocator]\", \"org.apache.hadoop.mapreduce.v2.app.rm.RMContainerAllocator:\", \"ERROR\", \"IN\", \"CONTACTING\", \"RM.\"]}, {\"date\": \"2015-10-18\", \"hour\": \"18:08:08,239\", \"label\": \"ERROR\", \"bracketsInfo\": \"RMCommunicator Allocator\", \"hasError\": true, \"hasException\": false, \"func\": \"mapreduce\", \"message\": [\"[RMCommunicator\", \"Allocator]\", \"org.apache.hadoop.mapreduce.v2.app.rm.RMContainerAllocator:\", \"ERROR\", \"IN\", \"CONTACTING\", \"RM.\"]}, {\"date\": \"2015-10-18\", \"hour\": \"18:08:10,239\", \"label\": \"ERROR\", \"bracketsInfo\": \"RMCommunicator Allocator\", \"hasError\": true, \"hasException\": false, \"func\": \"mapreduce\", \"message\": [\"[RMCommunicator\", \"Allocator]\", \"org.apache.hadoop.mapreduce.v2.app.rm.RMContainerAllocator:\", \"ERROR\", \"IN\", \"CONTACTING\", \"RM.\"]}, {\"date\": \"2015-10-18\", \"hour\": \"18:08:12,239\", \"label\": \"ERROR\", \"bracketsInfo\": \"RMCommunicator Allocator\", \"hasError\": true, \"hasException\": false, \"func\": \"mapreduce\", \"message\": [\"[RMCommunicator\", \"Allocator]\", \"org.apache.hadoop.mapreduce.v2.app.rm.RMContainerAllocator:\", \"ERROR\", \"IN\", \"CONTACTING\", \"RM.\"]}, {\"date\": \"2015-10-18\", \"hour\": \"18:08:14,239\", \"label\": \"ERROR\", \"bracketsInfo\": \"RMCommunicator Allocator\", \"hasError\": true, \"hasException\": false, \"func\": \"mapreduce\", \"message\": [\"[RMCommunicator\", \"Allocator]\", \"org.apache.hadoop.mapreduce.v2.app.rm.RMContainerAllocator:\", \"ERROR\", \"IN\", \"CONTACTING\", \"RM.\"]}, {\"date\": \"2015-10-18\", \"hour\": \"18:08:16,239\", \"label\": \"ERROR\", \"bracketsInfo\": \"RMCommunicator Allocator\", \"hasError\": true, \"hasException\": false, \"func\": \"mapreduce\", \"message\": [\"[RMCommunicator\", \"Allocator]\", \"org.apache.hadoop.mapreduce.v2.app.rm.RMContainerAllocator:\", \"ERROR\", \"IN\", \"CONTACTING\", \"RM.\"]}, {\"date\": \"2015-10-18\", \"hour\": \"18:08:18,239\", \"label\": \"ERROR\", \"bracketsInfo\": \"RMCommunicator Allocator\", \"hasError\": true, \"hasException\": false, \"func\": \"mapreduce\", \"message\": [\"[RMCommunicator\", \"Allocator]\", \"org.apache.hadoop.mapreduce.v2.app.rm.RMContainerAllocator:\", \"ERROR\", \"IN\", \"CONTACTING\", \"RM.\"]}, {\"date\": \"2015-10-18\", \"hour\": \"18:08:20,255\", \"label\": \"ERROR\", \"bracketsInfo\": \"RMCommunicator Allocator\", \"hasError\": true, \"hasException\": false, \"func\": \"mapreduce\", \"message\": [\"[RMCommunicator\", \"Allocator]\", \"org.apache.hadoop.mapreduce.v2.app.rm.RMContainerAllocator:\", \"ERROR\", \"IN\", \"CONTACTING\", \"RM.\"]}, {\"date\": \"2015-10-18\", \"hour\": \"18:08:22,287\", \"label\": \"ERROR\", \"bracketsInfo\": \"RMCommunicator Allocator\", \"hasError\": true, \"hasException\": false, \"func\": \"mapreduce\", \"message\": [\"[RMCommunicator\", \"Allocator]\", \"org.apache.hadoop.mapreduce.v2.app.rm.RMContainerAllocator:\", \"ERROR\", \"IN\", \"CONTACTING\", \"RM.\"]}, {\"date\": \"2015-10-18\", \"hour\": \"18:08:24,302\", \"label\": \"ERROR\", \"bracketsInfo\": \"RMCommunicator Allocator\", \"hasError\": true, \"hasException\": false, \"func\": \"mapreduce\", \"message\": [\"[RMCommunicator\", \"Allocator]\", \"org.apache.hadoop.mapreduce.v2.app.rm.RMContainerAllocator:\", \"ERROR\", \"IN\", \"CONTACTING\", \"RM.\"]}, {\"date\": \"2015-10-18\", \"hour\": \"18:08:26,302\", \"label\": \"ERROR\", \"bracketsInfo\": \"RMCommunicator Allocator\", \"hasError\": true, \"hasException\": false, \"func\": \"mapreduce\", \"message\": [\"[RMCommunicator\", \"Allocator]\", \"org.apache.hadoop.mapreduce.v2.app.rm.RMContainerAllocator:\", \"ERROR\", \"IN\", \"CONTACTING\", \"RM.\"]}, {\"date\": \"2015-10-18\", \"hour\": \"18:08:28,303\", \"label\": \"ERROR\", \"bracketsInfo\": \"RMCommunicator Allocator\", \"hasError\": true, \"hasException\": false, \"func\": \"mapreduce\", \"message\": [\"[RMCommunicator\", \"Allocator]\", \"org.apache.hadoop.mapreduce.v2.app.rm.RMContainerAllocator:\", \"ERROR\", \"IN\", \"CONTACTING\", \"RM.\"]}, {\"date\": \"2015-10-18\", \"hour\": \"18:08:30,303\", \"label\": \"ERROR\", \"bracketsInfo\": \"RMCommunicator Allocator\", \"hasError\": true, \"hasException\": false, \"func\": \"mapreduce\", \"message\": [\"[RMCommunicator\", \"Allocator]\", \"org.apache.hadoop.mapreduce.v2.app.rm.RMContainerAllocator:\", \"ERROR\", \"IN\", \"CONTACTING\", \"RM.\"]}, {\"date\": \"2015-10-18\", \"hour\": \"18:08:32,334\", \"label\": \"ERROR\", \"bracketsInfo\": \"RMCommunicator Allocator\", \"hasError\": true, \"hasException\": false, \"func\": \"mapreduce\", \"message\": [\"[RMCommunicator\", \"Allocator]\", \"org.apache.hadoop.mapreduce.v2.app.rm.RMContainerAllocator:\", \"ERROR\", \"IN\", \"CONTACTING\", \"RM.\"]}, {\"date\": \"2015-10-18\", \"hour\": \"18:08:34,334\", \"label\": \"ERROR\", \"bracketsInfo\": \"RMCommunicator Allocator\", \"hasError\": true, \"hasException\": false, \"func\": \"mapreduce\", \"message\": [\"[RMCommunicator\", \"Allocator]\", \"org.apache.hadoop.mapreduce.v2.app.rm.RMContainerAllocator:\", \"ERROR\", \"IN\", \"CONTACTING\", \"RM.\"]}, {\"date\": \"2015-10-18\", \"hour\": \"18:08:36,334\", \"label\": \"ERROR\", \"bracketsInfo\": \"RMCommunicator Allocator\", \"hasError\": true, \"hasException\": false, \"func\": \"mapreduce\", \"message\": [\"[RMCommunicator\", \"Allocator]\", \"org.apache.hadoop.mapreduce.v2.app.rm.RMContainerAllocator:\", \"ERROR\", \"IN\", \"CONTACTING\", \"RM.\"]}, {\"date\": \"2015-10-18\", \"hour\": \"18:08:38,334\", \"label\": \"ERROR\", \"bracketsInfo\": \"RMCommunicator Allocator\", \"hasError\": true, \"hasException\": false, \"func\": \"mapreduce\", \"message\": [\"[RMCommunicator\", \"Allocator]\", \"org.apache.hadoop.mapreduce.v2.app.rm.RMContainerAllocator:\", \"ERROR\", \"IN\", \"CONTACTING\", \"RM.\"]}, {\"date\": \"2015-10-18\", \"hour\": \"18:08:40,334\", \"label\": \"ERROR\", \"bracketsInfo\": \"RMCommunicator Allocator\", \"hasError\": true, \"hasException\": false, \"func\": \"mapreduce\", \"message\": [\"[RMCommunicator\", \"Allocator]\", \"org.apache.hadoop.mapreduce.v2.app.rm.RMContainerAllocator:\", \"ERROR\", \"IN\", \"CONTACTING\", \"RM.\"]}, {\"date\": \"2015-10-18\", \"hour\": \"18:08:42,366\", \"label\": \"ERROR\", \"bracketsInfo\": \"RMCommunicator Allocator\", \"hasError\": true, \"hasException\": false, \"func\": \"mapreduce\", \"message\": [\"[RMCommunicator\", \"Allocator]\", \"org.apache.hadoop.mapreduce.v2.app.rm.RMContainerAllocator:\", \"ERROR\", \"IN\", \"CONTACTING\", \"RM.\"]}, {\"date\": \"2015-10-18\", \"hour\": \"18:08:44,366\", \"label\": \"ERROR\", \"bracketsInfo\": \"RMCommunicator Allocator\", \"hasError\": true, \"hasException\": false, \"func\": \"mapreduce\", \"message\": [\"[RMCommunicator\", \"Allocator]\", \"org.apache.hadoop.mapreduce.v2.app.rm.RMContainerAllocator:\", \"ERROR\", \"IN\", \"CONTACTING\", \"RM.\"]}, {\"date\": \"2015-10-18\", \"hour\": \"18:08:46,366\", \"label\": \"ERROR\", \"bracketsInfo\": \"RMCommunicator Allocator\", \"hasError\": true, \"hasException\": false, \"func\": \"mapreduce\", \"message\": [\"[RMCommunicator\", \"Allocator]\", \"org.apache.hadoop.mapreduce.v2.app.rm.RMContainerAllocator:\", \"ERROR\", \"IN\", \"CONTACTING\", \"RM.\"]}, {\"date\": \"2015-10-18\", \"hour\": \"18:08:48,382\", \"label\": \"ERROR\", \"bracketsInfo\": \"RMCommunicator Allocator\", \"hasError\": true, \"hasException\": false, \"func\": \"mapreduce\", \"message\": [\"[RMCommunicator\", \"Allocator]\", \"org.apache.hadoop.mapreduce.v2.app.rm.RMContainerAllocator:\", \"ERROR\", \"IN\", \"CONTACTING\", \"RM.\"]}, {\"date\": \"2015-10-18\", \"hour\": \"18:08:50,398\", \"label\": \"ERROR\", \"bracketsInfo\": \"RMCommunicator Allocator\", \"hasError\": true, \"hasException\": false, \"func\": \"mapreduce\", \"message\": [\"[RMCommunicator\", \"Allocator]\", \"org.apache.hadoop.mapreduce.v2.app.rm.RMContainerAllocator:\", \"ERROR\", \"IN\", \"CONTACTING\", \"RM.\"]}, {\"date\": \"2015-10-18\", \"hour\": \"18:08:52,429\", \"label\": \"ERROR\", \"bracketsInfo\": \"RMCommunicator Allocator\", \"hasError\": true, \"hasException\": false, \"func\": \"mapreduce\", \"message\": [\"[RMCommunicator\", \"Allocator]\", \"org.apache.hadoop.mapreduce.v2.app.rm.RMContainerAllocator:\", \"ERROR\", \"IN\", \"CONTACTING\", \"RM.\"]}, {\"date\": \"2015-10-18\", \"hour\": \"18:08:54,429\", \"label\": \"ERROR\", \"bracketsInfo\": \"RMCommunicator Allocator\", \"hasError\": true, \"hasException\": false, \"func\": \"mapreduce\", \"message\": [\"[RMCommunicator\", \"Allocator]\", \"org.apache.hadoop.mapreduce.v2.app.rm.RMContainerAllocator:\", \"ERROR\", \"IN\", \"CONTACTING\", \"RM.\"]}, {\"date\": \"2015-10-18\", \"hour\": \"18:08:56,429\", \"label\": \"ERROR\", \"bracketsInfo\": \"RMCommunicator Allocator\", \"hasError\": true, \"hasException\": false, \"func\": \"mapreduce\", \"message\": [\"[RMCommunicator\", \"Allocator]\", \"org.apache.hadoop.mapreduce.v2.app.rm.RMContainerAllocator:\", \"ERROR\", \"IN\", \"CONTACTING\", \"RM.\"]}, {\"date\": \"2015-10-18\", \"hour\": \"18:08:58,429\", \"label\": \"ERROR\", \"bracketsInfo\": \"RMCommunicator Allocator\", \"hasError\": true, \"hasException\": false, \"func\": \"mapreduce\", \"message\": [\"[RMCommunicator\", \"Allocator]\", \"org.apache.hadoop.mapreduce.v2.app.rm.RMContainerAllocator:\", \"ERROR\", \"IN\", \"CONTACTING\", \"RM.\"]}, {\"date\": \"2015-10-18\", \"hour\": \"18:09:00,429\", \"label\": \"ERROR\", \"bracketsInfo\": \"RMCommunicator Allocator\", \"hasError\": true, \"hasException\": false, \"func\": \"mapreduce\", \"message\": [\"[RMCommunicator\", \"Allocator]\", \"org.apache.hadoop.mapreduce.v2.app.rm.RMContainerAllocator:\", \"ERROR\", \"IN\", \"CONTACTING\", \"RM.\"]}, {\"date\": \"2015-10-18\", \"hour\": \"18:09:02,461\", \"label\": \"ERROR\", \"bracketsInfo\": \"RMCommunicator Allocator\", \"hasError\": true, \"hasException\": false, \"func\": \"mapreduce\", \"message\": [\"[RMCommunicator\", \"Allocator]\", \"org.apache.hadoop.mapreduce.v2.app.rm.RMContainerAllocator:\", \"ERROR\", \"IN\", \"CONTACTING\", \"RM.\"]}, {\"date\": \"2015-10-18\", \"hour\": \"18:09:04,461\", \"label\": \"ERROR\", \"bracketsInfo\": \"RMCommunicator Allocator\", \"hasError\": true, \"hasException\": false, \"func\": \"mapreduce\", \"message\": [\"[RMCommunicator\", \"Allocator]\", \"org.apache.hadoop.mapreduce.v2.app.rm.RMContainerAllocator:\", \"ERROR\", \"IN\", \"CONTACTING\", \"RM.\"]}, {\"date\": \"2015-10-18\", \"hour\": \"18:09:06,461\", \"label\": \"ERROR\", \"bracketsInfo\": \"RMCommunicator Allocator\", \"hasError\": true, \"hasException\": false, \"func\": \"mapreduce\", \"message\": [\"[RMCommunicator\", \"Allocator]\", \"org.apache.hadoop.mapreduce.v2.app.rm.RMContainerAllocator:\", \"ERROR\", \"IN\", \"CONTACTING\", \"RM.\"]}, {\"date\": \"2015-10-18\", \"hour\": \"18:09:08,461\", \"label\": \"ERROR\", \"bracketsInfo\": \"RMCommunicator Allocator\", \"hasError\": true, \"hasException\": false, \"func\": \"mapreduce\", \"message\": [\"[RMCommunicator\", \"Allocator]\", \"org.apache.hadoop.mapreduce.v2.app.rm.RMContainerAllocator:\", \"ERROR\", \"IN\", \"CONTACTING\", \"RM.\"]}, {\"date\": \"2015-10-18\", \"hour\": \"18:09:10,461\", \"label\": \"ERROR\", \"bracketsInfo\": \"RMCommunicator Allocator\", \"hasError\": true, \"hasException\": false, \"func\": \"mapreduce\", \"message\": [\"[RMCommunicator\", \"Allocator]\", \"org.apache.hadoop.mapreduce.v2.app.rm.RMContainerAllocator:\", \"ERROR\", \"IN\", \"CONTACTING\", \"RM.\"]}, {\"date\": \"2015-10-18\", \"hour\": \"18:09:12,461\", \"label\": \"ERROR\", \"bracketsInfo\": \"RMCommunicator Allocator\", \"hasError\": true, \"hasException\": false, \"func\": \"mapreduce\", \"message\": [\"[RMCommunicator\", \"Allocator]\", \"org.apache.hadoop.mapreduce.v2.app.rm.RMContainerAllocator:\", \"ERROR\", \"IN\", \"CONTACTING\", \"RM.\"]}, {\"date\": \"2015-10-18\", \"hour\": \"18:09:14,462\", \"label\": \"ERROR\", \"bracketsInfo\": \"RMCommunicator Allocator\", \"hasError\": true, \"hasException\": false, \"func\": \"mapreduce\", \"message\": [\"[RMCommunicator\", \"Allocator]\", \"org.apache.hadoop.mapreduce.v2.app.rm.RMContainerAllocator:\", \"ERROR\", \"IN\", \"CONTACTING\", \"RM.\"]}, {\"date\": \"2015-10-18\", \"hour\": \"18:09:16,462\", \"label\": \"ERROR\", \"bracketsInfo\": \"RMCommunicator Allocator\", \"hasError\": true, \"hasException\": false, \"func\": \"mapreduce\", \"message\": [\"[RMCommunicator\", \"Allocator]\", \"org.apache.hadoop.mapreduce.v2.app.rm.RMContainerAllocator:\", \"ERROR\", \"IN\", \"CONTACTING\", \"RM.\"]}, {\"date\": \"2015-10-18\", \"hour\": \"18:09:18,462\", \"label\": \"ERROR\", \"bracketsInfo\": \"RMCommunicator Allocator\", \"hasError\": true, \"hasException\": false, \"func\": \"mapreduce\", \"message\": [\"[RMCommunicator\", \"Allocator]\", \"org.apache.hadoop.mapreduce.v2.app.rm.RMContainerAllocator:\", \"ERROR\", \"IN\", \"CONTACTING\", \"RM.\"]}, {\"date\": \"2015-10-18\", \"hour\": \"18:09:20,462\", \"label\": \"ERROR\", \"bracketsInfo\": \"RMCommunicator Allocator\", \"hasError\": true, \"hasException\": false, \"func\": \"mapreduce\", \"message\": [\"[RMCommunicator\", \"Allocator]\", \"org.apache.hadoop.mapreduce.v2.app.rm.RMContainerAllocator:\", \"ERROR\", \"IN\", \"CONTACTING\", \"RM.\"]}, {\"date\": \"2015-10-18\", \"hour\": \"18:09:22,462\", \"label\": \"ERROR\", \"bracketsInfo\": \"RMCommunicator Allocator\", \"hasError\": true, \"hasException\": false, \"func\": \"mapreduce\", \"message\": [\"[RMCommunicator\", \"Allocator]\", \"org.apache.hadoop.mapreduce.v2.app.rm.RMContainerAllocator:\", \"ERROR\", \"IN\", \"CONTACTING\", \"RM.\"]}, {\"date\": \"2015-10-18\", \"hour\": \"18:09:24,462\", \"label\": \"ERROR\", \"bracketsInfo\": \"RMCommunicator Allocator\", \"hasError\": true, \"hasException\": false, \"func\": \"mapreduce\", \"message\": [\"[RMCommunicator\", \"Allocator]\", \"org.apache.hadoop.mapreduce.v2.app.rm.RMContainerAllocator:\", \"ERROR\", \"IN\", \"CONTACTING\", \"RM.\"]}, {\"date\": \"2015-10-18\", \"hour\": \"18:09:26,462\", \"label\": \"ERROR\", \"bracketsInfo\": \"RMCommunicator Allocator\", \"hasError\": true, \"hasException\": false, \"func\": \"mapreduce\", \"message\": [\"[RMCommunicator\", \"Allocator]\", \"org.apache.hadoop.mapreduce.v2.app.rm.RMContainerAllocator:\", \"ERROR\", \"IN\", \"CONTACTING\", \"RM.\"]}, {\"date\": \"2015-10-18\", \"hour\": \"18:09:28,462\", \"label\": \"ERROR\", \"bracketsInfo\": \"RMCommunicator Allocator\", \"hasError\": true, \"hasException\": false, \"func\": \"mapreduce\", \"message\": [\"[RMCommunicator\", \"Allocator]\", \"org.apache.hadoop.mapreduce.v2.app.rm.RMContainerAllocator:\", \"ERROR\", \"IN\", \"CONTACTING\", \"RM.\"]}, {\"date\": \"2015-10-18\", \"hour\": \"18:09:30,463\", \"label\": \"ERROR\", \"bracketsInfo\": \"RMCommunicator Allocator\", \"hasError\": true, \"hasException\": false, \"func\": \"mapreduce\", \"message\": [\"[RMCommunicator\", \"Allocator]\", \"org.apache.hadoop.mapreduce.v2.app.rm.RMContainerAllocator:\", \"ERROR\", \"IN\", \"CONTACTING\", \"RM.\"]}, {\"date\": \"2015-10-18\", \"hour\": \"18:09:32,463\", \"label\": \"ERROR\", \"bracketsInfo\": \"RMCommunicator Allocator\", \"hasError\": true, \"hasException\": false, \"func\": \"mapreduce\", \"message\": [\"[RMCommunicator\", \"Allocator]\", \"org.apache.hadoop.mapreduce.v2.app.rm.RMContainerAllocator:\", \"ERROR\", \"IN\", \"CONTACTING\", \"RM.\"]}, {\"date\": \"2015-10-18\", \"hour\": \"18:09:34,463\", \"label\": \"ERROR\", \"bracketsInfo\": \"RMCommunicator Allocator\", \"hasError\": true, \"hasException\": false, \"func\": \"mapreduce\", \"message\": [\"[RMCommunicator\", \"Allocator]\", \"org.apache.hadoop.mapreduce.v2.app.rm.RMContainerAllocator:\", \"ERROR\", \"IN\", \"CONTACTING\", \"RM.\"]}, {\"date\": \"2015-10-18\", \"hour\": \"18:09:36,463\", \"label\": \"ERROR\", \"bracketsInfo\": \"RMCommunicator Allocator\", \"hasError\": true, \"hasException\": false, \"func\": \"mapreduce\", \"message\": [\"[RMCommunicator\", \"Allocator]\", \"org.apache.hadoop.mapreduce.v2.app.rm.RMContainerAllocator:\", \"ERROR\", \"IN\", \"CONTACTING\", \"RM.\"]}, {\"date\": \"2015-10-18\", \"hour\": \"18:09:38,463\", \"label\": \"ERROR\", \"bracketsInfo\": \"RMCommunicator Allocator\", \"hasError\": true, \"hasException\": false, \"func\": \"mapreduce\", \"message\": [\"[RMCommunicator\", \"Allocator]\", \"org.apache.hadoop.mapreduce.v2.app.rm.RMContainerAllocator:\", \"ERROR\", \"IN\", \"CONTACTING\", \"RM.\"]}, {\"date\": \"2015-10-18\", \"hour\": \"18:09:40,479\", \"label\": \"ERROR\", \"bracketsInfo\": \"RMCommunicator Allocator\", \"hasError\": true, \"hasException\": false, \"func\": \"mapreduce\", \"message\": [\"[RMCommunicator\", \"Allocator]\", \"org.apache.hadoop.mapreduce.v2.app.rm.RMContainerAllocator:\", \"ERROR\", \"IN\", \"CONTACTING\", \"RM.\"]}, {\"date\": \"2015-10-18\", \"hour\": \"18:09:42,479\", \"label\": \"ERROR\", \"bracketsInfo\": \"RMCommunicator Allocator\", \"hasError\": true, \"hasException\": false, \"func\": \"mapreduce\", \"message\": [\"[RMCommunicator\", \"Allocator]\", \"org.apache.hadoop.mapreduce.v2.app.rm.RMContainerAllocator:\", \"ERROR\", \"IN\", \"CONTACTING\", \"RM.\"]}, {\"date\": \"2015-10-18\", \"hour\": \"18:09:44,479\", \"label\": \"ERROR\", \"bracketsInfo\": \"RMCommunicator Allocator\", \"hasError\": true, \"hasException\": false, \"func\": \"mapreduce\", \"message\": [\"[RMCommunicator\", \"Allocator]\", \"org.apache.hadoop.mapreduce.v2.app.rm.RMContainerAllocator:\", \"ERROR\", \"IN\", \"CONTACTING\", \"RM.\"]}, {\"date\": \"2015-10-18\", \"hour\": \"18:09:46,495\", \"label\": \"ERROR\", \"bracketsInfo\": \"RMCommunicator Allocator\", \"hasError\": true, \"hasException\": false, \"func\": \"mapreduce\", \"message\": [\"[RMCommunicator\", \"Allocator]\", \"org.apache.hadoop.mapreduce.v2.app.rm.RMContainerAllocator:\", \"ERROR\", \"IN\", \"CONTACTING\", \"RM.\"]}, {\"date\": \"2015-10-18\", \"hour\": \"18:09:48,510\", \"label\": \"ERROR\", \"bracketsInfo\": \"RMCommunicator Allocator\", \"hasError\": true, \"hasException\": false, \"func\": \"mapreduce\", \"message\": [\"[RMCommunicator\", \"Allocator]\", \"org.apache.hadoop.mapreduce.v2.app.rm.RMContainerAllocator:\", \"ERROR\", \"IN\", \"CONTACTING\", \"RM.\"]}, {\"date\": \"2015-10-18\", \"hour\": \"18:09:50,511\", \"label\": \"ERROR\", \"bracketsInfo\": \"RMCommunicator Allocator\", \"hasError\": true, \"hasException\": false, \"func\": \"mapreduce\", \"message\": [\"[RMCommunicator\", \"Allocator]\", \"org.apache.hadoop.mapreduce.v2.app.rm.RMContainerAllocator:\", \"ERROR\", \"IN\", \"CONTACTING\", \"RM.\"]}, {\"date\": \"2015-10-18\", \"hour\": \"18:09:52,511\", \"label\": \"ERROR\", \"bracketsInfo\": \"RMCommunicator Allocator\", \"hasError\": true, \"hasException\": false, \"func\": \"mapreduce\", \"message\": [\"[RMCommunicator\", \"Allocator]\", \"org.apache.hadoop.mapreduce.v2.app.rm.RMContainerAllocator:\", \"ERROR\", \"IN\", \"CONTACTING\", \"RM.\"]}, {\"date\": \"2015-10-18\", \"hour\": \"18:09:54,511\", \"label\": \"ERROR\", \"bracketsInfo\": \"RMCommunicator Allocator\", \"hasError\": true, \"hasException\": false, \"func\": \"mapreduce\", \"message\": [\"[RMCommunicator\", \"Allocator]\", \"org.apache.hadoop.mapreduce.v2.app.rm.RMContainerAllocator:\", \"ERROR\", \"IN\", \"CONTACTING\", \"RM.\"]}, {\"date\": \"2015-10-18\", \"hour\": \"18:09:56,511\", \"label\": \"ERROR\", \"bracketsInfo\": \"RMCommunicator Allocator\", \"hasError\": true, \"hasException\": false, \"func\": \"mapreduce\", \"message\": [\"[RMCommunicator\", \"Allocator]\", \"org.apache.hadoop.mapreduce.v2.app.rm.RMContainerAllocator:\", \"ERROR\", \"IN\", \"CONTACTING\", \"RM.\"]}, {\"date\": \"2015-10-18\", \"hour\": \"18:09:58,511\", \"label\": \"ERROR\", \"bracketsInfo\": \"RMCommunicator Allocator\", \"hasError\": true, \"hasException\": false, \"func\": \"mapreduce\", \"message\": [\"[RMCommunicator\", \"Allocator]\", \"org.apache.hadoop.mapreduce.v2.app.rm.RMContainerAllocator:\", \"ERROR\", \"IN\", \"CONTACTING\", \"RM.\"]}, {\"date\": \"2015-10-18\", \"hour\": \"18:10:00,511\", \"label\": \"ERROR\", \"bracketsInfo\": \"RMCommunicator Allocator\", \"hasError\": true, \"hasException\": false, \"func\": \"mapreduce\", \"message\": [\"[RMCommunicator\", \"Allocator]\", \"org.apache.hadoop.mapreduce.v2.app.rm.RMContainerAllocator:\", \"ERROR\", \"IN\", \"CONTACTING\", \"RM.\"]}, {\"date\": \"2015-10-18\", \"hour\": \"18:10:02,511\", \"label\": \"ERROR\", \"bracketsInfo\": \"RMCommunicator Allocator\", \"hasError\": true, \"hasException\": false, \"func\": \"mapreduce\", \"message\": [\"[RMCommunicator\", \"Allocator]\", \"org.apache.hadoop.mapreduce.v2.app.rm.RMContainerAllocator:\", \"ERROR\", \"IN\", \"CONTACTING\", \"RM.\"]}, {\"date\": \"2015-10-18\", \"hour\": \"18:10:04,511\", \"label\": \"ERROR\", \"bracketsInfo\": \"RMCommunicator Allocator\", \"hasError\": true, \"hasException\": false, \"func\": \"mapreduce\", \"message\": [\"[RMCommunicator\", \"Allocator]\", \"org.apache.hadoop.mapreduce.v2.app.rm.RMContainerAllocator:\", \"ERROR\", \"IN\", \"CONTACTING\", \"RM.\"]}, {\"date\": \"2015-10-18\", \"hour\": \"18:10:06,512\", \"label\": \"ERROR\", \"bracketsInfo\": \"RMCommunicator Allocator\", \"hasError\": true, \"hasException\": false, \"func\": \"mapreduce\", \"message\": [\"[RMCommunicator\", \"Allocator]\", \"org.apache.hadoop.mapreduce.v2.app.rm.RMContainerAllocator:\", \"ERROR\", \"IN\", \"CONTACTING\", \"RM.\"]}, {\"date\": \"2015-10-18\", \"hour\": \"18:10:08,527\", \"label\": \"ERROR\", \"bracketsInfo\": \"RMCommunicator Allocator\", \"hasError\": true, \"hasException\": false, \"func\": \"mapreduce\", \"message\": [\"[RMCommunicator\", \"Allocator]\", \"org.apache.hadoop.mapreduce.v2.app.rm.RMContainerAllocator:\", \"ERROR\", \"IN\", \"CONTACTING\", \"RM.\"]}, {\"date\": \"2015-10-18\", \"hour\": \"18:10:10,527\", \"label\": \"ERROR\", \"bracketsInfo\": \"RMCommunicator Allocator\", \"hasError\": true, \"hasException\": false, \"func\": \"mapreduce\", \"message\": [\"[RMCommunicator\", \"Allocator]\", \"org.apache.hadoop.mapreduce.v2.app.rm.RMContainerAllocator:\", \"ERROR\", \"IN\", \"CONTACTING\", \"RM.\"]}, {\"date\": \"2015-10-18\", \"hour\": \"18:10:12,528\", \"label\": \"ERROR\", \"bracketsInfo\": \"RMCommunicator Allocator\", \"hasError\": true, \"hasException\": false, \"func\": \"mapreduce\", \"message\": [\"[RMCommunicator\", \"Allocator]\", \"org.apache.hadoop.mapreduce.v2.app.rm.RMContainerAllocator:\", \"ERROR\", \"IN\", \"CONTACTING\", \"RM.\"]}, {\"date\": \"2015-10-18\", \"hour\": \"18:10:14,528\", \"label\": \"ERROR\", \"bracketsInfo\": \"RMCommunicator Allocator\", \"hasError\": true, \"hasException\": false, \"func\": \"mapreduce\", \"message\": [\"[RMCommunicator\", \"Allocator]\", \"org.apache.hadoop.mapreduce.v2.app.rm.RMContainerAllocator:\", \"ERROR\", \"IN\", \"CONTACTING\", \"RM.\"]}, {\"date\": \"2015-10-18\", \"hour\": \"18:10:16,528\", \"label\": \"ERROR\", \"bracketsInfo\": \"RMCommunicator Allocator\", \"hasError\": true, \"hasException\": false, \"func\": \"mapreduce\", \"message\": [\"[RMCommunicator\", \"Allocator]\", \"org.apache.hadoop.mapreduce.v2.app.rm.RMContainerAllocator:\", \"ERROR\", \"IN\", \"CONTACTING\", \"RM.\"]}, {\"date\": \"2015-10-18\", \"hour\": \"18:10:18,528\", \"label\": \"ERROR\", \"bracketsInfo\": \"RMCommunicator Allocator\", \"hasError\": true, \"hasException\": false, \"func\": \"mapreduce\", \"message\": [\"[RMCommunicator\", \"Allocator]\", \"org.apache.hadoop.mapreduce.v2.app.rm.RMContainerAllocator:\", \"ERROR\", \"IN\", \"CONTACTING\", \"RM.\"]}, {\"date\": \"2015-10-18\", \"hour\": \"18:10:20,528\", \"label\": \"ERROR\", \"bracketsInfo\": \"RMCommunicator Allocator\", \"hasError\": true, \"hasException\": false, \"func\": \"mapreduce\", \"message\": [\"[RMCommunicator\", \"Allocator]\", \"org.apache.hadoop.mapreduce.v2.app.rm.RMContainerAllocator:\", \"ERROR\", \"IN\", \"CONTACTING\", \"RM.\"]}, {\"date\": \"2015-10-18\", \"hour\": \"18:10:22,528\", \"label\": \"ERROR\", \"bracketsInfo\": \"RMCommunicator Allocator\", \"hasError\": true, \"hasException\": false, \"func\": \"mapreduce\", \"message\": [\"[RMCommunicator\", \"Allocator]\", \"org.apache.hadoop.mapreduce.v2.app.rm.RMContainerAllocator:\", \"ERROR\", \"IN\", \"CONTACTING\", \"RM.\"]}, {\"date\": \"2015-10-18\", \"hour\": \"18:10:24,528\", \"label\": \"ERROR\", \"bracketsInfo\": \"RMCommunicator Allocator\", \"hasError\": true, \"hasException\": false, \"func\": \"mapreduce\", \"message\": [\"[RMCommunicator\", \"Allocator]\", \"org.apache.hadoop.mapreduce.v2.app.rm.RMContainerAllocator:\", \"ERROR\", \"IN\", \"CONTACTING\", \"RM.\"]}, {\"date\": \"2015-10-18\", \"hour\": \"18:10:26,528\", \"label\": \"ERROR\", \"bracketsInfo\": \"RMCommunicator Allocator\", \"hasError\": true, \"hasException\": false, \"func\": \"mapreduce\", \"message\": [\"[RMCommunicator\", \"Allocator]\", \"org.apache.hadoop.mapreduce.v2.app.rm.RMContainerAllocator:\", \"ERROR\", \"IN\", \"CONTACTING\", \"RM.\"]}, {\"date\": \"2015-10-18\", \"hour\": \"18:10:28,544\", \"label\": \"ERROR\", \"bracketsInfo\": \"RMCommunicator Allocator\", \"hasError\": true, \"hasException\": false, \"func\": \"mapreduce\", \"message\": [\"[RMCommunicator\", \"Allocator]\", \"org.apache.hadoop.mapreduce.v2.app.rm.RMContainerAllocator:\", \"ERROR\", \"IN\", \"CONTACTING\", \"RM.\"]}, {\"date\": \"2015-10-18\", \"hour\": \"18:10:30,544\", \"label\": \"ERROR\", \"bracketsInfo\": \"RMCommunicator Allocator\", \"hasError\": true, \"hasException\": false, \"func\": \"mapreduce\", \"message\": [\"[RMCommunicator\", \"Allocator]\", \"org.apache.hadoop.mapreduce.v2.app.rm.RMContainerAllocator:\", \"ERROR\", \"IN\", \"CONTACTING\", \"RM.\"]}, {\"date\": \"2015-10-18\", \"hour\": \"18:10:32,544\", \"label\": \"ERROR\", \"bracketsInfo\": \"RMCommunicator Allocator\", \"hasError\": true, \"hasException\": false, \"func\": \"mapreduce\", \"message\": [\"[RMCommunicator\", \"Allocator]\", \"org.apache.hadoop.mapreduce.v2.app.rm.RMContainerAllocator:\", \"ERROR\", \"IN\", \"CONTACTING\", \"RM.\"]}, {\"date\": \"2015-10-18\", \"hour\": \"18:10:34,545\", \"label\": \"ERROR\", \"bracketsInfo\": \"RMCommunicator Allocator\", \"hasError\": true, \"hasException\": false, \"func\": \"mapreduce\", \"message\": [\"[RMCommunicator\", \"Allocator]\", \"org.apache.hadoop.mapreduce.v2.app.rm.RMContainerAllocator:\", \"ERROR\", \"IN\", \"CONTACTING\", \"RM.\"]}, {\"date\": \"2015-10-18\", \"hour\": \"18:10:36,545\", \"label\": \"ERROR\", \"bracketsInfo\": \"RMCommunicator Allocator\", \"hasError\": true, \"hasException\": false, \"func\": \"mapreduce\", \"message\": [\"[RMCommunicator\", \"Allocator]\", \"org.apache.hadoop.mapreduce.v2.app.rm.RMContainerAllocator:\", \"ERROR\", \"IN\", \"CONTACTING\", \"RM.\"]}, {\"date\": \"2015-10-18\", \"hour\": \"18:10:38,545\", \"label\": \"ERROR\", \"bracketsInfo\": \"RMCommunicator Allocator\", \"hasError\": true, \"hasException\": false, \"func\": \"mapreduce\", \"message\": [\"[RMCommunicator\", \"Allocator]\", \"org.apache.hadoop.mapreduce.v2.app.rm.RMContainerAllocator:\", \"ERROR\", \"IN\", \"CONTACTING\", \"RM.\"]}, {\"date\": \"2015-10-18\", \"hour\": \"18:10:40,545\", \"label\": \"ERROR\", \"bracketsInfo\": \"RMCommunicator Allocator\", \"hasError\": true, \"hasException\": false, \"func\": \"mapreduce\", \"message\": [\"[RMCommunicator\", \"Allocator]\", \"org.apache.hadoop.mapreduce.v2.app.rm.RMContainerAllocator:\", \"ERROR\", \"IN\", \"CONTACTING\", \"RM.\"]}, {\"date\": \"2015-10-18\", \"hour\": \"18:10:42,545\", \"label\": \"ERROR\", \"bracketsInfo\": \"RMCommunicator Allocator\", \"hasError\": true, \"hasException\": false, \"func\": \"mapreduce\", \"message\": [\"[RMCommunicator\", \"Allocator]\", \"org.apache.hadoop.mapreduce.v2.app.rm.RMContainerAllocator:\", \"ERROR\", \"IN\", \"CONTACTING\", \"RM.\"]}, {\"date\": \"2015-10-18\", \"hour\": \"18:10:44,545\", \"label\": \"ERROR\", \"bracketsInfo\": \"RMCommunicator Allocator\", \"hasError\": true, \"hasException\": false, \"func\": \"mapreduce\", \"message\": [\"[RMCommunicator\", \"Allocator]\", \"org.apache.hadoop.mapreduce.v2.app.rm.RMContainerAllocator:\", \"ERROR\", \"IN\", \"CONTACTING\", \"RM.\"]}, {\"date\": \"2015-10-18\", \"hour\": \"18:10:46,545\", \"label\": \"ERROR\", \"bracketsInfo\": \"RMCommunicator Allocator\", \"hasError\": true, \"hasException\": false, \"func\": \"mapreduce\", \"message\": [\"[RMCommunicator\", \"Allocator]\", \"org.apache.hadoop.mapreduce.v2.app.rm.RMContainerAllocator:\", \"ERROR\", \"IN\", \"CONTACTING\", \"RM.\"]}, {\"date\": \"2015-10-18\", \"hour\": \"18:10:48,545\", \"label\": \"ERROR\", \"bracketsInfo\": \"RMCommunicator Allocator\", \"hasError\": true, \"hasException\": false, \"func\": \"mapreduce\", \"message\": [\"[RMCommunicator\", \"Allocator]\", \"org.apache.hadoop.mapreduce.v2.app.rm.RMContainerAllocator:\", \"ERROR\", \"IN\", \"CONTACTING\", \"RM.\"]}, {\"date\": \"2015-10-18\", \"hour\": \"18:10:50,545\", \"label\": \"ERROR\", \"bracketsInfo\": \"RMCommunicator Allocator\", \"hasError\": true, \"hasException\": false, \"func\": \"mapreduce\", \"message\": [\"[RMCommunicator\", \"Allocator]\", \"org.apache.hadoop.mapreduce.v2.app.rm.RMContainerAllocator:\", \"ERROR\", \"IN\", \"CONTACTING\", \"RM.\"]}, {\"date\": \"2015-10-18\", \"hour\": \"18:10:52,546\", \"label\": \"ERROR\", \"bracketsInfo\": \"RMCommunicator Allocator\", \"hasError\": true, \"hasException\": false, \"func\": \"mapreduce\", \"message\": [\"[RMCommunicator\", \"Allocator]\", \"org.apache.hadoop.mapreduce.v2.app.rm.RMContainerAllocator:\", \"ERROR\", \"IN\", \"CONTACTING\", \"RM.\"]}, {\"date\": \"2015-10-18\", \"hour\": \"18:10:54,546\", \"label\": \"ERROR\", \"bracketsInfo\": \"RMCommunicator Allocator\", \"hasError\": true, \"hasException\": false, \"func\": \"mapreduce\", \"message\": [\"[RMCommunicator\", \"Allocator]\", \"org.apache.hadoop.mapreduce.v2.app.rm.RMContainerAllocator:\", \"ERROR\", \"IN\", \"CONTACTING\", \"RM.\"]}, {\"date\": \"2015-10-18\", \"hour\": \"18:10:56,546\", \"label\": \"ERROR\", \"bracketsInfo\": \"RMCommunicator Allocator\", \"hasError\": true, \"hasException\": false, \"func\": \"mapreduce\", \"message\": [\"[RMCommunicator\", \"Allocator]\", \"org.apache.hadoop.mapreduce.v2.app.rm.RMContainerAllocator:\", \"ERROR\", \"IN\", \"CONTACTING\", \"RM.\"]}, {\"date\": \"2015-10-18\", \"hour\": \"18:10:58,562\", \"label\": \"ERROR\", \"bracketsInfo\": \"RMCommunicator Allocator\", \"hasError\": false, \"hasException\": false, \"func\": \"mapreduce\", \"message\": [\"[RMCommunicator\", \"Allocator]\", \"org.apache.hadoop.mapreduce.v2.app.rm.RMContainerAllocator:\", \"Could\", \"not\", \"contact\", \"RM\", \"after\", \"360000\", \"milliseconds.\"]}, {\"date\": \"2015-10-18\", \"hour\": \"18:10:58,562\", \"label\": \"ERROR\", \"bracketsInfo\": \"RMCommunicator Allocator\", \"hasError\": true, \"hasException\": false, \"func\": \"mapreduce\", \"message\": [\"[RMCommunicator\", \"Allocator]\", \"org.apache.hadoop.mapreduce.v2.app.rm.RMContainerAllocator:\", \"Error\", \"communicating\", \"with\", \"RM:\", \"Could\", \"not\", \"contact\", \"RM\", \"after\", \"360000\", \"milliseconds.\"]}, {\"date\": \"2015-10-18\", \"hour\": \"18:10:59,593\", \"label\": \"ERROR\", \"bracketsInfo\": \"Thread-560\", \"hasError\": false, \"hasException\": true, \"func\": \"mapreduce\", \"message\": [\"[Thread-560]\", \"org.apache.hadoop.mapreduce.v2.app.rm.RMContainerAllocator:\", \"Exception\", \"while\", \"unregistering\"]}, {\"date\": \"2015-10-18\", \"hour\": \"18:05:40,008\", \"label\": \"ERROR\", \"bracketsInfo\": \"RMCommunicator Allocator\", \"hasError\": true, \"hasException\": false, \"func\": \"mapreduce\", \"message\": [\"[RMCommunicator\", \"Allocator]\", \"org.apache.hadoop.mapreduce.v2.app.rm.RMContainerAllocator:\", \"ERROR\", \"IN\", \"CONTACTING\", \"RM.\"]}, {\"date\": \"2015-10-18\", \"hour\": \"18:05:42,008\", \"label\": \"ERROR\", \"bracketsInfo\": \"RMCommunicator Allocator\", \"hasError\": true, \"hasException\": false, \"func\": \"mapreduce\", \"message\": [\"[RMCommunicator\", \"Allocator]\", \"org.apache.hadoop.mapreduce.v2.app.rm.RMContainerAllocator:\", \"ERROR\", \"IN\", \"CONTACTING\", \"RM.\"]}, {\"date\": \"2015-10-18\", \"hour\": \"18:05:44,008\", \"label\": \"ERROR\", \"bracketsInfo\": \"RMCommunicator Allocator\", \"hasError\": true, \"hasException\": false, \"func\": \"mapreduce\", \"message\": [\"[RMCommunicator\", \"Allocator]\", \"org.apache.hadoop.mapreduce.v2.app.rm.RMContainerAllocator:\", \"ERROR\", \"IN\", \"CONTACTING\", \"RM.\"]}, {\"date\": \"2015-10-18\", \"hour\": \"18:05:46,008\", \"label\": \"ERROR\", \"bracketsInfo\": \"RMCommunicator Allocator\", \"hasError\": true, \"hasException\": false, \"func\": \"mapreduce\", \"message\": [\"[RMCommunicator\", \"Allocator]\", \"org.apache.hadoop.mapreduce.v2.app.rm.RMContainerAllocator:\", \"ERROR\", \"IN\", \"CONTACTING\", \"RM.\"]}, {\"date\": \"2015-10-18\", \"hour\": \"18:05:48,024\", \"label\": \"ERROR\", \"bracketsInfo\": \"RMCommunicator Allocator\", \"hasError\": true, \"hasException\": false, \"func\": \"mapreduce\", \"message\": [\"[RMCommunicator\", \"Allocator]\", \"org.apache.hadoop.mapreduce.v2.app.rm.RMContainerAllocator:\", \"ERROR\", \"IN\", \"CONTACTING\", \"RM.\"]}, {\"date\": \"2015-10-18\", \"hour\": \"18:05:50,024\", \"label\": \"ERROR\", \"bracketsInfo\": \"RMCommunicator Allocator\", \"hasError\": true, \"hasException\": false, \"func\": \"mapreduce\", \"message\": [\"[RMCommunicator\", \"Allocator]\", \"org.apache.hadoop.mapreduce.v2.app.rm.RMContainerAllocator:\", \"ERROR\", \"IN\", \"CONTACTING\", \"RM.\"]}, {\"date\": \"2015-10-18\", \"hour\": \"18:05:52,024\", \"label\": \"ERROR\", \"bracketsInfo\": \"RMCommunicator Allocator\", \"hasError\": true, \"hasException\": false, \"func\": \"mapreduce\", \"message\": [\"[RMCommunicator\", \"Allocator]\", \"org.apache.hadoop.mapreduce.v2.app.rm.RMContainerAllocator:\", \"ERROR\", \"IN\", \"CONTACTING\", \"RM.\"]}, {\"date\": \"2015-10-18\", \"hour\": \"18:05:54,056\", \"label\": \"ERROR\", \"bracketsInfo\": \"RMCommunicator Allocator\", \"hasError\": true, \"hasException\": false, \"func\": \"mapreduce\", \"message\": [\"[RMCommunicator\", \"Allocator]\", \"org.apache.hadoop.mapreduce.v2.app.rm.RMContainerAllocator:\", \"ERROR\", \"IN\", \"CONTACTING\", \"RM.\"]}, {\"date\": \"2015-10-18\", \"hour\": \"18:05:56,056\", \"label\": \"ERROR\", \"bracketsInfo\": \"RMCommunicator Allocator\", \"hasError\": true, \"hasException\": false, \"func\": \"mapreduce\", \"message\": [\"[RMCommunicator\", \"Allocator]\", \"org.apache.hadoop.mapreduce.v2.app.rm.RMContainerAllocator:\", \"ERROR\", \"IN\", \"CONTACTING\", \"RM.\"]}, {\"date\": \"2015-10-18\", \"hour\": \"18:05:58,057\", \"label\": \"ERROR\", \"bracketsInfo\": \"RMCommunicator Allocator\", \"hasError\": true, \"hasException\": false, \"func\": \"mapreduce\", \"message\": [\"[RMCommunicator\", \"Allocator]\", \"org.apache.hadoop.mapreduce.v2.app.rm.RMContainerAllocator:\", \"ERROR\", \"IN\", \"CONTACTING\", \"RM.\"]}, {\"date\": \"2015-10-18\", \"hour\": \"18:06:00,063\", \"label\": \"ERROR\", \"bracketsInfo\": \"RMCommunicator Allocator\", \"hasError\": true, \"hasException\": false, \"func\": \"mapreduce\", \"message\": [\"[RMCommunicator\", \"Allocator]\", \"org.apache.hadoop.mapreduce.v2.app.rm.RMContainerAllocator:\", \"ERROR\", \"IN\", \"CONTACTING\", \"RM.\"]}, {\"date\": \"2015-10-18\", \"hour\": \"18:06:02,090\", \"label\": \"ERROR\", \"bracketsInfo\": \"RMCommunicator Allocator\", \"hasError\": true, \"hasException\": false, \"func\": \"mapreduce\", \"message\": [\"[RMCommunicator\", \"Allocator]\", \"org.apache.hadoop.mapreduce.v2.app.rm.RMContainerAllocator:\", \"ERROR\", \"IN\", \"CONTACTING\", \"RM.\"]}, {\"date\": \"2015-10-18\", \"hour\": \"18:06:04,153\", \"label\": \"ERROR\", \"bracketsInfo\": \"RMCommunicator Allocator\", \"hasError\": true, \"hasException\": false, \"func\": \"mapreduce\", \"message\": [\"[RMCommunicator\", \"Allocator]\", \"org.apache.hadoop.mapreduce.v2.app.rm.RMContainerAllocator:\", \"ERROR\", \"IN\", \"CONTACTING\", \"RM.\"]}, {\"date\": \"2015-10-18\", \"hour\": \"18:06:06,169\", \"label\": \"ERROR\", \"bracketsInfo\": \"RMCommunicator Allocator\", \"hasError\": true, \"hasException\": false, \"func\": \"mapreduce\", \"message\": [\"[RMCommunicator\", \"Allocator]\", \"org.apache.hadoop.mapreduce.v2.app.rm.RMContainerAllocator:\", \"ERROR\", \"IN\", \"CONTACTING\", \"RM.\"]}, {\"date\": \"2015-10-18\", \"hour\": \"18:06:08,169\", \"label\": \"ERROR\", \"bracketsInfo\": \"RMCommunicator Allocator\", \"hasError\": true, \"hasException\": false, \"func\": \"mapreduce\", \"message\": [\"[RMCommunicator\", \"Allocator]\", \"org.apache.hadoop.mapreduce.v2.app.rm.RMContainerAllocator:\", \"ERROR\", \"IN\", \"CONTACTING\", \"RM.\"]}, {\"date\": \"2015-10-18\", \"hour\": \"18:06:10,185\", \"label\": \"ERROR\", \"bracketsInfo\": \"RMCommunicator Allocator\", \"hasError\": true, \"hasException\": false, \"func\": \"mapreduce\", \"message\": [\"[RMCommunicator\", \"Allocator]\", \"org.apache.hadoop.mapreduce.v2.app.rm.RMContainerAllocator:\", \"ERROR\", \"IN\", \"CONTACTING\", \"RM.\"]}, {\"date\": \"2015-10-18\", \"hour\": \"18:06:12,200\", \"label\": \"ERROR\", \"bracketsInfo\": \"RMCommunicator Allocator\", \"hasError\": true, \"hasException\": false, \"func\": \"mapreduce\", \"message\": [\"[RMCommunicator\", \"Allocator]\", \"org.apache.hadoop.mapreduce.v2.app.rm.RMContainerAllocator:\", \"ERROR\", \"IN\", \"CONTACTING\", \"RM.\"]}, {\"date\": \"2015-10-18\", \"hour\": \"18:06:14,263\", \"label\": \"ERROR\", \"bracketsInfo\": \"RMCommunicator Allocator\", \"hasError\": true, \"hasException\": false, \"func\": \"mapreduce\", \"message\": [\"[RMCommunicator\", \"Allocator]\", \"org.apache.hadoop.mapreduce.v2.app.rm.RMContainerAllocator:\", \"ERROR\", \"IN\", \"CONTACTING\", \"RM.\"]}, {\"date\": \"2015-10-18\", \"hour\": \"18:06:16,294\", \"label\": \"ERROR\", \"bracketsInfo\": \"RMCommunicator Allocator\", \"hasError\": true, \"hasException\": false, \"func\": \"mapreduce\", \"message\": [\"[RMCommunicator\", \"Allocator]\", \"org.apache.hadoop.mapreduce.v2.app.rm.RMContainerAllocator:\", \"ERROR\", \"IN\", \"CONTACTING\", \"RM.\"]}, {\"date\": \"2015-10-18\", \"hour\": \"18:06:18,310\", \"label\": \"ERROR\", \"bracketsInfo\": \"RMCommunicator Allocator\", \"hasError\": true, \"hasException\": false, \"func\": \"mapreduce\", \"message\": [\"[RMCommunicator\", \"Allocator]\", \"org.apache.hadoop.mapreduce.v2.app.rm.RMContainerAllocator:\", \"ERROR\", \"IN\", \"CONTACTING\", \"RM.\"]}, {\"date\": \"2015-10-18\", \"hour\": \"18:06:20,342\", \"label\": \"ERROR\", \"bracketsInfo\": \"RMCommunicator Allocator\", \"hasError\": true, \"hasException\": false, \"func\": \"mapreduce\", \"message\": [\"[RMCommunicator\", \"Allocator]\", \"org.apache.hadoop.mapreduce.v2.app.rm.RMContainerAllocator:\", \"ERROR\", \"IN\", \"CONTACTING\", \"RM.\"]}, {\"date\": \"2015-10-18\", \"hour\": \"18:06:22,357\", \"label\": \"ERROR\", \"bracketsInfo\": \"RMCommunicator Allocator\", \"hasError\": true, \"hasException\": false, \"func\": \"mapreduce\", \"message\": [\"[RMCommunicator\", \"Allocator]\", \"org.apache.hadoop.mapreduce.v2.app.rm.RMContainerAllocator:\", \"ERROR\", \"IN\", \"CONTACTING\", \"RM.\"]}, {\"date\": \"2015-10-18\", \"hour\": \"18:06:24,420\", \"label\": \"ERROR\", \"bracketsInfo\": \"RMCommunicator Allocator\", \"hasError\": true, \"hasException\": false, \"func\": \"mapreduce\", \"message\": [\"[RMCommunicator\", \"Allocator]\", \"org.apache.hadoop.mapreduce.v2.app.rm.RMContainerAllocator:\", \"ERROR\", \"IN\", \"CONTACTING\", \"RM.\"]}, {\"date\": \"2015-10-18\", \"hour\": \"18:06:26,420\", \"label\": \"ERROR\", \"bracketsInfo\": \"RMCommunicator Allocator\", \"hasError\": true, \"hasException\": false, \"func\": \"mapreduce\", \"message\": [\"[RMCommunicator\", \"Allocator]\", \"org.apache.hadoop.mapreduce.v2.app.rm.RMContainerAllocator:\", \"ERROR\", \"IN\", \"CONTACTING\", \"RM.\"]}, {\"date\": \"2015-10-18\", \"hour\": \"18:06:28,436\", \"label\": \"ERROR\", \"bracketsInfo\": \"RMCommunicator Allocator\", \"hasError\": true, \"hasException\": false, \"func\": \"mapreduce\", \"message\": [\"[RMCommunicator\", \"Allocator]\", \"org.apache.hadoop.mapreduce.v2.app.rm.RMContainerAllocator:\", \"ERROR\", \"IN\", \"CONTACTING\", \"RM.\"]}, {\"date\": \"2015-10-18\", \"hour\": \"18:06:30,436\", \"label\": \"ERROR\", \"bracketsInfo\": \"RMCommunicator Allocator\", \"hasError\": true, \"hasException\": false, \"func\": \"mapreduce\", \"message\": [\"[RMCommunicator\", \"Allocator]\", \"org.apache.hadoop.mapreduce.v2.app.rm.RMContainerAllocator:\", \"ERROR\", \"IN\", \"CONTACTING\", \"RM.\"]}, {\"date\": \"2015-10-18\", \"hour\": \"18:06:32,452\", \"label\": \"ERROR\", \"bracketsInfo\": \"RMCommunicator Allocator\", \"hasError\": true, \"hasException\": false, \"func\": \"mapreduce\", \"message\": [\"[RMCommunicator\", \"Allocator]\", \"org.apache.hadoop.mapreduce.v2.app.rm.RMContainerAllocator:\", \"ERROR\", \"IN\", \"CONTACTING\", \"RM.\"]}, {\"date\": \"2015-10-18\", \"hour\": \"18:06:34,483\", \"label\": \"ERROR\", \"bracketsInfo\": \"RMCommunicator Allocator\", \"hasError\": true, \"hasException\": false, \"func\": \"mapreduce\", \"message\": [\"[RMCommunicator\", \"Allocator]\", \"org.apache.hadoop.mapreduce.v2.app.rm.RMContainerAllocator:\", \"ERROR\", \"IN\", \"CONTACTING\", \"RM.\"]}, {\"date\": \"2015-10-18\", \"hour\": \"18:06:36,483\", \"label\": \"ERROR\", \"bracketsInfo\": \"RMCommunicator Allocator\", \"hasError\": true, \"hasException\": false, \"func\": \"mapreduce\", \"message\": [\"[RMCommunicator\", \"Allocator]\", \"org.apache.hadoop.mapreduce.v2.app.rm.RMContainerAllocator:\", \"ERROR\", \"IN\", \"CONTACTING\", \"RM.\"]}, {\"date\": \"2015-10-18\", \"hour\": \"18:06:38,499\", \"label\": \"ERROR\", \"bracketsInfo\": \"RMCommunicator Allocator\", \"hasError\": true, \"hasException\": false, \"func\": \"mapreduce\", \"message\": [\"[RMCommunicator\", \"Allocator]\", \"org.apache.hadoop.mapreduce.v2.app.rm.RMContainerAllocator:\", \"ERROR\", \"IN\", \"CONTACTING\", \"RM.\"]}, {\"date\": \"2015-10-18\", \"hour\": \"18:06:40,499\", \"label\": \"ERROR\", \"bracketsInfo\": \"RMCommunicator Allocator\", \"hasError\": true, \"hasException\": false, \"func\": \"mapreduce\", \"message\": [\"[RMCommunicator\", \"Allocator]\", \"org.apache.hadoop.mapreduce.v2.app.rm.RMContainerAllocator:\", \"ERROR\", \"IN\", \"CONTACTING\", \"RM.\"]}, {\"date\": \"2015-10-18\", \"hour\": \"18:06:42,499\", \"label\": \"ERROR\", \"bracketsInfo\": \"RMCommunicator Allocator\", \"hasError\": true, \"hasException\": false, \"func\": \"mapreduce\", \"message\": [\"[RMCommunicator\", \"Allocator]\", \"org.apache.hadoop.mapreduce.v2.app.rm.RMContainerAllocator:\", \"ERROR\", \"IN\", \"CONTACTING\", \"RM.\"]}, {\"date\": \"2015-10-18\", \"hour\": \"18:06:44,531\", \"label\": \"ERROR\", \"bracketsInfo\": \"RMCommunicator Allocator\", \"hasError\": true, \"hasException\": false, \"func\": \"mapreduce\", \"message\": [\"[RMCommunicator\", \"Allocator]\", \"org.apache.hadoop.mapreduce.v2.app.rm.RMContainerAllocator:\", \"ERROR\", \"IN\", \"CONTACTING\", \"RM.\"]}, {\"date\": \"2015-10-18\", \"hour\": \"18:06:46,531\", \"label\": \"ERROR\", \"bracketsInfo\": \"RMCommunicator Allocator\", \"hasError\": true, \"hasException\": false, \"func\": \"mapreduce\", \"message\": [\"[RMCommunicator\", \"Allocator]\", \"org.apache.hadoop.mapreduce.v2.app.rm.RMContainerAllocator:\", \"ERROR\", \"IN\", \"CONTACTING\", \"RM.\"]}, {\"date\": \"2015-10-18\", \"hour\": \"18:06:48,531\", \"label\": \"ERROR\", \"bracketsInfo\": \"RMCommunicator Allocator\", \"hasError\": true, \"hasException\": false, \"func\": \"mapreduce\", \"message\": [\"[RMCommunicator\", \"Allocator]\", \"org.apache.hadoop.mapreduce.v2.app.rm.RMContainerAllocator:\", \"ERROR\", \"IN\", \"CONTACTING\", \"RM.\"]}, {\"date\": \"2015-10-18\", \"hour\": \"18:06:50,531\", \"label\": \"ERROR\", \"bracketsInfo\": \"RMCommunicator Allocator\", \"hasError\": true, \"hasException\": false, \"func\": \"mapreduce\", \"message\": [\"[RMCommunicator\", \"Allocator]\", \"org.apache.hadoop.mapreduce.v2.app.rm.RMContainerAllocator:\", \"ERROR\", \"IN\", \"CONTACTING\", \"RM.\"]}, {\"date\": \"2015-10-18\", \"hour\": \"18:06:52,531\", \"label\": \"ERROR\", \"bracketsInfo\": \"RMCommunicator Allocator\", \"hasError\": true, \"hasException\": false, \"func\": \"mapreduce\", \"message\": [\"[RMCommunicator\", \"Allocator]\", \"org.apache.hadoop.mapreduce.v2.app.rm.RMContainerAllocator:\", \"ERROR\", \"IN\", \"CONTACTING\", \"RM.\"]}, {\"date\": \"2015-10-18\", \"hour\": \"18:06:54,531\", \"label\": \"ERROR\", \"bracketsInfo\": \"RMCommunicator Allocator\", \"hasError\": true, \"hasException\": false, \"func\": \"mapreduce\", \"message\": [\"[RMCommunicator\", \"Allocator]\", \"org.apache.hadoop.mapreduce.v2.app.rm.RMContainerAllocator:\", \"ERROR\", \"IN\", \"CONTACTING\", \"RM.\"]}, {\"date\": \"2015-10-18\", \"hour\": \"18:06:56,547\", \"label\": \"ERROR\", \"bracketsInfo\": \"RMCommunicator Allocator\", \"hasError\": true, \"hasException\": false, \"func\": \"mapreduce\", \"message\": [\"[RMCommunicator\", \"Allocator]\", \"org.apache.hadoop.mapreduce.v2.app.rm.RMContainerAllocator:\", \"ERROR\", \"IN\", \"CONTACTING\", \"RM.\"]}, {\"date\": \"2015-10-18\", \"hour\": \"18:06:58,563\", \"label\": \"ERROR\", \"bracketsInfo\": \"RMCommunicator Allocator\", \"hasError\": true, \"hasException\": false, \"func\": \"mapreduce\", \"message\": [\"[RMCommunicator\", \"Allocator]\", \"org.apache.hadoop.mapreduce.v2.app.rm.RMContainerAllocator:\", \"ERROR\", \"IN\", \"CONTACTING\", \"RM.\"]}, {\"date\": \"2015-10-18\", \"hour\": \"18:07:00,563\", \"label\": \"ERROR\", \"bracketsInfo\": \"RMCommunicator Allocator\", \"hasError\": true, \"hasException\": false, \"func\": \"mapreduce\", \"message\": [\"[RMCommunicator\", \"Allocator]\", \"org.apache.hadoop.mapreduce.v2.app.rm.RMContainerAllocator:\", \"ERROR\", \"IN\", \"CONTACTING\", \"RM.\"]}, {\"date\": \"2015-10-18\", \"hour\": \"18:07:02,579\", \"label\": \"ERROR\", \"bracketsInfo\": \"RMCommunicator Allocator\", \"hasError\": true, \"hasException\": false, \"func\": \"mapreduce\", \"message\": [\"[RMCommunicator\", \"Allocator]\", \"org.apache.hadoop.mapreduce.v2.app.rm.RMContainerAllocator:\", \"ERROR\", \"IN\", \"CONTACTING\", \"RM.\"]}, {\"date\": \"2015-10-18\", \"hour\": \"18:07:04,594\", \"label\": \"ERROR\", \"bracketsInfo\": \"RMCommunicator Allocator\", \"hasError\": true, \"hasException\": false, \"func\": \"mapreduce\", \"message\": [\"[RMCommunicator\", \"Allocator]\", \"org.apache.hadoop.mapreduce.v2.app.rm.RMContainerAllocator:\", \"ERROR\", \"IN\", \"CONTACTING\", \"RM.\"]}, {\"date\": \"2015-10-18\", \"hour\": \"18:07:06,594\", \"label\": \"ERROR\", \"bracketsInfo\": \"RMCommunicator Allocator\", \"hasError\": true, \"hasException\": false, \"func\": \"mapreduce\", \"message\": [\"[RMCommunicator\", \"Allocator]\", \"org.apache.hadoop.mapreduce.v2.app.rm.RMContainerAllocator:\", \"ERROR\", \"IN\", \"CONTACTING\", \"RM.\"]}, {\"date\": \"2015-10-18\", \"hour\": \"18:07:08,595\", \"label\": \"ERROR\", \"bracketsInfo\": \"RMCommunicator Allocator\", \"hasError\": true, \"hasException\": false, \"func\": \"mapreduce\", \"message\": [\"[RMCommunicator\", \"Allocator]\", \"org.apache.hadoop.mapreduce.v2.app.rm.RMContainerAllocator:\", \"ERROR\", \"IN\", \"CONTACTING\", \"RM.\"]}, {\"date\": \"2015-10-18\", \"hour\": \"18:07:10,610\", \"label\": \"ERROR\", \"bracketsInfo\": \"RMCommunicator Allocator\", \"hasError\": true, \"hasException\": false, \"func\": \"mapreduce\", \"message\": [\"[RMCommunicator\", \"Allocator]\", \"org.apache.hadoop.mapreduce.v2.app.rm.RMContainerAllocator:\", \"ERROR\", \"IN\", \"CONTACTING\", \"RM.\"]}, {\"date\": \"2015-10-18\", \"hour\": \"18:07:12,610\", \"label\": \"ERROR\", \"bracketsInfo\": \"RMCommunicator Allocator\", \"hasError\": true, \"hasException\": false, \"func\": \"mapreduce\", \"message\": [\"[RMCommunicator\", \"Allocator]\", \"org.apache.hadoop.mapreduce.v2.app.rm.RMContainerAllocator:\", \"ERROR\", \"IN\", \"CONTACTING\", \"RM.\"]}, {\"date\": \"2015-10-18\", \"hour\": \"18:07:14,611\", \"label\": \"ERROR\", \"bracketsInfo\": \"RMCommunicator Allocator\", \"hasError\": true, \"hasException\": false, \"func\": \"mapreduce\", \"message\": [\"[RMCommunicator\", \"Allocator]\", \"org.apache.hadoop.mapreduce.v2.app.rm.RMContainerAllocator:\", \"ERROR\", \"IN\", \"CONTACTING\", \"RM.\"]}, {\"date\": \"2015-10-18\", \"hour\": \"18:07:16,611\", \"label\": \"ERROR\", \"bracketsInfo\": \"RMCommunicator Allocator\", \"hasError\": true, \"hasException\": false, \"func\": \"mapreduce\", \"message\": [\"[RMCommunicator\", \"Allocator]\", \"org.apache.hadoop.mapreduce.v2.app.rm.RMContainerAllocator:\", \"ERROR\", \"IN\", \"CONTACTING\", \"RM.\"]}, {\"date\": \"2015-10-18\", \"hour\": \"18:07:18,611\", \"label\": \"ERROR\", \"bracketsInfo\": \"RMCommunicator Allocator\", \"hasError\": true, \"hasException\": false, \"func\": \"mapreduce\", \"message\": [\"[RMCommunicator\", \"Allocator]\", \"org.apache.hadoop.mapreduce.v2.app.rm.RMContainerAllocator:\", \"ERROR\", \"IN\", \"CONTACTING\", \"RM.\"]}, {\"date\": \"2015-10-18\", \"hour\": \"18:07:20,611\", \"label\": \"ERROR\", \"bracketsInfo\": \"RMCommunicator Allocator\", \"hasError\": true, \"hasException\": false, \"func\": \"mapreduce\", \"message\": [\"[RMCommunicator\", \"Allocator]\", \"org.apache.hadoop.mapreduce.v2.app.rm.RMContainerAllocator:\", \"ERROR\", \"IN\", \"CONTACTING\", \"RM.\"]}, {\"date\": \"2015-10-18\", \"hour\": \"18:07:22,611\", \"label\": \"ERROR\", \"bracketsInfo\": \"RMCommunicator Allocator\", \"hasError\": true, \"hasException\": false, \"func\": \"mapreduce\", \"message\": [\"[RMCommunicator\", \"Allocator]\", \"org.apache.hadoop.mapreduce.v2.app.rm.RMContainerAllocator:\", \"ERROR\", \"IN\", \"CONTACTING\", \"RM.\"]}, {\"date\": \"2015-10-18\", \"hour\": \"18:07:24,611\", \"label\": \"ERROR\", \"bracketsInfo\": \"RMCommunicator Allocator\", \"hasError\": true, \"hasException\": false, \"func\": \"mapreduce\", \"message\": [\"[RMCommunicator\", \"Allocator]\", \"org.apache.hadoop.mapreduce.v2.app.rm.RMContainerAllocator:\", \"ERROR\", \"IN\", \"CONTACTING\", \"RM.\"]}, {\"date\": \"2015-10-18\", \"hour\": \"18:07:26,611\", \"label\": \"ERROR\", \"bracketsInfo\": \"RMCommunicator Allocator\", \"hasError\": true, \"hasException\": false, \"func\": \"mapreduce\", \"message\": [\"[RMCommunicator\", \"Allocator]\", \"org.apache.hadoop.mapreduce.v2.app.rm.RMContainerAllocator:\", \"ERROR\", \"IN\", \"CONTACTING\", \"RM.\"]}, {\"date\": \"2015-10-18\", \"hour\": \"18:07:28,627\", \"label\": \"ERROR\", \"bracketsInfo\": \"RMCommunicator Allocator\", \"hasError\": true, \"hasException\": false, \"func\": \"mapreduce\", \"message\": [\"[RMCommunicator\", \"Allocator]\", \"org.apache.hadoop.mapreduce.v2.app.rm.RMContainerAllocator:\", \"ERROR\", \"IN\", \"CONTACTING\", \"RM.\"]}, {\"date\": \"2015-10-18\", \"hour\": \"18:07:30,627\", \"label\": \"ERROR\", \"bracketsInfo\": \"RMCommunicator Allocator\", \"hasError\": true, \"hasException\": false, \"func\": \"mapreduce\", \"message\": [\"[RMCommunicator\", \"Allocator]\", \"org.apache.hadoop.mapreduce.v2.app.rm.RMContainerAllocator:\", \"ERROR\", \"IN\", \"CONTACTING\", \"RM.\"]}, {\"date\": \"2015-10-18\", \"hour\": \"18:07:32,627\", \"label\": \"ERROR\", \"bracketsInfo\": \"RMCommunicator Allocator\", \"hasError\": true, \"hasException\": false, \"func\": \"mapreduce\", \"message\": [\"[RMCommunicator\", \"Allocator]\", \"org.apache.hadoop.mapreduce.v2.app.rm.RMContainerAllocator:\", \"ERROR\", \"IN\", \"CONTACTING\", \"RM.\"]}, {\"date\": \"2015-10-18\", \"hour\": \"18:07:34,627\", \"label\": \"ERROR\", \"bracketsInfo\": \"RMCommunicator Allocator\", \"hasError\": true, \"hasException\": false, \"func\": \"mapreduce\", \"message\": [\"[RMCommunicator\", \"Allocator]\", \"org.apache.hadoop.mapreduce.v2.app.rm.RMContainerAllocator:\", \"ERROR\", \"IN\", \"CONTACTING\", \"RM.\"]}, {\"date\": \"2015-10-18\", \"hour\": \"18:07:36,628\", \"label\": \"ERROR\", \"bracketsInfo\": \"RMCommunicator Allocator\", \"hasError\": true, \"hasException\": false, \"func\": \"mapreduce\", \"message\": [\"[RMCommunicator\", \"Allocator]\", \"org.apache.hadoop.mapreduce.v2.app.rm.RMContainerAllocator:\", \"ERROR\", \"IN\", \"CONTACTING\", \"RM.\"]}, {\"date\": \"2015-10-18\", \"hour\": \"18:07:38,628\", \"label\": \"ERROR\", \"bracketsInfo\": \"RMCommunicator Allocator\", \"hasError\": true, \"hasException\": false, \"func\": \"mapreduce\", \"message\": [\"[RMCommunicator\", \"Allocator]\", \"org.apache.hadoop.mapreduce.v2.app.rm.RMContainerAllocator:\", \"ERROR\", \"IN\", \"CONTACTING\", \"RM.\"]}, {\"date\": \"2015-10-18\", \"hour\": \"18:07:40,628\", \"label\": \"ERROR\", \"bracketsInfo\": \"RMCommunicator Allocator\", \"hasError\": true, \"hasException\": false, \"func\": \"mapreduce\", \"message\": [\"[RMCommunicator\", \"Allocator]\", \"org.apache.hadoop.mapreduce.v2.app.rm.RMContainerAllocator:\", \"ERROR\", \"IN\", \"CONTACTING\", \"RM.\"]}, {\"date\": \"2015-10-18\", \"hour\": \"18:07:42,628\", \"label\": \"ERROR\", \"bracketsInfo\": \"RMCommunicator Allocator\", \"hasError\": true, \"hasException\": false, \"func\": \"mapreduce\", \"message\": [\"[RMCommunicator\", \"Allocator]\", \"org.apache.hadoop.mapreduce.v2.app.rm.RMContainerAllocator:\", \"ERROR\", \"IN\", \"CONTACTING\", \"RM.\"]}, {\"date\": \"2015-10-18\", \"hour\": \"18:07:44,628\", \"label\": \"ERROR\", \"bracketsInfo\": \"RMCommunicator Allocator\", \"hasError\": true, \"hasException\": false, \"func\": \"mapreduce\", \"message\": [\"[RMCommunicator\", \"Allocator]\", \"org.apache.hadoop.mapreduce.v2.app.rm.RMContainerAllocator:\", \"ERROR\", \"IN\", \"CONTACTING\", \"RM.\"]}, {\"date\": \"2015-10-18\", \"hour\": \"18:07:46,628\", \"label\": \"ERROR\", \"bracketsInfo\": \"RMCommunicator Allocator\", \"hasError\": true, \"hasException\": false, \"func\": \"mapreduce\", \"message\": [\"[RMCommunicator\", \"Allocator]\", \"org.apache.hadoop.mapreduce.v2.app.rm.RMContainerAllocator:\", \"ERROR\", \"IN\", \"CONTACTING\", \"RM.\"]}, {\"date\": \"2015-10-18\", \"hour\": \"18:07:48,628\", \"label\": \"ERROR\", \"bracketsInfo\": \"RMCommunicator Allocator\", \"hasError\": true, \"hasException\": false, \"func\": \"mapreduce\", \"message\": [\"[RMCommunicator\", \"Allocator]\", \"org.apache.hadoop.mapreduce.v2.app.rm.RMContainerAllocator:\", \"ERROR\", \"IN\", \"CONTACTING\", \"RM.\"]}, {\"date\": \"2015-10-18\", \"hour\": \"18:07:50,628\", \"label\": \"ERROR\", \"bracketsInfo\": \"RMCommunicator Allocator\", \"hasError\": true, \"hasException\": false, \"func\": \"mapreduce\", \"message\": [\"[RMCommunicator\", \"Allocator]\", \"org.apache.hadoop.mapreduce.v2.app.rm.RMContainerAllocator:\", \"ERROR\", \"IN\", \"CONTACTING\", \"RM.\"]}, {\"date\": \"2015-10-18\", \"hour\": \"18:07:52,628\", \"label\": \"ERROR\", \"bracketsInfo\": \"RMCommunicator Allocator\", \"hasError\": true, \"hasException\": false, \"func\": \"mapreduce\", \"message\": [\"[RMCommunicator\", \"Allocator]\", \"org.apache.hadoop.mapreduce.v2.app.rm.RMContainerAllocator:\", \"ERROR\", \"IN\", \"CONTACTING\", \"RM.\"]}, {\"date\": \"2015-10-18\", \"hour\": \"18:07:54,644\", \"label\": \"ERROR\", \"bracketsInfo\": \"RMCommunicator Allocator\", \"hasError\": true, \"hasException\": false, \"func\": \"mapreduce\", \"message\": [\"[RMCommunicator\", \"Allocator]\", \"org.apache.hadoop.mapreduce.v2.app.rm.RMContainerAllocator:\", \"ERROR\", \"IN\", \"CONTACTING\", \"RM.\"]}, {\"date\": \"2015-10-18\", \"hour\": \"18:07:56,660\", \"label\": \"ERROR\", \"bracketsInfo\": \"RMCommunicator Allocator\", \"hasError\": true, \"hasException\": false, \"func\": \"mapreduce\", \"message\": [\"[RMCommunicator\", \"Allocator]\", \"org.apache.hadoop.mapreduce.v2.app.rm.RMContainerAllocator:\", \"ERROR\", \"IN\", \"CONTACTING\", \"RM.\"]}, {\"date\": \"2015-10-18\", \"hour\": \"18:07:58,660\", \"label\": \"ERROR\", \"bracketsInfo\": \"RMCommunicator Allocator\", \"hasError\": true, \"hasException\": false, \"func\": \"mapreduce\", \"message\": [\"[RMCommunicator\", \"Allocator]\", \"org.apache.hadoop.mapreduce.v2.app.rm.RMContainerAllocator:\", \"ERROR\", \"IN\", \"CONTACTING\", \"RM.\"]}, {\"date\": \"2015-10-18\", \"hour\": \"18:08:00,660\", \"label\": \"ERROR\", \"bracketsInfo\": \"RMCommunicator Allocator\", \"hasError\": true, \"hasException\": false, \"func\": \"mapreduce\", \"message\": [\"[RMCommunicator\", \"Allocator]\", \"org.apache.hadoop.mapreduce.v2.app.rm.RMContainerAllocator:\", \"ERROR\", \"IN\", \"CONTACTING\", \"RM.\"]}, {\"date\": \"2015-10-18\", \"hour\": \"18:08:02,660\", \"label\": \"ERROR\", \"bracketsInfo\": \"RMCommunicator Allocator\", \"hasError\": true, \"hasException\": false, \"func\": \"mapreduce\", \"message\": [\"[RMCommunicator\", \"Allocator]\", \"org.apache.hadoop.mapreduce.v2.app.rm.RMContainerAllocator:\", \"ERROR\", \"IN\", \"CONTACTING\", \"RM.\"]}, {\"date\": \"2015-10-18\", \"hour\": \"18:08:04,660\", \"label\": \"ERROR\", \"bracketsInfo\": \"RMCommunicator Allocator\", \"hasError\": true, \"hasException\": false, \"func\": \"mapreduce\", \"message\": [\"[RMCommunicator\", \"Allocator]\", \"org.apache.hadoop.mapreduce.v2.app.rm.RMContainerAllocator:\", \"ERROR\", \"IN\", \"CONTACTING\", \"RM.\"]}, {\"date\": \"2015-10-18\", \"hour\": \"18:08:06,661\", \"label\": \"ERROR\", \"bracketsInfo\": \"RMCommunicator Allocator\", \"hasError\": true, \"hasException\": false, \"func\": \"mapreduce\", \"message\": [\"[RMCommunicator\", \"Allocator]\", \"org.apache.hadoop.mapreduce.v2.app.rm.RMContainerAllocator:\", \"ERROR\", \"IN\", \"CONTACTING\", \"RM.\"]}, {\"date\": \"2015-10-18\", \"hour\": \"18:08:08,661\", \"label\": \"ERROR\", \"bracketsInfo\": \"RMCommunicator Allocator\", \"hasError\": true, \"hasException\": false, \"func\": \"mapreduce\", \"message\": [\"[RMCommunicator\", \"Allocator]\", \"org.apache.hadoop.mapreduce.v2.app.rm.RMContainerAllocator:\", \"ERROR\", \"IN\", \"CONTACTING\", \"RM.\"]}, {\"date\": \"2015-10-18\", \"hour\": \"18:08:10,661\", \"label\": \"ERROR\", \"bracketsInfo\": \"RMCommunicator Allocator\", \"hasError\": true, \"hasException\": false, \"func\": \"mapreduce\", \"message\": [\"[RMCommunicator\", \"Allocator]\", \"org.apache.hadoop.mapreduce.v2.app.rm.RMContainerAllocator:\", \"ERROR\", \"IN\", \"CONTACTING\", \"RM.\"]}, {\"date\": \"2015-10-18\", \"hour\": \"18:08:12,661\", \"label\": \"ERROR\", \"bracketsInfo\": \"RMCommunicator Allocator\", \"hasError\": true, \"hasException\": false, \"func\": \"mapreduce\", \"message\": [\"[RMCommunicator\", \"Allocator]\", \"org.apache.hadoop.mapreduce.v2.app.rm.RMContainerAllocator:\", \"ERROR\", \"IN\", \"CONTACTING\", \"RM.\"]}, {\"date\": \"2015-10-18\", \"hour\": \"18:08:14,661\", \"label\": \"ERROR\", \"bracketsInfo\": \"RMCommunicator Allocator\", \"hasError\": true, \"hasException\": false, \"func\": \"mapreduce\", \"message\": [\"[RMCommunicator\", \"Allocator]\", \"org.apache.hadoop.mapreduce.v2.app.rm.RMContainerAllocator:\", \"ERROR\", \"IN\", \"CONTACTING\", \"RM.\"]}, {\"date\": \"2015-10-18\", \"hour\": \"18:08:16,661\", \"label\": \"ERROR\", \"bracketsInfo\": \"RMCommunicator Allocator\", \"hasError\": true, \"hasException\": false, \"func\": \"mapreduce\", \"message\": [\"[RMCommunicator\", \"Allocator]\", \"org.apache.hadoop.mapreduce.v2.app.rm.RMContainerAllocator:\", \"ERROR\", \"IN\", \"CONTACTING\", \"RM.\"]}, {\"date\": \"2015-10-18\", \"hour\": \"18:08:18,661\", \"label\": \"ERROR\", \"bracketsInfo\": \"RMCommunicator Allocator\", \"hasError\": true, \"hasException\": false, \"func\": \"mapreduce\", \"message\": [\"[RMCommunicator\", \"Allocator]\", \"org.apache.hadoop.mapreduce.v2.app.rm.RMContainerAllocator:\", \"ERROR\", \"IN\", \"CONTACTING\", \"RM.\"]}, {\"date\": \"2015-10-18\", \"hour\": \"18:08:20,661\", \"label\": \"ERROR\", \"bracketsInfo\": \"RMCommunicator Allocator\", \"hasError\": true, \"hasException\": false, \"func\": \"mapreduce\", \"message\": [\"[RMCommunicator\", \"Allocator]\", \"org.apache.hadoop.mapreduce.v2.app.rm.RMContainerAllocator:\", \"ERROR\", \"IN\", \"CONTACTING\", \"RM.\"]}, {\"date\": \"2015-10-18\", \"hour\": \"18:08:22,662\", \"label\": \"ERROR\", \"bracketsInfo\": \"RMCommunicator Allocator\", \"hasError\": true, \"hasException\": false, \"func\": \"mapreduce\", \"message\": [\"[RMCommunicator\", \"Allocator]\", \"org.apache.hadoop.mapreduce.v2.app.rm.RMContainerAllocator:\", \"ERROR\", \"IN\", \"CONTACTING\", \"RM.\"]}, {\"date\": \"2015-10-18\", \"hour\": \"18:08:24,662\", \"label\": \"ERROR\", \"bracketsInfo\": \"RMCommunicator Allocator\", \"hasError\": true, \"hasException\": false, \"func\": \"mapreduce\", \"message\": [\"[RMCommunicator\", \"Allocator]\", \"org.apache.hadoop.mapreduce.v2.app.rm.RMContainerAllocator:\", \"ERROR\", \"IN\", \"CONTACTING\", \"RM.\"]}, {\"date\": \"2015-10-18\", \"hour\": \"18:08:26,662\", \"label\": \"ERROR\", \"bracketsInfo\": \"RMCommunicator Allocator\", \"hasError\": true, \"hasException\": false, \"func\": \"mapreduce\", \"message\": [\"[RMCommunicator\", \"Allocator]\", \"org.apache.hadoop.mapreduce.v2.app.rm.RMContainerAllocator:\", \"ERROR\", \"IN\", \"CONTACTING\", \"RM.\"]}, {\"date\": \"2015-10-18\", \"hour\": \"18:08:28,662\", \"label\": \"ERROR\", \"bracketsInfo\": \"RMCommunicator Allocator\", \"hasError\": true, \"hasException\": false, \"func\": \"mapreduce\", \"message\": [\"[RMCommunicator\", \"Allocator]\", \"org.apache.hadoop.mapreduce.v2.app.rm.RMContainerAllocator:\", \"ERROR\", \"IN\", \"CONTACTING\", \"RM.\"]}, {\"date\": \"2015-10-18\", \"hour\": \"18:08:30,678\", \"label\": \"ERROR\", \"bracketsInfo\": \"RMCommunicator Allocator\", \"hasError\": true, \"hasException\": false, \"func\": \"mapreduce\", \"message\": [\"[RMCommunicator\", \"Allocator]\", \"org.apache.hadoop.mapreduce.v2.app.rm.RMContainerAllocator:\", \"ERROR\", \"IN\", \"CONTACTING\", \"RM.\"]}, {\"date\": \"2015-10-18\", \"hour\": \"18:08:32,678\", \"label\": \"ERROR\", \"bracketsInfo\": \"RMCommunicator Allocator\", \"hasError\": true, \"hasException\": false, \"func\": \"mapreduce\", \"message\": [\"[RMCommunicator\", \"Allocator]\", \"org.apache.hadoop.mapreduce.v2.app.rm.RMContainerAllocator:\", \"ERROR\", \"IN\", \"CONTACTING\", \"RM.\"]}, {\"date\": \"2015-10-18\", \"hour\": \"18:08:34,678\", \"label\": \"ERROR\", \"bracketsInfo\": \"RMCommunicator Allocator\", \"hasError\": true, \"hasException\": false, \"func\": \"mapreduce\", \"message\": [\"[RMCommunicator\", \"Allocator]\", \"org.apache.hadoop.mapreduce.v2.app.rm.RMContainerAllocator:\", \"ERROR\", \"IN\", \"CONTACTING\", \"RM.\"]}, {\"date\": \"2015-10-18\", \"hour\": \"18:08:36,678\", \"label\": \"ERROR\", \"bracketsInfo\": \"RMCommunicator Allocator\", \"hasError\": true, \"hasException\": false, \"func\": \"mapreduce\", \"message\": [\"[RMCommunicator\", \"Allocator]\", \"org.apache.hadoop.mapreduce.v2.app.rm.RMContainerAllocator:\", \"ERROR\", \"IN\", \"CONTACTING\", \"RM.\"]}, {\"date\": \"2015-10-18\", \"hour\": \"18:08:38,678\", \"label\": \"ERROR\", \"bracketsInfo\": \"RMCommunicator Allocator\", \"hasError\": true, \"hasException\": false, \"func\": \"mapreduce\", \"message\": [\"[RMCommunicator\", \"Allocator]\", \"org.apache.hadoop.mapreduce.v2.app.rm.RMContainerAllocator:\", \"ERROR\", \"IN\", \"CONTACTING\", \"RM.\"]}, {\"date\": \"2015-10-18\", \"hour\": \"18:08:40,678\", \"label\": \"ERROR\", \"bracketsInfo\": \"RMCommunicator Allocator\", \"hasError\": true, \"hasException\": false, \"func\": \"mapreduce\", \"message\": [\"[RMCommunicator\", \"Allocator]\", \"org.apache.hadoop.mapreduce.v2.app.rm.RMContainerAllocator:\", \"ERROR\", \"IN\", \"CONTACTING\", \"RM.\"]}, {\"date\": \"2015-10-18\", \"hour\": \"18:08:42,678\", \"label\": \"ERROR\", \"bracketsInfo\": \"RMCommunicator Allocator\", \"hasError\": true, \"hasException\": false, \"func\": \"mapreduce\", \"message\": [\"[RMCommunicator\", \"Allocator]\", \"org.apache.hadoop.mapreduce.v2.app.rm.RMContainerAllocator:\", \"ERROR\", \"IN\", \"CONTACTING\", \"RM.\"]}, {\"date\": \"2015-10-18\", \"hour\": \"18:08:44,694\", \"label\": \"ERROR\", \"bracketsInfo\": \"RMCommunicator Allocator\", \"hasError\": true, \"hasException\": false, \"func\": \"mapreduce\", \"message\": [\"[RMCommunicator\", \"Allocator]\", \"org.apache.hadoop.mapreduce.v2.app.rm.RMContainerAllocator:\", \"ERROR\", \"IN\", \"CONTACTING\", \"RM.\"]}, {\"date\": \"2015-10-18\", \"hour\": \"18:08:46,741\", \"label\": \"ERROR\", \"bracketsInfo\": \"RMCommunicator Allocator\", \"hasError\": true, \"hasException\": false, \"func\": \"mapreduce\", \"message\": [\"[RMCommunicator\", \"Allocator]\", \"org.apache.hadoop.mapreduce.v2.app.rm.RMContainerAllocator:\", \"ERROR\", \"IN\", \"CONTACTING\", \"RM.\"]}, {\"date\": \"2015-10-18\", \"hour\": \"18:08:48,757\", \"label\": \"ERROR\", \"bracketsInfo\": \"RMCommunicator Allocator\", \"hasError\": true, \"hasException\": false, \"func\": \"mapreduce\", \"message\": [\"[RMCommunicator\", \"Allocator]\", \"org.apache.hadoop.mapreduce.v2.app.rm.RMContainerAllocator:\", \"ERROR\", \"IN\", \"CONTACTING\", \"RM.\"]}, {\"date\": \"2015-10-18\", \"hour\": \"18:08:50,757\", \"label\": \"ERROR\", \"bracketsInfo\": \"RMCommunicator Allocator\", \"hasError\": true, \"hasException\": false, \"func\": \"mapreduce\", \"message\": [\"[RMCommunicator\", \"Allocator]\", \"org.apache.hadoop.mapreduce.v2.app.rm.RMContainerAllocator:\", \"ERROR\", \"IN\", \"CONTACTING\", \"RM.\"]}, {\"date\": \"2015-10-18\", \"hour\": \"18:08:52,757\", \"label\": \"ERROR\", \"bracketsInfo\": \"RMCommunicator Allocator\", \"hasError\": true, \"hasException\": false, \"func\": \"mapreduce\", \"message\": [\"[RMCommunicator\", \"Allocator]\", \"org.apache.hadoop.mapreduce.v2.app.rm.RMContainerAllocator:\", \"ERROR\", \"IN\", \"CONTACTING\", \"RM.\"]}, {\"date\": \"2015-10-18\", \"hour\": \"18:08:54,757\", \"label\": \"ERROR\", \"bracketsInfo\": \"RMCommunicator Allocator\", \"hasError\": true, \"hasException\": false, \"func\": \"mapreduce\", \"message\": [\"[RMCommunicator\", \"Allocator]\", \"org.apache.hadoop.mapreduce.v2.app.rm.RMContainerAllocator:\", \"ERROR\", \"IN\", \"CONTACTING\", \"RM.\"]}, {\"date\": \"2015-10-18\", \"hour\": \"18:08:56,789\", \"label\": \"ERROR\", \"bracketsInfo\": \"RMCommunicator Allocator\", \"hasError\": true, \"hasException\": false, \"func\": \"mapreduce\", \"message\": [\"[RMCommunicator\", \"Allocator]\", \"org.apache.hadoop.mapreduce.v2.app.rm.RMContainerAllocator:\", \"ERROR\", \"IN\", \"CONTACTING\", \"RM.\"]}, {\"date\": \"2015-10-18\", \"hour\": \"18:08:58,789\", \"label\": \"ERROR\", \"bracketsInfo\": \"RMCommunicator Allocator\", \"hasError\": true, \"hasException\": false, \"func\": \"mapreduce\", \"message\": [\"[RMCommunicator\", \"Allocator]\", \"org.apache.hadoop.mapreduce.v2.app.rm.RMContainerAllocator:\", \"ERROR\", \"IN\", \"CONTACTING\", \"RM.\"]}, {\"date\": \"2015-10-18\", \"hour\": \"18:09:00,789\", \"label\": \"ERROR\", \"bracketsInfo\": \"RMCommunicator Allocator\", \"hasError\": true, \"hasException\": false, \"func\": \"mapreduce\", \"message\": [\"[RMCommunicator\", \"Allocator]\", \"org.apache.hadoop.mapreduce.v2.app.rm.RMContainerAllocator:\", \"ERROR\", \"IN\", \"CONTACTING\", \"RM.\"]}, {\"date\": \"2015-10-18\", \"hour\": \"18:09:02,789\", \"label\": \"ERROR\", \"bracketsInfo\": \"RMCommunicator Allocator\", \"hasError\": true, \"hasException\": false, \"func\": \"mapreduce\", \"message\": [\"[RMCommunicator\", \"Allocator]\", \"org.apache.hadoop.mapreduce.v2.app.rm.RMContainerAllocator:\", \"ERROR\", \"IN\", \"CONTACTING\", \"RM.\"]}, {\"date\": \"2015-10-18\", \"hour\": \"18:09:04,789\", \"label\": \"ERROR\", \"bracketsInfo\": \"RMCommunicator Allocator\", \"hasError\": true, \"hasException\": false, \"func\": \"mapreduce\", \"message\": [\"[RMCommunicator\", \"Allocator]\", \"org.apache.hadoop.mapreduce.v2.app.rm.RMContainerAllocator:\", \"ERROR\", \"IN\", \"CONTACTING\", \"RM.\"]}, {\"date\": \"2015-10-18\", \"hour\": \"18:09:06,789\", \"label\": \"ERROR\", \"bracketsInfo\": \"RMCommunicator Allocator\", \"hasError\": true, \"hasException\": false, \"func\": \"mapreduce\", \"message\": [\"[RMCommunicator\", \"Allocator]\", \"org.apache.hadoop.mapreduce.v2.app.rm.RMContainerAllocator:\", \"ERROR\", \"IN\", \"CONTACTING\", \"RM.\"]}, {\"date\": \"2015-10-18\", \"hour\": \"18:09:08,789\", \"label\": \"ERROR\", \"bracketsInfo\": \"RMCommunicator Allocator\", \"hasError\": true, \"hasException\": false, \"func\": \"mapreduce\", \"message\": [\"[RMCommunicator\", \"Allocator]\", \"org.apache.hadoop.mapreduce.v2.app.rm.RMContainerAllocator:\", \"ERROR\", \"IN\", \"CONTACTING\", \"RM.\"]}, {\"date\": \"2015-10-18\", \"hour\": \"18:09:10,789\", \"label\": \"ERROR\", \"bracketsInfo\": \"RMCommunicator Allocator\", \"hasError\": true, \"hasException\": false, \"func\": \"mapreduce\", \"message\": [\"[RMCommunicator\", \"Allocator]\", \"org.apache.hadoop.mapreduce.v2.app.rm.RMContainerAllocator:\", \"ERROR\", \"IN\", \"CONTACTING\", \"RM.\"]}, {\"date\": \"2015-10-18\", \"hour\": \"18:09:12,790\", \"label\": \"ERROR\", \"bracketsInfo\": \"RMCommunicator Allocator\", \"hasError\": true, \"hasException\": false, \"func\": \"mapreduce\", \"message\": [\"[RMCommunicator\", \"Allocator]\", \"org.apache.hadoop.mapreduce.v2.app.rm.RMContainerAllocator:\", \"ERROR\", \"IN\", \"CONTACTING\", \"RM.\"]}, {\"date\": \"2015-10-18\", \"hour\": \"18:09:14,790\", \"label\": \"ERROR\", \"bracketsInfo\": \"RMCommunicator Allocator\", \"hasError\": true, \"hasException\": false, \"func\": \"mapreduce\", \"message\": [\"[RMCommunicator\", \"Allocator]\", \"org.apache.hadoop.mapreduce.v2.app.rm.RMContainerAllocator:\", \"ERROR\", \"IN\", \"CONTACTING\", \"RM.\"]}, {\"date\": \"2015-10-18\", \"hour\": \"18:09:16,790\", \"label\": \"ERROR\", \"bracketsInfo\": \"RMCommunicator Allocator\", \"hasError\": true, \"hasException\": false, \"func\": \"mapreduce\", \"message\": [\"[RMCommunicator\", \"Allocator]\", \"org.apache.hadoop.mapreduce.v2.app.rm.RMContainerAllocator:\", \"ERROR\", \"IN\", \"CONTACTING\", \"RM.\"]}, {\"date\": \"2015-10-18\", \"hour\": \"18:09:18,806\", \"label\": \"ERROR\", \"bracketsInfo\": \"RMCommunicator Allocator\", \"hasError\": true, \"hasException\": false, \"func\": \"mapreduce\", \"message\": [\"[RMCommunicator\", \"Allocator]\", \"org.apache.hadoop.mapreduce.v2.app.rm.RMContainerAllocator:\", \"ERROR\", \"IN\", \"CONTACTING\", \"RM.\"]}, {\"date\": \"2015-10-18\", \"hour\": \"18:09:20,806\", \"label\": \"ERROR\", \"bracketsInfo\": \"RMCommunicator Allocator\", \"hasError\": true, \"hasException\": false, \"func\": \"mapreduce\", \"message\": [\"[RMCommunicator\", \"Allocator]\", \"org.apache.hadoop.mapreduce.v2.app.rm.RMContainerAllocator:\", \"ERROR\", \"IN\", \"CONTACTING\", \"RM.\"]}, {\"date\": \"2015-10-18\", \"hour\": \"18:09:22,806\", \"label\": \"ERROR\", \"bracketsInfo\": \"RMCommunicator Allocator\", \"hasError\": true, \"hasException\": false, \"func\": \"mapreduce\", \"message\": [\"[RMCommunicator\", \"Allocator]\", \"org.apache.hadoop.mapreduce.v2.app.rm.RMContainerAllocator:\", \"ERROR\", \"IN\", \"CONTACTING\", \"RM.\"]}, {\"date\": \"2015-10-18\", \"hour\": \"18:09:24,806\", \"label\": \"ERROR\", \"bracketsInfo\": \"RMCommunicator Allocator\", \"hasError\": true, \"hasException\": false, \"func\": \"mapreduce\", \"message\": [\"[RMCommunicator\", \"Allocator]\", \"org.apache.hadoop.mapreduce.v2.app.rm.RMContainerAllocator:\", \"ERROR\", \"IN\", \"CONTACTING\", \"RM.\"]}, {\"date\": \"2015-10-18\", \"hour\": \"18:09:26,806\", \"label\": \"ERROR\", \"bracketsInfo\": \"RMCommunicator Allocator\", \"hasError\": true, \"hasException\": false, \"func\": \"mapreduce\", \"message\": [\"[RMCommunicator\", \"Allocator]\", \"org.apache.hadoop.mapreduce.v2.app.rm.RMContainerAllocator:\", \"ERROR\", \"IN\", \"CONTACTING\", \"RM.\"]}, {\"date\": \"2015-10-18\", \"hour\": \"18:09:28,806\", \"label\": \"ERROR\", \"bracketsInfo\": \"RMCommunicator Allocator\", \"hasError\": true, \"hasException\": false, \"func\": \"mapreduce\", \"message\": [\"[RMCommunicator\", \"Allocator]\", \"org.apache.hadoop.mapreduce.v2.app.rm.RMContainerAllocator:\", \"ERROR\", \"IN\", \"CONTACTING\", \"RM.\"]}, {\"date\": \"2015-10-18\", \"hour\": \"18:09:30,806\", \"label\": \"ERROR\", \"bracketsInfo\": \"RMCommunicator Allocator\", \"hasError\": true, \"hasException\": false, \"func\": \"mapreduce\", \"message\": [\"[RMCommunicator\", \"Allocator]\", \"org.apache.hadoop.mapreduce.v2.app.rm.RMContainerAllocator:\", \"ERROR\", \"IN\", \"CONTACTING\", \"RM.\"]}, {\"date\": \"2015-10-18\", \"hour\": \"18:09:32,806\", \"label\": \"ERROR\", \"bracketsInfo\": \"RMCommunicator Allocator\", \"hasError\": true, \"hasException\": false, \"func\": \"mapreduce\", \"message\": [\"[RMCommunicator\", \"Allocator]\", \"org.apache.hadoop.mapreduce.v2.app.rm.RMContainerAllocator:\", \"ERROR\", \"IN\", \"CONTACTING\", \"RM.\"]}, {\"date\": \"2015-10-18\", \"hour\": \"18:09:34,807\", \"label\": \"ERROR\", \"bracketsInfo\": \"RMCommunicator Allocator\", \"hasError\": true, \"hasException\": false, \"func\": \"mapreduce\", \"message\": [\"[RMCommunicator\", \"Allocator]\", \"org.apache.hadoop.mapreduce.v2.app.rm.RMContainerAllocator:\", \"ERROR\", \"IN\", \"CONTACTING\", \"RM.\"]}, {\"date\": \"2015-10-18\", \"hour\": \"18:09:36,807\", \"label\": \"ERROR\", \"bracketsInfo\": \"RMCommunicator Allocator\", \"hasError\": true, \"hasException\": false, \"func\": \"mapreduce\", \"message\": [\"[RMCommunicator\", \"Allocator]\", \"org.apache.hadoop.mapreduce.v2.app.rm.RMContainerAllocator:\", \"ERROR\", \"IN\", \"CONTACTING\", \"RM.\"]}, {\"date\": \"2015-10-18\", \"hour\": \"18:09:38,822\", \"label\": \"ERROR\", \"bracketsInfo\": \"RMCommunicator Allocator\", \"hasError\": true, \"hasException\": false, \"func\": \"mapreduce\", \"message\": [\"[RMCommunicator\", \"Allocator]\", \"org.apache.hadoop.mapreduce.v2.app.rm.RMContainerAllocator:\", \"ERROR\", \"IN\", \"CONTACTING\", \"RM.\"]}, {\"date\": \"2015-10-18\", \"hour\": \"18:09:40,823\", \"label\": \"ERROR\", \"bracketsInfo\": \"RMCommunicator Allocator\", \"hasError\": true, \"hasException\": false, \"func\": \"mapreduce\", \"message\": [\"[RMCommunicator\", \"Allocator]\", \"org.apache.hadoop.mapreduce.v2.app.rm.RMContainerAllocator:\", \"ERROR\", \"IN\", \"CONTACTING\", \"RM.\"]}, {\"date\": \"2015-10-18\", \"hour\": \"18:09:42,823\", \"label\": \"ERROR\", \"bracketsInfo\": \"RMCommunicator Allocator\", \"hasError\": true, \"hasException\": false, \"func\": \"mapreduce\", \"message\": [\"[RMCommunicator\", \"Allocator]\", \"org.apache.hadoop.mapreduce.v2.app.rm.RMContainerAllocator:\", \"ERROR\", \"IN\", \"CONTACTING\", \"RM.\"]}, {\"date\": \"2015-10-18\", \"hour\": \"18:09:44,823\", \"label\": \"ERROR\", \"bracketsInfo\": \"RMCommunicator Allocator\", \"hasError\": true, \"hasException\": false, \"func\": \"mapreduce\", \"message\": [\"[RMCommunicator\", \"Allocator]\", \"org.apache.hadoop.mapreduce.v2.app.rm.RMContainerAllocator:\", \"ERROR\", \"IN\", \"CONTACTING\", \"RM.\"]}, {\"date\": \"2015-10-18\", \"hour\": \"18:09:46,823\", \"label\": \"ERROR\", \"bracketsInfo\": \"RMCommunicator Allocator\", \"hasError\": true, \"hasException\": false, \"func\": \"mapreduce\", \"message\": [\"[RMCommunicator\", \"Allocator]\", \"org.apache.hadoop.mapreduce.v2.app.rm.RMContainerAllocator:\", \"ERROR\", \"IN\", \"CONTACTING\", \"RM.\"]}, {\"date\": \"2015-10-18\", \"hour\": \"18:09:48,823\", \"label\": \"ERROR\", \"bracketsInfo\": \"RMCommunicator Allocator\", \"hasError\": true, \"hasException\": false, \"func\": \"mapreduce\", \"message\": [\"[RMCommunicator\", \"Allocator]\", \"org.apache.hadoop.mapreduce.v2.app.rm.RMContainerAllocator:\", \"ERROR\", \"IN\", \"CONTACTING\", \"RM.\"]}, {\"date\": \"2015-10-18\", \"hour\": \"18:09:50,839\", \"label\": \"ERROR\", \"bracketsInfo\": \"RMCommunicator Allocator\", \"hasError\": true, \"hasException\": false, \"func\": \"mapreduce\", \"message\": [\"[RMCommunicator\", \"Allocator]\", \"org.apache.hadoop.mapreduce.v2.app.rm.RMContainerAllocator:\", \"ERROR\", \"IN\", \"CONTACTING\", \"RM.\"]}, {\"date\": \"2015-10-18\", \"hour\": \"18:09:52,839\", \"label\": \"ERROR\", \"bracketsInfo\": \"RMCommunicator Allocator\", \"hasError\": true, \"hasException\": false, \"func\": \"mapreduce\", \"message\": [\"[RMCommunicator\", \"Allocator]\", \"org.apache.hadoop.mapreduce.v2.app.rm.RMContainerAllocator:\", \"ERROR\", \"IN\", \"CONTACTING\", \"RM.\"]}, {\"date\": \"2015-10-18\", \"hour\": \"18:09:54,839\", \"label\": \"ERROR\", \"bracketsInfo\": \"RMCommunicator Allocator\", \"hasError\": true, \"hasException\": false, \"func\": \"mapreduce\", \"message\": [\"[RMCommunicator\", \"Allocator]\", \"org.apache.hadoop.mapreduce.v2.app.rm.RMContainerAllocator:\", \"ERROR\", \"IN\", \"CONTACTING\", \"RM.\"]}, {\"date\": \"2015-10-18\", \"hour\": \"18:09:56,839\", \"label\": \"ERROR\", \"bracketsInfo\": \"RMCommunicator Allocator\", \"hasError\": true, \"hasException\": false, \"func\": \"mapreduce\", \"message\": [\"[RMCommunicator\", \"Allocator]\", \"org.apache.hadoop.mapreduce.v2.app.rm.RMContainerAllocator:\", \"ERROR\", \"IN\", \"CONTACTING\", \"RM.\"]}, {\"date\": \"2015-10-18\", \"hour\": \"18:09:58,855\", \"label\": \"ERROR\", \"bracketsInfo\": \"RMCommunicator Allocator\", \"hasError\": true, \"hasException\": false, \"func\": \"mapreduce\", \"message\": [\"[RMCommunicator\", \"Allocator]\", \"org.apache.hadoop.mapreduce.v2.app.rm.RMContainerAllocator:\", \"ERROR\", \"IN\", \"CONTACTING\", \"RM.\"]}, {\"date\": \"2015-10-18\", \"hour\": \"18:10:00,855\", \"label\": \"ERROR\", \"bracketsInfo\": \"RMCommunicator Allocator\", \"hasError\": true, \"hasException\": false, \"func\": \"mapreduce\", \"message\": [\"[RMCommunicator\", \"Allocator]\", \"org.apache.hadoop.mapreduce.v2.app.rm.RMContainerAllocator:\", \"ERROR\", \"IN\", \"CONTACTING\", \"RM.\"]}, {\"date\": \"2015-10-18\", \"hour\": \"18:10:02,855\", \"label\": \"ERROR\", \"bracketsInfo\": \"RMCommunicator Allocator\", \"hasError\": true, \"hasException\": false, \"func\": \"mapreduce\", \"message\": [\"[RMCommunicator\", \"Allocator]\", \"org.apache.hadoop.mapreduce.v2.app.rm.RMContainerAllocator:\", \"ERROR\", \"IN\", \"CONTACTING\", \"RM.\"]}, {\"date\": \"2015-10-18\", \"hour\": \"18:10:04,855\", \"label\": \"ERROR\", \"bracketsInfo\": \"RMCommunicator Allocator\", \"hasError\": true, \"hasException\": false, \"func\": \"mapreduce\", \"message\": [\"[RMCommunicator\", \"Allocator]\", \"org.apache.hadoop.mapreduce.v2.app.rm.RMContainerAllocator:\", \"ERROR\", \"IN\", \"CONTACTING\", \"RM.\"]}, {\"date\": \"2015-10-18\", \"hour\": \"18:10:06,855\", \"label\": \"ERROR\", \"bracketsInfo\": \"RMCommunicator Allocator\", \"hasError\": true, \"hasException\": false, \"func\": \"mapreduce\", \"message\": [\"[RMCommunicator\", \"Allocator]\", \"org.apache.hadoop.mapreduce.v2.app.rm.RMContainerAllocator:\", \"ERROR\", \"IN\", \"CONTACTING\", \"RM.\"]}, {\"date\": \"2015-10-18\", \"hour\": \"18:10:08,855\", \"label\": \"ERROR\", \"bracketsInfo\": \"RMCommunicator Allocator\", \"hasError\": true, \"hasException\": false, \"func\": \"mapreduce\", \"message\": [\"[RMCommunicator\", \"Allocator]\", \"org.apache.hadoop.mapreduce.v2.app.rm.RMContainerAllocator:\", \"ERROR\", \"IN\", \"CONTACTING\", \"RM.\"]}, {\"date\": \"2015-10-18\", \"hour\": \"18:10:10,856\", \"label\": \"ERROR\", \"bracketsInfo\": \"RMCommunicator Allocator\", \"hasError\": true, \"hasException\": false, \"func\": \"mapreduce\", \"message\": [\"[RMCommunicator\", \"Allocator]\", \"org.apache.hadoop.mapreduce.v2.app.rm.RMContainerAllocator:\", \"ERROR\", \"IN\", \"CONTACTING\", \"RM.\"]}, {\"date\": \"2015-10-18\", \"hour\": \"18:10:12,856\", \"label\": \"ERROR\", \"bracketsInfo\": \"RMCommunicator Allocator\", \"hasError\": true, \"hasException\": false, \"func\": \"mapreduce\", \"message\": [\"[RMCommunicator\", \"Allocator]\", \"org.apache.hadoop.mapreduce.v2.app.rm.RMContainerAllocator:\", \"ERROR\", \"IN\", \"CONTACTING\", \"RM.\"]}, {\"date\": \"2015-10-18\", \"hour\": \"18:10:14,856\", \"label\": \"ERROR\", \"bracketsInfo\": \"RMCommunicator Allocator\", \"hasError\": true, \"hasException\": false, \"func\": \"mapreduce\", \"message\": [\"[RMCommunicator\", \"Allocator]\", \"org.apache.hadoop.mapreduce.v2.app.rm.RMContainerAllocator:\", \"ERROR\", \"IN\", \"CONTACTING\", \"RM.\"]}, {\"date\": \"2015-10-18\", \"hour\": \"18:10:16,856\", \"label\": \"ERROR\", \"bracketsInfo\": \"RMCommunicator Allocator\", \"hasError\": true, \"hasException\": false, \"func\": \"mapreduce\", \"message\": [\"[RMCommunicator\", \"Allocator]\", \"org.apache.hadoop.mapreduce.v2.app.rm.RMContainerAllocator:\", \"ERROR\", \"IN\", \"CONTACTING\", \"RM.\"]}, {\"date\": \"2015-10-18\", \"hour\": \"18:10:18,856\", \"label\": \"ERROR\", \"bracketsInfo\": \"RMCommunicator Allocator\", \"hasError\": true, \"hasException\": false, \"func\": \"mapreduce\", \"message\": [\"[RMCommunicator\", \"Allocator]\", \"org.apache.hadoop.mapreduce.v2.app.rm.RMContainerAllocator:\", \"ERROR\", \"IN\", \"CONTACTING\", \"RM.\"]}, {\"date\": \"2015-10-18\", \"hour\": \"18:10:20,856\", \"label\": \"ERROR\", \"bracketsInfo\": \"RMCommunicator Allocator\", \"hasError\": true, \"hasException\": false, \"func\": \"mapreduce\", \"message\": [\"[RMCommunicator\", \"Allocator]\", \"org.apache.hadoop.mapreduce.v2.app.rm.RMContainerAllocator:\", \"ERROR\", \"IN\", \"CONTACTING\", \"RM.\"]}, {\"date\": \"2015-10-18\", \"hour\": \"18:10:22,856\", \"label\": \"ERROR\", \"bracketsInfo\": \"RMCommunicator Allocator\", \"hasError\": true, \"hasException\": false, \"func\": \"mapreduce\", \"message\": [\"[RMCommunicator\", \"Allocator]\", \"org.apache.hadoop.mapreduce.v2.app.rm.RMContainerAllocator:\", \"ERROR\", \"IN\", \"CONTACTING\", \"RM.\"]}, {\"date\": \"2015-10-18\", \"hour\": \"18:10:24,856\", \"label\": \"ERROR\", \"bracketsInfo\": \"RMCommunicator Allocator\", \"hasError\": true, \"hasException\": false, \"func\": \"mapreduce\", \"message\": [\"[RMCommunicator\", \"Allocator]\", \"org.apache.hadoop.mapreduce.v2.app.rm.RMContainerAllocator:\", \"ERROR\", \"IN\", \"CONTACTING\", \"RM.\"]}, {\"date\": \"2015-10-18\", \"hour\": \"18:10:26,857\", \"label\": \"ERROR\", \"bracketsInfo\": \"RMCommunicator Allocator\", \"hasError\": true, \"hasException\": false, \"func\": \"mapreduce\", \"message\": [\"[RMCommunicator\", \"Allocator]\", \"org.apache.hadoop.mapreduce.v2.app.rm.RMContainerAllocator:\", \"ERROR\", \"IN\", \"CONTACTING\", \"RM.\"]}, {\"date\": \"2015-10-18\", \"hour\": \"18:10:28,857\", \"label\": \"ERROR\", \"bracketsInfo\": \"RMCommunicator Allocator\", \"hasError\": true, \"hasException\": false, \"func\": \"mapreduce\", \"message\": [\"[RMCommunicator\", \"Allocator]\", \"org.apache.hadoop.mapreduce.v2.app.rm.RMContainerAllocator:\", \"ERROR\", \"IN\", \"CONTACTING\", \"RM.\"]}, {\"date\": \"2015-10-18\", \"hour\": \"18:10:30,857\", \"label\": \"ERROR\", \"bracketsInfo\": \"RMCommunicator Allocator\", \"hasError\": true, \"hasException\": false, \"func\": \"mapreduce\", \"message\": [\"[RMCommunicator\", \"Allocator]\", \"org.apache.hadoop.mapreduce.v2.app.rm.RMContainerAllocator:\", \"ERROR\", \"IN\", \"CONTACTING\", \"RM.\"]}, {\"date\": \"2015-10-18\", \"hour\": \"18:10:32,857\", \"label\": \"ERROR\", \"bracketsInfo\": \"RMCommunicator Allocator\", \"hasError\": true, \"hasException\": false, \"func\": \"mapreduce\", \"message\": [\"[RMCommunicator\", \"Allocator]\", \"org.apache.hadoop.mapreduce.v2.app.rm.RMContainerAllocator:\", \"ERROR\", \"IN\", \"CONTACTING\", \"RM.\"]}, {\"date\": \"2015-10-18\", \"hour\": \"18:10:34,857\", \"label\": \"ERROR\", \"bracketsInfo\": \"RMCommunicator Allocator\", \"hasError\": true, \"hasException\": false, \"func\": \"mapreduce\", \"message\": [\"[RMCommunicator\", \"Allocator]\", \"org.apache.hadoop.mapreduce.v2.app.rm.RMContainerAllocator:\", \"ERROR\", \"IN\", \"CONTACTING\", \"RM.\"]}, {\"date\": \"2015-10-18\", \"hour\": \"18:10:36,857\", \"label\": \"ERROR\", \"bracketsInfo\": \"RMCommunicator Allocator\", \"hasError\": true, \"hasException\": false, \"func\": \"mapreduce\", \"message\": [\"[RMCommunicator\", \"Allocator]\", \"org.apache.hadoop.mapreduce.v2.app.rm.RMContainerAllocator:\", \"ERROR\", \"IN\", \"CONTACTING\", \"RM.\"]}, {\"date\": \"2015-10-18\", \"hour\": \"18:10:38,857\", \"label\": \"ERROR\", \"bracketsInfo\": \"RMCommunicator Allocator\", \"hasError\": true, \"hasException\": false, \"func\": \"mapreduce\", \"message\": [\"[RMCommunicator\", \"Allocator]\", \"org.apache.hadoop.mapreduce.v2.app.rm.RMContainerAllocator:\", \"ERROR\", \"IN\", \"CONTACTING\", \"RM.\"]}, {\"date\": \"2015-10-18\", \"hour\": \"18:10:40,857\", \"label\": \"ERROR\", \"bracketsInfo\": \"RMCommunicator Allocator\", \"hasError\": true, \"hasException\": false, \"func\": \"mapreduce\", \"message\": [\"[RMCommunicator\", \"Allocator]\", \"org.apache.hadoop.mapreduce.v2.app.rm.RMContainerAllocator:\", \"ERROR\", \"IN\", \"CONTACTING\", \"RM.\"]}, {\"date\": \"2015-10-18\", \"hour\": \"18:10:42,858\", \"label\": \"ERROR\", \"bracketsInfo\": \"RMCommunicator Allocator\", \"hasError\": true, \"hasException\": false, \"func\": \"mapreduce\", \"message\": [\"[RMCommunicator\", \"Allocator]\", \"org.apache.hadoop.mapreduce.v2.app.rm.RMContainerAllocator:\", \"ERROR\", \"IN\", \"CONTACTING\", \"RM.\"]}, {\"date\": \"2015-10-18\", \"hour\": \"18:10:44,858\", \"label\": \"ERROR\", \"bracketsInfo\": \"RMCommunicator Allocator\", \"hasError\": true, \"hasException\": false, \"func\": \"mapreduce\", \"message\": [\"[RMCommunicator\", \"Allocator]\", \"org.apache.hadoop.mapreduce.v2.app.rm.RMContainerAllocator:\", \"ERROR\", \"IN\", \"CONTACTING\", \"RM.\"]}, {\"date\": \"2015-10-18\", \"hour\": \"18:10:46,858\", \"label\": \"ERROR\", \"bracketsInfo\": \"RMCommunicator Allocator\", \"hasError\": true, \"hasException\": false, \"func\": \"mapreduce\", \"message\": [\"[RMCommunicator\", \"Allocator]\", \"org.apache.hadoop.mapreduce.v2.app.rm.RMContainerAllocator:\", \"ERROR\", \"IN\", \"CONTACTING\", \"RM.\"]}, {\"date\": \"2015-10-18\", \"hour\": \"18:10:48,873\", \"label\": \"ERROR\", \"bracketsInfo\": \"RMCommunicator Allocator\", \"hasError\": true, \"hasException\": false, \"func\": \"mapreduce\", \"message\": [\"[RMCommunicator\", \"Allocator]\", \"org.apache.hadoop.mapreduce.v2.app.rm.RMContainerAllocator:\", \"ERROR\", \"IN\", \"CONTACTING\", \"RM.\"]}, {\"date\": \"2015-10-18\", \"hour\": \"18:10:50,874\", \"label\": \"ERROR\", \"bracketsInfo\": \"RMCommunicator Allocator\", \"hasError\": true, \"hasException\": false, \"func\": \"mapreduce\", \"message\": [\"[RMCommunicator\", \"Allocator]\", \"org.apache.hadoop.mapreduce.v2.app.rm.RMContainerAllocator:\", \"ERROR\", \"IN\", \"CONTACTING\", \"RM.\"]}, {\"date\": \"2015-10-18\", \"hour\": \"18:10:52,874\", \"label\": \"ERROR\", \"bracketsInfo\": \"RMCommunicator Allocator\", \"hasError\": true, \"hasException\": false, \"func\": \"mapreduce\", \"message\": [\"[RMCommunicator\", \"Allocator]\", \"org.apache.hadoop.mapreduce.v2.app.rm.RMContainerAllocator:\", \"ERROR\", \"IN\", \"CONTACTING\", \"RM.\"]}, {\"date\": \"2015-10-18\", \"hour\": \"18:10:54,874\", \"label\": \"ERROR\", \"bracketsInfo\": \"RMCommunicator Allocator\", \"hasError\": true, \"hasException\": false, \"func\": \"mapreduce\", \"message\": [\"[RMCommunicator\", \"Allocator]\", \"org.apache.hadoop.mapreduce.v2.app.rm.RMContainerAllocator:\", \"ERROR\", \"IN\", \"CONTACTING\", \"RM.\"]}, {\"date\": \"2015-10-18\", \"hour\": \"18:10:56,874\", \"label\": \"ERROR\", \"bracketsInfo\": \"RMCommunicator Allocator\", \"hasError\": false, \"hasException\": false, \"func\": \"mapreduce\", \"message\": [\"[RMCommunicator\", \"Allocator]\", \"org.apache.hadoop.mapreduce.v2.app.rm.RMContainerAllocator:\", \"Could\", \"not\", \"contact\", \"RM\", \"after\", \"360000\", \"milliseconds.\"]}, {\"date\": \"2015-10-18\", \"hour\": \"18:10:56,874\", \"label\": \"ERROR\", \"bracketsInfo\": \"RMCommunicator Allocator\", \"hasError\": true, \"hasException\": false, \"func\": \"mapreduce\", \"message\": [\"[RMCommunicator\", \"Allocator]\", \"org.apache.hadoop.mapreduce.v2.app.rm.RMContainerAllocator:\", \"Error\", \"communicating\", \"with\", \"RM:\", \"Could\", \"not\", \"contact\", \"RM\", \"after\", \"360000\", \"milliseconds.\"]}, {\"date\": \"2015-10-18\", \"hour\": \"18:10:56,874\", \"label\": \"ERROR\", \"bracketsInfo\": \"eventHandlingThread\", \"hasError\": true, \"hasException\": false, \"func\": \"mapreduce\", \"message\": [\"[eventHandlingThread]\", \"org.apache.hadoop.mapreduce.jobhistory.JobHistoryEventHandler:\", \"Error\", \"closing\", \"writer\", \"for\", \"JobID:\", \"job_1445144423722_0023\"]}, {\"date\": \"2015-10-18\", \"hour\": \"18:10:56,874\", \"label\": \"ERROR\", \"bracketsInfo\": \"eventHandlingThread\", \"hasError\": false, \"hasException\": true, \"func\": \"yarn\", \"message\": [\"[eventHandlingThread]\", \"org.apache.hadoop.yarn.YarnUncaughtExceptionHandler:\", \"Thread\", \"Thread[eventHandlingThread,5,main]\", \"threw\", \"an\", \"Exception.\"]}, {\"date\": \"2015-10-18\", \"hour\": \"18:10:56,890\", \"label\": \"ERROR\", \"bracketsInfo\": \"Thread-581\", \"hasError\": true, \"hasException\": false, \"func\": \"mapreduce\", \"message\": [\"[Thread-581]\", \"org.apache.hadoop.mapreduce.jobhistory.JobHistoryEventHandler:\", \"Error\", \"writing\", \"History\", \"Event:\", \"org.apache.hadoop.mapreduce.jobhistory.JobUnsuccessfulCompletionEvent@542de48f\"]}, {\"date\": \"2015-10-18\", \"hour\": \"18:10:57,905\", \"label\": \"ERROR\", \"bracketsInfo\": \"Thread-581\", \"hasError\": false, \"hasException\": true, \"func\": \"mapreduce\", \"message\": [\"[Thread-581]\", \"org.apache.hadoop.mapreduce.v2.app.rm.RMContainerAllocator:\", \"Exception\", \"while\", \"unregistering\"]}, {\"date\": \"2015-10-19\", \"hour\": \"14:26:27,184\", \"label\": \"ERROR\", \"bracketsInfo\": \"RMCommunicator Allocator\", \"hasError\": false, \"hasException\": false, \"func\": \"mapreduce\", \"message\": [\"[RMCommunicator\", \"Allocator]\", \"org.apache.hadoop.mapreduce.v2.app.rm.RMContainerAllocator:\", \"Container\", \"complete\", \"event\", \"for\", \"unknown\", \"container\", \"id\", \"container_1445182159119_0004_01_000012\"]}, {\"date\": \"2015-10-19\", \"hour\": \"14:26:48,243\", \"label\": \"ERROR\", \"bracketsInfo\": \"RMCommunicator Allocator\", \"hasError\": false, \"hasException\": false, \"func\": \"mapreduce\", \"message\": [\"[RMCommunicator\", \"Allocator]\", \"org.apache.hadoop.mapreduce.v2.app.rm.RMContainerAllocator:\", \"Container\", \"complete\", \"event\", \"for\", \"unknown\", \"container\", \"id\", \"container_1445182159119_0004_01_000015\"]}, {\"date\": \"2015-10-19\", \"hour\": \"15:52:22,023\", \"label\": \"ERROR\", \"bracketsInfo\": \"RMCommunicator Allocator\", \"hasError\": false, \"hasException\": false, \"func\": \"mapreduce\", \"message\": [\"[RMCommunicator\", \"Allocator]\", \"org.apache.hadoop.mapreduce.v2.app.rm.RMContainerAllocator:\", \"Container\", \"complete\", \"event\", \"for\", \"unknown\", \"container\", \"id\", \"container_1445182159119_0013_01_000012\"]}, {\"date\": \"2015-10-19\", \"hour\": \"15:57:21,923\", \"label\": \"ERROR\", \"bracketsInfo\": \"fetcher#3\", \"hasError\": false, \"hasException\": false, \"func\": \"mapreduce\", \"message\": [\"[fetcher#3]\", \"org.apache.hadoop.mapreduce.task.reduce.ShuffleSchedulerImpl:\", \"Shuffle\", \"failed\", \":\", \"local\", \"error\", \"on\", \"this\", \"node:\", \"04DN8IQ/10.86.164.138\"]}, {\"date\": \"2015-10-19\", \"hour\": \"15:57:21,939\", \"label\": \"ERROR\", \"bracketsInfo\": \"fetcher#5\", \"hasError\": false, \"hasException\": false, \"func\": \"mapreduce\", \"message\": [\"[fetcher#5]\", \"org.apache.hadoop.mapreduce.task.reduce.ShuffleSchedulerImpl:\", \"Shuffle\", \"failed\", \":\", \"local\", \"error\", \"on\", \"this\", \"node:\", \"04DN8IQ/10.86.164.138\"]}, {\"date\": \"2015-10-19\", \"hour\": \"17:39:30,749\", \"label\": \"ERROR\", \"bracketsInfo\": \"RMCommunicator Allocator\", \"hasError\": false, \"hasException\": false, \"func\": \"mapreduce\", \"message\": [\"[RMCommunicator\", \"Allocator]\", \"org.apache.hadoop.mapreduce.v2.app.rm.RMContainerAllocator:\", \"Container\", \"complete\", \"event\", \"for\", \"unknown\", \"container\", \"id\", \"container_1445182159119_0016_01_000013\"]}, {\"date\": \"2015-10-19\", \"hour\": \"17:39:30,749\", \"label\": \"ERROR\", \"bracketsInfo\": \"RMCommunicator Allocator\", \"hasError\": false, \"hasException\": false, \"func\": \"mapreduce\", \"message\": [\"[RMCommunicator\", \"Allocator]\", \"org.apache.hadoop.mapreduce.v2.app.rm.RMContainerAllocator:\", \"Container\", \"complete\", \"event\", \"for\", \"unknown\", \"container\", \"id\", \"container_1445182159119_0016_01_000012\"]}, {\"date\": \"2015-10-19\", \"hour\": \"17:55:23,763\", \"label\": \"ERROR\", \"bracketsInfo\": \"RMCommunicator Allocator\", \"hasError\": false, \"hasException\": false, \"func\": \"mapreduce\", \"message\": [\"[RMCommunicator\", \"Allocator]\", \"org.apache.hadoop.mapreduce.v2.app.rm.RMContainerAllocator:\", \"Container\", \"complete\", \"event\", \"for\", \"unknown\", \"container\", \"id\", \"container_1445182159119_0018_02_000012\"]}]}}, {\"mode\": \"vega-lite\"});\n",
              "</script>"
            ],
            "text/plain": [
              "alt.LayerChart(...)"
            ]
          },
          "metadata": {},
          "execution_count": 10
        }
      ]
    },
    {
      "cell_type": "markdown",
      "source": [
        "We can see that most error label appears in mapreduce function and appear at 2015-10-18. For the details information in the bracket, the error is mainly due to RMCommunicator Allocator."
      ],
      "metadata": {
        "id": "XOS4pO5i9ycH"
      }
    },
    {
      "cell_type": "markdown",
      "source": [
        "## Modeling"
      ],
      "metadata": {
        "id": "JvINNh92AYE2"
      }
    },
    {
      "cell_type": "code",
      "source": [
        "!pip install torch torchvision\n",
        "import pandas as pd\n",
        "import numpy as np\n",
        "import seaborn as sns\n",
        "import matplotlib\n",
        "import matplotlib.pyplot as plt\n",
        "from matplotlib import cm\n",
        "import sqlite3\n",
        "import torch\n",
        "from torch import nn\n",
        "from torch.utils.data import Dataset, DataLoader, WeightedRandomSampler\n",
        "from torch.autograd import Variable\n",
        "import torch.nn.functional as F\n",
        "import torch.optim as optim\n",
        "from torchsummary import summary\n",
        "device = torch.device(\"cuda:0\" if torch.cuda.is_available() else \"cpu\")"
      ],
      "metadata": {
        "colab": {
          "base_uri": "https://localhost:8080/"
        },
        "id": "M9U3bFvlxA9e",
        "outputId": "740cafc3-0106-4695-93c6-08f53f911aed"
      },
      "execution_count": null,
      "outputs": [
        {
          "output_type": "stream",
          "name": "stdout",
          "text": [
            "Requirement already satisfied: torch in /usr/local/lib/python3.7/dist-packages (1.11.0+cu113)\n",
            "Requirement already satisfied: torchvision in /usr/local/lib/python3.7/dist-packages (0.12.0+cu113)\n",
            "Requirement already satisfied: typing-extensions in /usr/local/lib/python3.7/dist-packages (from torch) (4.2.0)\n",
            "Requirement already satisfied: requests in /usr/local/lib/python3.7/dist-packages (from torchvision) (2.23.0)\n",
            "Requirement already satisfied: pillow!=8.3.*,>=5.3.0 in /usr/local/lib/python3.7/dist-packages (from torchvision) (7.1.2)\n",
            "Requirement already satisfied: numpy in /usr/local/lib/python3.7/dist-packages (from torchvision) (1.21.6)\n",
            "Requirement already satisfied: urllib3!=1.25.0,!=1.25.1,<1.26,>=1.21.1 in /usr/local/lib/python3.7/dist-packages (from requests->torchvision) (1.24.3)\n",
            "Requirement already satisfied: idna<3,>=2.5 in /usr/local/lib/python3.7/dist-packages (from requests->torchvision) (2.10)\n",
            "Requirement already satisfied: chardet<4,>=3.0.2 in /usr/local/lib/python3.7/dist-packages (from requests->torchvision) (3.0.4)\n",
            "Requirement already satisfied: certifi>=2017.4.17 in /usr/local/lib/python3.7/dist-packages (from requests->torchvision) (2021.10.8)\n"
          ]
        }
      ]
    },
    {
      "cell_type": "markdown",
      "source": [
        "### Feature Engineering"
      ],
      "metadata": {
        "id": "IEprkKFw-dQK"
      }
    },
    {
      "cell_type": "markdown",
      "source": [
        "First, we need to change the label to integer, and extract the bracketsInfo, func, hasError and hasException as the feature for the modeling. We will apply one-hot-encoding to all of the features."
      ],
      "metadata": {
        "id": "mUoBrZ2p-eqG"
      }
    },
    {
      "cell_type": "code",
      "source": [
        "dict_mode = {'INFO':1,'WARN':2,'ERROR':3}\n",
        "df=df.replace({\"label\": dict_mode})\n",
        "df.label = df.label.astype('category')\n",
        "df.bracketsInfo = df.bracketsInfo.astype('category')\n",
        "df.func = df.func.astype('category')\n",
        "df.hasError = df.hasError.astype('boolean')\n",
        "df.hasException = df.hasException.astype('boolean')\n",
        "df=df.drop(columns=['message','date','hour'])"
      ],
      "metadata": {
        "id": "RiiWEPsTzbz5"
      },
      "execution_count": null,
      "outputs": []
    },
    {
      "cell_type": "code",
      "source": [
        "feature_df = pd.get_dummies(df,prefix=['bracketsInfo','func','hasError','hasException'],columns=['bracketsInfo','func','hasError','hasException'])"
      ],
      "metadata": {
        "id": "Fgc8YVdW0dw5"
      },
      "execution_count": null,
      "outputs": []
    },
    {
      "cell_type": "markdown",
      "source": [
        "Next, we separate the dataset to training and testing set.We use 80%:20% for the training and testing set split. \n"
      ],
      "metadata": {
        "id": "Wm11E4LQ-5hg"
      }
    },
    {
      "cell_type": "code",
      "source": [
        "from sklearn.model_selection import train_test_split\n",
        "labeld = feature_df['label']\n",
        "featured = feature_df.loc[:, feature_df.columns != 'label']\n",
        "x_train, x_test, y_train, y_test = train_test_split(featured,labeld,test_size=0.2)\n"
      ],
      "metadata": {
        "id": "dTeWQCabygjM"
      },
      "execution_count": null,
      "outputs": []
    },
    {
      "cell_type": "code",
      "source": [
        "x_train.shape"
      ],
      "metadata": {
        "colab": {
          "base_uri": "https://localhost:8080/"
        },
        "id": "gNh2hvOk1GJU",
        "outputId": "b79158ab-6324-468d-b0ee-3745c6ed9511"
      },
      "execution_count": null,
      "outputs": [
        {
          "output_type": "execute_result",
          "data": {
            "text/plain": [
              "(12000, 206)"
            ]
          },
          "metadata": {},
          "execution_count": 14
        }
      ]
    },
    {
      "cell_type": "markdown",
      "source": [
        "### Logistic Regression"
      ],
      "metadata": {
        "id": "DeJ0CvaH_PXo"
      }
    },
    {
      "cell_type": "markdown",
      "source": [
        "First, we use logistic regression."
      ],
      "metadata": {
        "id": "wKFGYx8s_Qry"
      }
    },
    {
      "cell_type": "code",
      "source": [
        "from sklearn.linear_model import LogisticRegression\n",
        "from sklearn.metrics import mean_squared_error, confusion_matrix,plot_confusion_matrix\n",
        "\n",
        "clf = LogisticRegression(max_iter=10)\n",
        "clf.fit(x_train, y_train)\n",
        "\n",
        "y_pred = clf.predict(x_test)\n",
        "mse_test = mean_squared_error(y_test, y_pred)\n",
        "print(\"mse of logistic regression is: \", mse_test)"
      ],
      "metadata": {
        "colab": {
          "base_uri": "https://localhost:8080/"
        },
        "id": "1mI-t1lxzHGW",
        "outputId": "324f7b91-e796-4a93-901f-9cafce6da67e"
      },
      "execution_count": null,
      "outputs": [
        {
          "output_type": "stream",
          "name": "stdout",
          "text": [
            "mse of logistic regression is:  0.01\n"
          ]
        },
        {
          "output_type": "stream",
          "name": "stderr",
          "text": [
            "/usr/local/lib/python3.7/dist-packages/sklearn/linear_model/_logistic.py:818: ConvergenceWarning: lbfgs failed to converge (status=1):\n",
            "STOP: TOTAL NO. of ITERATIONS REACHED LIMIT.\n",
            "\n",
            "Increase the number of iterations (max_iter) or scale the data as shown in:\n",
            "    https://scikit-learn.org/stable/modules/preprocessing.html\n",
            "Please also refer to the documentation for alternative solver options:\n",
            "    https://scikit-learn.org/stable/modules/linear_model.html#logistic-regression\n",
            "  extra_warning_msg=_LOGISTIC_SOLVER_CONVERGENCE_MSG,\n"
          ]
        }
      ]
    },
    {
      "cell_type": "code",
      "source": [
        "from sklearn.metrics import accuracy_score\n",
        "acc_test = accuracy_score(y_test, y_pred)\n",
        "print(\"accuracy score is: \", acc_test)"
      ],
      "metadata": {
        "colab": {
          "base_uri": "https://localhost:8080/"
        },
        "id": "-LvCTJi23XoS",
        "outputId": "374eb622-06d0-41cb-c8b8-0377c5bb79cb"
      },
      "execution_count": null,
      "outputs": [
        {
          "output_type": "stream",
          "name": "stdout",
          "text": [
            "accuracy score is:  0.994\n"
          ]
        }
      ]
    },
    {
      "cell_type": "code",
      "source": [
        "disp = plot_confusion_matrix(clf, x_test, y_test,cmap=plt.cm.Blues, normalize='true')\n",
        "disp.ax_.set_title('Confusion Matrix of SKLearn Logistic Regression')\n",
        "\n",
        "plt.show()"
      ],
      "metadata": {
        "colab": {
          "base_uri": "https://localhost:8080/",
          "height": 351
        },
        "id": "rKFhbofH-O7w",
        "outputId": "85a9d562-e0eb-49f5-b2eb-ee6acd09c784"
      },
      "execution_count": null,
      "outputs": [
        {
          "output_type": "stream",
          "name": "stderr",
          "text": [
            "/usr/local/lib/python3.7/dist-packages/sklearn/utils/deprecation.py:87: FutureWarning: Function plot_confusion_matrix is deprecated; Function `plot_confusion_matrix` is deprecated in 1.0 and will be removed in 1.2. Use one of the class methods: ConfusionMatrixDisplay.from_predictions or ConfusionMatrixDisplay.from_estimator.\n",
            "  warnings.warn(msg, category=FutureWarning)\n"
          ]
        },
        {
          "output_type": "display_data",
          "data": {
            "text/plain": [
              "<Figure size 432x288 with 2 Axes>"
            ],
            "image/png": "[encoded data removed]"
          },
          "metadata": {
            "needs_background": "light"
          }
        }
      ]
    },
    {
      "cell_type": "code",
      "source": [
        "coef_df = pd.DataFrame(clf.coef_,columns=x_train.columns,\n",
        "                       index=['INFO','WARN','ERROR'])\n",
        "coef_df"
      ],
      "metadata": {
        "colab": {
          "base_uri": "https://localhost:8080/",
          "height": 254
        },
        "id": "oPvC2oNE9SBT",
        "outputId": "ea0f98c4-8167-4ae9-bfe8-78c632fa5314"
      },
      "execution_count": null,
      "outputs": [
        {
          "output_type": "execute_result",
          "data": {
            "text/plain": [
              "       bracketsInfo_AsyncDispatcher event handler  \\\n",
              "INFO                                     1.348844   \n",
              "WARN                                    -1.119601   \n",
              "ERROR                                   -0.229244   \n",
              "\n",
              "       bracketsInfo_CommitterEvent Processor #0  \\\n",
              "INFO                                  -0.787585   \n",
              "WARN                                   0.800407   \n",
              "ERROR                                 -0.012821   \n",
              "\n",
              "       bracketsInfo_CommitterEvent Processor #1  \\\n",
              "INFO                                  -2.153322   \n",
              "WARN                                   2.193163   \n",
              "ERROR                                 -0.039841   \n",
              "\n",
              "       bracketsInfo_CommitterEvent Processor #2  \\\n",
              "INFO                                  -1.618654   \n",
              "WARN                                   1.645415   \n",
              "ERROR                                 -0.026761   \n",
              "\n",
              "       bracketsInfo_CommitterEvent Processor #3  \\\n",
              "INFO                                  -1.477292   \n",
              "WARN                                   1.501388   \n",
              "ERROR                                 -0.024095   \n",
              "\n",
              "       bracketsInfo_CommitterEvent Processor #4  \\\n",
              "INFO                                  -0.926999   \n",
              "WARN                                   0.939304   \n",
              "ERROR                                 -0.012305   \n",
              "\n",
              "       bracketsInfo_ContainerLauncher #0  bracketsInfo_ContainerLauncher #1  \\\n",
              "INFO                            0.127211                           1.192226   \n",
              "WARN                           -0.110729                          -1.150119   \n",
              "ERROR                          -0.016482                          -0.042107   \n",
              "\n",
              "       bracketsInfo_ContainerLauncher #2  bracketsInfo_ContainerLauncher #3  \\\n",
              "INFO                            1.295798                           0.113721   \n",
              "WARN                           -1.249228                          -0.099734   \n",
              "ERROR                          -0.046571                          -0.013987   \n",
              "\n",
              "       ...  func_ipc  func_mapred  func_mapreduce  func_metrics2  \\\n",
              "INFO   ... -0.861155     2.753402       -0.818330       0.315590   \n",
              "WARN   ...  1.630146    -2.022225       -0.614227      -0.283934   \n",
              "ERROR  ... -0.768991    -0.731177        1.432557      -0.031656   \n",
              "\n",
              "       func_service  func_yarn  hasError_False  hasError_True  \\\n",
              "INFO      -0.096239   0.662930        2.119418      -1.722680   \n",
              "WARN       0.098148  -0.715477        1.026668      -0.817019   \n",
              "ERROR     -0.001909   0.052548       -3.146086       2.539698   \n",
              "\n",
              "       hasException_False  hasException_True  \n",
              "INFO             1.235353          -0.838615  \n",
              "WARN            -0.469997           0.679646  \n",
              "ERROR           -0.765356           0.158969  \n",
              "\n",
              "[3 rows x 206 columns]"
            ],
            "text/html": [
              "\n",
              "  <div id=\"df-9cd6e049-4ec5-4237-bf93-12b0a31b7339\">\n",
              "    <div class=\"colab-df-container\">\n",
              "      <div>\n",
              "<style scoped>\n",
              "    .dataframe tbody tr th:only-of-type {\n",
              "        vertical-align: middle;\n",
              "    }\n",
              "\n",
              "    .dataframe tbody tr th {\n",
              "        vertical-align: top;\n",
              "    }\n",
              "\n",
              "    .dataframe thead th {\n",
              "        text-align: right;\n",
              "    }\n",
              "</style>\n",
              "<table border=\"1\" class=\"dataframe\">\n",
              "  <thead>\n",
              "    <tr style=\"text-align: right;\">\n",
              "      <th></th>\n",
              "      <th>bracketsInfo_AsyncDispatcher event handler</th>\n",
              "      <th>bracketsInfo_CommitterEvent Processor #0</th>\n",
              "      <th>bracketsInfo_CommitterEvent Processor #1</th>\n",
              "      <th>bracketsInfo_CommitterEvent Processor #2</th>\n",
              "      <th>bracketsInfo_CommitterEvent Processor #3</th>\n",
              "      <th>bracketsInfo_CommitterEvent Processor #4</th>\n",
              "      <th>bracketsInfo_ContainerLauncher #0</th>\n",
              "      <th>bracketsInfo_ContainerLauncher #1</th>\n",
              "      <th>bracketsInfo_ContainerLauncher #2</th>\n",
              "      <th>bracketsInfo_ContainerLauncher #3</th>\n",
              "      <th>...</th>\n",
              "      <th>func_ipc</th>\n",
              "      <th>func_mapred</th>\n",
              "      <th>func_mapreduce</th>\n",
              "      <th>func_metrics2</th>\n",
              "      <th>func_service</th>\n",
              "      <th>func_yarn</th>\n",
              "      <th>hasError_False</th>\n",
              "      <th>hasError_True</th>\n",
              "      <th>hasException_False</th>\n",
              "      <th>hasException_True</th>\n",
              "    </tr>\n",
              "  </thead>\n",
              "  <tbody>\n",
              "    <tr>\n",
              "      <th>INFO</th>\n",
              "      <td>1.348844</td>\n",
              "      <td>-0.787585</td>\n",
              "      <td>-2.153322</td>\n",
              "      <td>-1.618654</td>\n",
              "      <td>-1.477292</td>\n",
              "      <td>-0.926999</td>\n",
              "      <td>0.127211</td>\n",
              "      <td>1.192226</td>\n",
              "      <td>1.295798</td>\n",
              "      <td>0.113721</td>\n",
              "      <td>...</td>\n",
              "      <td>-0.861155</td>\n",
              "      <td>2.753402</td>\n",
              "      <td>-0.818330</td>\n",
              "      <td>0.315590</td>\n",
              "      <td>-0.096239</td>\n",
              "      <td>0.662930</td>\n",
              "      <td>2.119418</td>\n",
              "      <td>-1.722680</td>\n",
              "      <td>1.235353</td>\n",
              "      <td>-0.838615</td>\n",
              "    </tr>\n",
              "    <tr>\n",
              "      <th>WARN</th>\n",
              "      <td>-1.119601</td>\n",
              "      <td>0.800407</td>\n",
              "      <td>2.193163</td>\n",
              "      <td>1.645415</td>\n",
              "      <td>1.501388</td>\n",
              "      <td>0.939304</td>\n",
              "      <td>-0.110729</td>\n",
              "      <td>-1.150119</td>\n",
              "      <td>-1.249228</td>\n",
              "      <td>-0.099734</td>\n",
              "      <td>...</td>\n",
              "      <td>1.630146</td>\n",
              "      <td>-2.022225</td>\n",
              "      <td>-0.614227</td>\n",
              "      <td>-0.283934</td>\n",
              "      <td>0.098148</td>\n",
              "      <td>-0.715477</td>\n",
              "      <td>1.026668</td>\n",
              "      <td>-0.817019</td>\n",
              "      <td>-0.469997</td>\n",
              "      <td>0.679646</td>\n",
              "    </tr>\n",
              "    <tr>\n",
              "      <th>ERROR</th>\n",
              "      <td>-0.229244</td>\n",
              "      <td>-0.012821</td>\n",
              "      <td>-0.039841</td>\n",
              "      <td>-0.026761</td>\n",
              "      <td>-0.024095</td>\n",
              "      <td>-0.012305</td>\n",
              "      <td>-0.016482</td>\n",
              "      <td>-0.042107</td>\n",
              "      <td>-0.046571</td>\n",
              "      <td>-0.013987</td>\n",
              "      <td>...</td>\n",
              "      <td>-0.768991</td>\n",
              "      <td>-0.731177</td>\n",
              "      <td>1.432557</td>\n",
              "      <td>-0.031656</td>\n",
              "      <td>-0.001909</td>\n",
              "      <td>0.052548</td>\n",
              "      <td>-3.146086</td>\n",
              "      <td>2.539698</td>\n",
              "      <td>-0.765356</td>\n",
              "      <td>0.158969</td>\n",
              "    </tr>\n",
              "  </tbody>\n",
              "</table>\n",
              "<p>3 rows × 206 columns</p>\n",
              "</div>\n",
              "      <button class=\"colab-df-convert\" onclick=\"convertToInteractive('df-9cd6e049-4ec5-4237-bf93-12b0a31b7339')\"\n",
              "              title=\"Convert this dataframe to an interactive table.\"\n",
              "              style=\"display:none;\">\n",
              "        \n",
              "  <svg xmlns=\"http://www.w3.org/2000/svg\" height=\"24px\"viewBox=\"0 0 24 24\"\n",
              "       width=\"24px\">\n",
              "    <path d=\"M0 0h24v24H0V0z\" fill=\"none\"/>\n",
              "    <path d=\"M18.56 5.44l.94 2.06.94-2.06 2.06-.94-2.06-.94-.94-2.06-.94 2.06-2.06.94zm-11 1L8.5 8.5l.94-2.06 2.06-.94-2.06-.94L8.5 2.5l-.94 2.06-2.06.94zm10 10l.94 2.06.94-2.06 2.06-.94-2.06-.94-.94-2.06-.94 2.06-2.06.94z\"/><path d=\"M17.41 7.96l-1.37-1.37c-.4-.4-.92-.59-1.43-.59-.52 0-1.04.2-1.43.59L10.3 9.45l-7.72 7.72c-.78.78-.78 2.05 0 2.83L4 21.41c.39.39.9.59 1.41.59.51 0 1.02-.2 1.41-.59l7.78-7.78 2.81-2.81c.8-.78.8-2.07 0-2.86zM5.41 20L4 18.59l7.72-7.72 1.47 1.35L5.41 20z\"/>\n",
              "  </svg>\n",
              "      </button>\n",
              "      \n",
              "  <style>\n",
              "    .colab-df-container {\n",
              "      display:flex;\n",
              "      flex-wrap:wrap;\n",
              "      gap: 12px;\n",
              "    }\n",
              "\n",
              "    .colab-df-convert {\n",
              "      background-color: #E8F0FE;\n",
              "      border: none;\n",
              "      border-radius: 50%;\n",
              "      cursor: pointer;\n",
              "      display: none;\n",
              "      fill: #1967D2;\n",
              "      height: 32px;\n",
              "      padding: 0 0 0 0;\n",
              "      width: 32px;\n",
              "    }\n",
              "\n",
              "    .colab-df-convert:hover {\n",
              "      background-color: #E2EBFA;\n",
              "      box-shadow: 0px 1px 2px rgba(60, 64, 67, 0.3), 0px 1px 3px 1px rgba(60, 64, 67, 0.15);\n",
              "      fill: #174EA6;\n",
              "    }\n",
              "\n",
              "    [theme=dark] .colab-df-convert {\n",
              "      background-color: #3B4455;\n",
              "      fill: #D2E3FC;\n",
              "    }\n",
              "\n",
              "    [theme=dark] .colab-df-convert:hover {\n",
              "      background-color: #434B5C;\n",
              "      box-shadow: 0px 1px 3px 1px rgba(0, 0, 0, 0.15);\n",
              "      filter: drop-shadow(0px 1px 2px rgba(0, 0, 0, 0.3));\n",
              "      fill: #FFFFFF;\n",
              "    }\n",
              "  </style>\n",
              "\n",
              "      <script>\n",
              "        const buttonEl =\n",
              "          document.querySelector('#df-9cd6e049-4ec5-4237-bf93-12b0a31b7339 button.colab-df-convert');\n",
              "        buttonEl.style.display =\n",
              "          google.colab.kernel.accessAllowed ? 'block' : 'none';\n",
              "\n",
              "        async function convertToInteractive(key) {\n",
              "          const element = document.querySelector('#df-9cd6e049-4ec5-4237-bf93-12b0a31b7339');\n",
              "          const dataTable =\n",
              "            await google.colab.kernel.invokeFunction('convertToInteractive',\n",
              "                                                     [key], {});\n",
              "          if (!dataTable) return;\n",
              "\n",
              "          const docLinkHtml = 'Like what you see? Visit the ' +\n",
              "            '<a target=\"_blank\" href=https://colab.research.google.com/notebooks/data_table.ipynb>data table notebook</a>'\n",
              "            + ' to learn more about interactive tables.';\n",
              "          element.innerHTML = '';\n",
              "          dataTable['output_type'] = 'display_data';\n",
              "          await google.colab.output.renderOutput(dataTable, element);\n",
              "          const docLink = document.createElement('div');\n",
              "          docLink.innerHTML = docLinkHtml;\n",
              "          element.appendChild(docLink);\n",
              "        }\n",
              "      </script>\n",
              "    </div>\n",
              "  </div>\n",
              "  "
            ]
          },
          "metadata": {},
          "execution_count": 18
        }
      ]
    },
    {
      "cell_type": "markdown",
      "source": [
        "### Random Forest Classifier"
      ],
      "metadata": {
        "id": "T3pBcllrvRni"
      }
    },
    {
      "cell_type": "markdown",
      "source": [
        "We focus on building better classifiers and used grid search to find an optimal combination of estimators and max depths."
      ],
      "metadata": {
        "id": "eqwv1TKW_cX9"
      }
    },
    {
      "cell_type": "code",
      "source": [
        "from sklearn.ensemble import RandomForestClassifier\n",
        "from sklearn.model_selection import GridSearchCV\n",
        "\n",
        "rfc = RandomForestClassifier(n_estimators = 5, max_depth=5)\n",
        "\n",
        "# use grid search and train a random forest model on the transformed train dataset.\n",
        "param_grid = { \n",
        "    'n_estimators': [8,10,12],\n",
        "    'max_depth': [5,8,10]\n",
        "}\n",
        "\n",
        "CV_rfc = GridSearchCV(estimator=rfc, param_grid=param_grid, cv= 3)\n",
        "CV_rfc.fit(x_train, y_train)\n",
        "print(CV_rfc.best_params_)"
      ],
      "metadata": {
        "colab": {
          "base_uri": "https://localhost:8080/"
        },
        "id": "X5CgPBdSvd8B",
        "outputId": "4b025367-4080-4863-e1db-ae6fcec08aee"
      },
      "execution_count": null,
      "outputs": [
        {
          "output_type": "stream",
          "name": "stdout",
          "text": [
            "{'max_depth': 8, 'n_estimators': 10}\n"
          ]
        }
      ]
    },
    {
      "cell_type": "code",
      "source": [
        "from sklearn.ensemble import RandomForestClassifier\n",
        "from sklearn.metrics import mean_squared_error\n",
        "\n",
        "rfc = RandomForestClassifier(n_estimators = 10, max_depth=10)\n",
        "rfc.fit(x_train,y_train)\n",
        "\n",
        "y_pred = rfc.predict(x_test)\n",
        "mse_test = mean_squared_error(y_test, y_pred)\n",
        "print(\"mse of random forest is: \", mse_test)"
      ],
      "metadata": {
        "colab": {
          "base_uri": "https://localhost:8080/"
        },
        "id": "seB8kNvIvj62",
        "outputId": "3fe3ddcc-148c-4205-c518-5ae11ab2c621"
      },
      "execution_count": null,
      "outputs": [
        {
          "output_type": "stream",
          "name": "stdout",
          "text": [
            "mse of random forest is:  0.013666666666666667\n"
          ]
        }
      ]
    },
    {
      "cell_type": "code",
      "source": [
        "from sklearn.metrics import accuracy_score\n",
        "acc_test = accuracy_score(y_test, y_pred)\n",
        "print(\"accuracy score is: \", acc_test)"
      ],
      "metadata": {
        "colab": {
          "base_uri": "https://localhost:8080/"
        },
        "id": "1tmsnx4VvxP4",
        "outputId": "6c3bbf6d-b82b-4e06-af7c-e0583c3a2dec"
      },
      "execution_count": null,
      "outputs": [
        {
          "output_type": "stream",
          "name": "stdout",
          "text": [
            "accuracy score is:  0.9903333333333333\n"
          ]
        }
      ]
    },
    {
      "cell_type": "code",
      "source": [
        "disp = plot_confusion_matrix(rfc, x_test, y_test,cmap=plt.cm.Blues, normalize='true')\n",
        "disp.ax_.set_title('Random Forest Classifier Model')\n",
        "plt.show()"
      ],
      "metadata": {
        "colab": {
          "base_uri": "https://localhost:8080/",
          "height": 351
        },
        "id": "KSOvvfv4-kHr",
        "outputId": "4f59a158-20b7-4821-ccf4-d19d3b793baa"
      },
      "execution_count": null,
      "outputs": [
        {
          "output_type": "stream",
          "name": "stderr",
          "text": [
            "/usr/local/lib/python3.7/dist-packages/sklearn/utils/deprecation.py:87: FutureWarning: Function plot_confusion_matrix is deprecated; Function `plot_confusion_matrix` is deprecated in 1.0 and will be removed in 1.2. Use one of the class methods: ConfusionMatrixDisplay.from_predictions or ConfusionMatrixDisplay.from_estimator.\n",
            "  warnings.warn(msg, category=FutureWarning)\n"
          ]
        },
        {
          "output_type": "display_data",
          "data": {
            "text/plain": [
              "<Figure size 432x288 with 2 Axes>"
            ],
            "image/png": "[encoded data removed]"
          },
          "metadata": {
            "needs_background": "light"
          }
        }
      ]
    },
    {
      "cell_type": "markdown",
      "source": [
        "### Multilayer perceptrons (Feedforward neural Network)"
      ],
      "metadata": {
        "id": "5dd8WSc3wFBa"
      }
    },
    {
      "cell_type": "markdown",
      "source": [
        "Next, we will use PyTorch to train a FNN model."
      ],
      "metadata": {
        "id": "6lJ7OFC6_yzG"
      }
    },
    {
      "cell_type": "markdown",
      "source": [
        "#### Convert data to Tensors"
      ],
      "metadata": {
        "id": "1Gz6GcyZxbAU"
      }
    },
    {
      "cell_type": "markdown",
      "source": [
        "Convert the data to Tensors, so that PyTorch can use the data."
      ],
      "metadata": {
        "id": "WJo4la-QAdIC"
      }
    },
    {
      "cell_type": "code",
      "source": [
        "class CreateDataset(Dataset):\n",
        "    def __init__(self, X_data, y_data):\n",
        "        self.X_data = X_data\n",
        "        self.y_data = y_data\n",
        "        \n",
        "    def __getitem__(self, index):\n",
        "        return self.X_data[index], self.y_data[index]\n",
        "        \n",
        "    def __len__ (self):\n",
        "        return len(self.X_data)\n",
        "\n",
        "train_dataset = CreateDataset(torch.from_numpy(np.array(x_train)).float(), torch.from_numpy(np.array(y_train)).long())\n",
        "test_dataset = CreateDataset(torch.from_numpy(np.array(x_test)).float(), torch.from_numpy(np.array(y_test)).long())"
      ],
      "metadata": {
        "id": "5c5MruC3wOJB"
      },
      "execution_count": null,
      "outputs": []
    },
    {
      "cell_type": "markdown",
      "source": [
        "#### Create Data Loader"
      ],
      "metadata": {
        "id": "wsqdJx04xfoZ"
      }
    },
    {
      "cell_type": "code",
      "source": [
        "from torch.utils.data import DataLoader\n",
        "\n",
        "train_loader = DataLoader(train_dataset, batch_size=1, shuffle=True)\n",
        "test_loader = DataLoader(test_dataset, batch_size=1, shuffle=False)"
      ],
      "metadata": {
        "id": "TP2FGN5ZxP86"
      },
      "execution_count": null,
      "outputs": []
    },
    {
      "cell_type": "markdown",
      "source": [
        "#### Weighted Sampling"
      ],
      "metadata": {
        "id": "Y_CsDYw2xnGJ"
      }
    },
    {
      "cell_type": "markdown",
      "source": [
        "Define a function to create a dictionary with the frequency of each class."
      ],
      "metadata": {
        "id": "ic-nYnJGBCAr"
      }
    },
    {
      "cell_type": "code",
      "source": [
        "def create_frequency_dict(y_train):\n",
        "  count_dict = {\n",
        "    \"INFO\": 0,\n",
        "    \"WARN\": 0,\n",
        "    \"ERROR\": 0, }\n",
        "  labels = np.array(y_train)\n",
        "  for i in labels:\n",
        "    if i == 1: \n",
        "      count_dict[\"INFO\"] += 1\n",
        "    if i == 2:\n",
        "      count_dict[\"WARN\"] += 1\n",
        "    elif i == 3: \n",
        "      count_dict[\"ERROR\"] += 1\n",
        "           \n",
        "        \n",
        "  return count_dict"
      ],
      "metadata": {
        "id": "NpDPXlITxt2f"
      },
      "execution_count": null,
      "outputs": []
    },
    {
      "cell_type": "code",
      "source": [
        "create_frequency_dict(y_train)"
      ],
      "metadata": {
        "colab": {
          "base_uri": "https://localhost:8080/"
        },
        "id": "fG2FsvNOyOd1",
        "outputId": "0cd324e3-a902-482c-ee90-2fa32e4acda7"
      },
      "execution_count": null,
      "outputs": [
        {
          "output_type": "execute_result",
          "data": {
            "text/plain": [
              "{'ERROR': 267, 'INFO': 6825, 'WARN': 4908}"
            ]
          },
          "metadata": {},
          "execution_count": 26
        }
      ]
    },
    {
      "cell_type": "markdown",
      "source": [
        "Calculate the weight for each class"
      ],
      "metadata": {
        "id": "xG_fcWUzyZv1"
      }
    },
    {
      "cell_type": "code",
      "source": [
        "target_list = []\n",
        "for _, t in train_dataset:\n",
        "    target_list.append(t)\n",
        "    \n",
        "target_list = torch.tensor(target_list)\n",
        "target_list = target_list[torch.randperm(len(target_list))]\n",
        "\n",
        "class_count = [i for i in create_frequency_dict(y_train).values()]\n",
        "class_weights = 1./torch.tensor(class_count, dtype=torch.float) \n",
        "print(class_weights)"
      ],
      "metadata": {
        "colab": {
          "base_uri": "https://localhost:8080/"
        },
        "id": "7Okuc7QuyTJQ",
        "outputId": "e5ce09b5-2077-4671-b2c8-15c69e1221c7"
      },
      "execution_count": null,
      "outputs": [
        {
          "output_type": "stream",
          "name": "stdout",
          "text": [
            "tensor([0.0001, 0.0002, 0.0037])\n"
          ]
        }
      ]
    },
    {
      "cell_type": "markdown",
      "source": [
        "#### Define Model"
      ],
      "metadata": {
        "id": "NnPMtTX2yfkb"
      }
    },
    {
      "cell_type": "markdown",
      "source": [
        "Define and initialize an Multilayer perceptrons(FNN) model."
      ],
      "metadata": {
        "id": "-Gdo6dFUBK9Z"
      }
    },
    {
      "cell_type": "code",
      "source": [
        "class FeedforwardNeuralNetModel(nn.Module):\n",
        "    def __init__(self, n_features, n_labels):\n",
        "        super(FeedforwardNeuralNetModel, self).__init__()\n",
        "        self.fc1 = nn.Linear(n_features, 512) \n",
        "        self.fc2 = nn.Linear(512, 128)\n",
        "        self.fc3 = nn.Linear(128, 64)\n",
        "        self.fc4 = nn.Linear(64, 32) \n",
        "        self.fc5 = nn.Linear(32, n_labels)  \n",
        "    \n",
        "    def forward(self, x):\n",
        "      x = F.relu(self.fc1(x))\n",
        "      x = F.relu(self.fc2(x))\n",
        "      x = F.relu(self.fc3(x))\n",
        "      x = F.relu(self.fc4(x))\n",
        "      out = self.fc5(x)\n",
        "      return out"
      ],
      "metadata": {
        "id": "BZp1Yojlyh98"
      },
      "execution_count": null,
      "outputs": []
    },
    {
      "cell_type": "code",
      "source": [
        "n_features = 206\n",
        "n_labels = 5\n",
        "fnn_model = FeedforwardNeuralNetModel(n_features, n_labels)"
      ],
      "metadata": {
        "id": "l9UBswtWyk3b"
      },
      "execution_count": null,
      "outputs": []
    },
    {
      "cell_type": "code",
      "source": [
        "fnn_input_dim = 206\n",
        "summary(fnn_model.to(device), (1, fnn_input_dim))"
      ],
      "metadata": {
        "colab": {
          "base_uri": "https://localhost:8080/"
        },
        "id": "BiJ02MOiyolT",
        "outputId": "0f2ccfa6-3c71-44f6-af71-7507e18fbece"
      },
      "execution_count": null,
      "outputs": [
        {
          "output_type": "stream",
          "name": "stdout",
          "text": [
            "----------------------------------------------------------------\n",
            "        Layer (type)               Output Shape         Param #\n",
            "================================================================\n",
            "            Linear-1               [-1, 1, 512]         105,984\n",
            "            Linear-2               [-1, 1, 128]          65,664\n",
            "            Linear-3                [-1, 1, 64]           8,256\n",
            "            Linear-4                [-1, 1, 32]           2,080\n",
            "            Linear-5                 [-1, 1, 5]             165\n",
            "================================================================\n",
            "Total params: 182,149\n",
            "Trainable params: 182,149\n",
            "Non-trainable params: 0\n",
            "----------------------------------------------------------------\n",
            "Input size (MB): 0.00\n",
            "Forward/backward pass size (MB): 0.01\n",
            "Params size (MB): 0.69\n",
            "Estimated Total Size (MB): 0.70\n",
            "----------------------------------------------------------------\n"
          ]
        }
      ]
    },
    {
      "cell_type": "code",
      "source": [
        "criterion = nn.CrossEntropyLoss()"
      ],
      "metadata": {
        "id": "F4l66Vz_yrIG"
      },
      "execution_count": null,
      "outputs": []
    },
    {
      "cell_type": "code",
      "source": [
        "learning_rate = 0.0001\n",
        "fnn_optimizer = torch.optim.Adam(fnn_model.parameters(), lr=learning_rate)"
      ],
      "metadata": {
        "id": "iH9b1vahytcx"
      },
      "execution_count": null,
      "outputs": []
    },
    {
      "cell_type": "markdown",
      "source": [
        "#### Train Model"
      ],
      "metadata": {
        "id": "9ieXu-vmywdg"
      }
    },
    {
      "cell_type": "markdown",
      "source": [
        "Define a function to train the model."
      ],
      "metadata": {
        "id": "Vyr5DNnoBii9"
      }
    },
    {
      "cell_type": "code",
      "source": [
        "def train_model(model, optimizer, criterion, epochs=10):\n",
        "    for child in model.children():\n",
        "      if hasattr(child, 'reset_parameters'):\n",
        "        child.reset_parameters()\n",
        "    model.train()\n",
        "    model.to(device)\n",
        "\n",
        "    loss_list = []\n",
        "    accuracy_list = []\n",
        "    for epoch in range(int(epochs)):\n",
        "      correct = 0\n",
        "      total = 0\n",
        "      running_loss = 0.0\n",
        "      for x_train_batch, y_train_batch in train_loader:\n",
        "        x_train_batch, y_train_batch = x_train_batch.to(device), y_train_batch.to(device)\n",
        "        # Clear gradients parameters\n",
        "        optimizer.zero_grad()\n",
        "        # Forward pass to get output\n",
        "        outputs = model(x_train_batch)\n",
        "        # Compute the loss\n",
        "        loss = criterion(outputs, y_train_batch)\n",
        "        # Compute the gradients for each of the model parameters\n",
        "        loss.backward()\n",
        "        # Use the optimizer to update the weights\n",
        "        optimizer.step()\n",
        "\n",
        "        # Calculate the accuracy\n",
        "        # Get predictions from the maximum value\n",
        "        _, predicted = torch.max(outputs.data, 1)\n",
        "        # Total number of labels\n",
        "        total += y_train_batch.size(0)\n",
        "        # Total correct predictions\n",
        "        correct += (predicted == y_train_batch).sum().item()\n",
        "        \n",
        "        # Calculate the loss\n",
        "        running_loss += loss.item()\n",
        "      \n",
        "      loss = running_loss / len(train_loader)\n",
        "      accuracy = correct / total\n",
        "      accuracy_list.append(accuracy)\n",
        "      loss_list.append(loss)\n",
        "      print('Epoch: {}. Loss: {}. Accuracy: {}'.format(epoch, loss, accuracy))\n",
        "    print(loss_list)\n",
        "    print(accuracy_list)\n",
        "    \n",
        "    final_training_accuracy = accuracy_list[-1]\n",
        "    final_training_loss = loss_list[-1]\n",
        "    return final_training_loss, final_training_accuracy, loss_list, accuracy_list"
      ],
      "metadata": {
        "id": "26Cq5eafyzLN"
      },
      "execution_count": null,
      "outputs": []
    },
    {
      "cell_type": "code",
      "source": [
        "fnn_epochs = 10\n",
        "fnn_training_loss, fnn_training_accuracy, loss_list, accuracy_list = train_model(fnn_model, fnn_optimizer, criterion, fnn_epochs)\n",
        "\n",
        "print(\"Feedforward Neural Network - the training loss is \", str(fnn_training_loss))\n",
        "print(\"Feedforward Neural Network - the training accuracy is \", str(fnn_training_accuracy))"
      ],
      "metadata": {
        "colab": {
          "base_uri": "https://localhost:8080/"
        },
        "id": "PyssFKSby84e",
        "outputId": "a0bb88d2-1bc4-4c3e-ddda-df23d485c056"
      },
      "execution_count": null,
      "outputs": [
        {
          "output_type": "stream",
          "name": "stdout",
          "text": [
            "Epoch: 0. Loss: 0.1056828047380765. Accuracy: 0.9624166666666667\n",
            "Epoch: 1. Loss: 0.02542043393533473. Accuracy: 0.9939166666666667\n",
            "Epoch: 2. Loss: 0.020378831683712482. Accuracy: 0.9945833333333334\n",
            "Epoch: 3. Loss: 0.018704800471287465. Accuracy: 0.9953333333333333\n",
            "Epoch: 4. Loss: 0.018032230373017783. Accuracy: 0.99575\n",
            "Epoch: 5. Loss: 0.017399105577552268. Accuracy: 0.9958333333333333\n",
            "Epoch: 6. Loss: 0.016870069260967097. Accuracy: 0.996\n",
            "Epoch: 7. Loss: 0.016532881949948012. Accuracy: 0.9963333333333333\n",
            "Epoch: 8. Loss: 0.01662792827710434. Accuracy: 0.996\n",
            "Epoch: 9. Loss: 0.01639336445861797. Accuracy: 0.9961666666666666\n",
            "[0.1056828047380765, 0.02542043393533473, 0.020378831683712482, 0.018704800471287465, 0.018032230373017783, 0.017399105577552268, 0.016870069260967097, 0.016532881949948012, 0.01662792827710434, 0.01639336445861797]\n",
            "[0.9624166666666667, 0.9939166666666667, 0.9945833333333334, 0.9953333333333333, 0.99575, 0.9958333333333333, 0.996, 0.9963333333333333, 0.996, 0.9961666666666666]\n",
            "Feedforward Neural Network - the training loss is  0.01639336445861797\n",
            "Feedforward Neural Network - the training accuracy is  0.9961666666666666\n"
          ]
        }
      ]
    },
    {
      "cell_type": "code",
      "source": [
        "from matplotlib import pyplot as plt\n",
        "epoch_list=list()\n",
        "for i in range(1, 11):\n",
        "  epoch_list.append(i)\n",
        "plt.plot(epoch_list, loss_list, label='training loss')\n",
        "plt.legend()\n",
        "plt.xlabel(\"Epoch\")\n",
        "plt.ylabel(\"Loss\")"
      ],
      "metadata": {
        "id": "6YfIKNE1_NMo",
        "colab": {
          "base_uri": "https://localhost:8080/",
          "height": 297
        },
        "outputId": "15c02e79-df8f-46db-ca1f-2739ef9291e8"
      },
      "execution_count": null,
      "outputs": [
        {
          "output_type": "execute_result",
          "data": {
            "text/plain": [
              "Text(0, 0.5, 'Loss')"
            ]
          },
          "metadata": {},
          "execution_count": 35
        },
        {
          "output_type": "display_data",
          "data": {
            "text/plain": [
              "<Figure size 432x288 with 1 Axes>"
            ],
            "image/png": "[encoded data removed]"
          },
          "metadata": {
            "needs_background": "light"
          }
        }
      ]
    },
    {
      "cell_type": "code",
      "source": [
        "plt.plot(epoch_list, accuracy_list, label='training accuracy')\n",
        "plt.legend()\n",
        "plt.xlabel(\"Epoch\")\n",
        "plt.ylabel(\"Accuracy\")"
      ],
      "metadata": {
        "colab": {
          "base_uri": "https://localhost:8080/",
          "height": 297
        },
        "id": "0vIAYQAkCeT_",
        "outputId": "8c650bf6-e5f2-4872-b651-c51387d78ee0"
      },
      "execution_count": null,
      "outputs": [
        {
          "output_type": "execute_result",
          "data": {
            "text/plain": [
              "Text(0, 0.5, 'Accuracy')"
            ]
          },
          "metadata": {},
          "execution_count": 36
        },
        {
          "output_type": "display_data",
          "data": {
            "text/plain": [
              "<Figure size 432x288 with 1 Axes>"
            ],
            "image/png": "[encoded data removed]"
          },
          "metadata": {
            "needs_background": "light"
          }
        }
      ]
    },
    {
      "cell_type": "markdown",
      "source": [
        "#### Evaluate Model"
      ],
      "metadata": {
        "id": "NjKhO_CX1p3Y"
      }
    },
    {
      "cell_type": "code",
      "source": [
        "def test_model(model, criterion):\n",
        "    model.eval()\n",
        "    total = 0\n",
        "    correct = 0\n",
        "    running_loss = 0.0\n",
        "    for x_test_batch, y_test_batch in train_loader:\n",
        "      x_test_batch, y_test_batch = x_test_batch.to(device), y_test_batch.to(device)\n",
        "      outputs = model(x_test_batch)\n",
        "\n",
        "      loss = criterion(outputs, y_test_batch)\n",
        "\n",
        "      _, predicted = torch.max(outputs.data, 1)\n",
        "      total += y_test_batch.size(0)\n",
        "      correct += (predicted == y_test_batch).sum().item()\n",
        "\n",
        "      running_loss += loss.item()\n",
        "\n",
        "    testing_accuracy =  correct / total\n",
        "    testing_loss = running_loss / len(test_loader)\n",
        "\n",
        "    return  testing_loss, testing_accuracy"
      ],
      "metadata": {
        "id": "pymagGLF1sNt"
      },
      "execution_count": null,
      "outputs": []
    },
    {
      "cell_type": "code",
      "source": [
        "fnn_testing_loss, fnn_testing_accuracy = test_model(fnn_model, criterion)\n",
        "\n",
        "print(\"Feedforward Neural Network - the testing loss is \", str(fnn_testing_loss))\n",
        "print(\"Feedforward Neural Network - the testing accuracy is \", str(fnn_testing_accuracy))\n"
      ],
      "metadata": {
        "colab": {
          "base_uri": "https://localhost:8080/"
        },
        "id": "XrA7Kzfk1tDX",
        "outputId": "bf3b90e4-b598-443d-b117-ee95df08fb7d"
      },
      "execution_count": null,
      "outputs": [
        {
          "output_type": "stream",
          "name": "stdout",
          "text": [
            "Feedforward Neural Network - the testing loss is  0.057627981389273414\n",
            "Feedforward Neural Network - the testing accuracy is  0.9963333333333333\n"
          ]
        }
      ]
    },
    {
      "cell_type": "markdown",
      "source": [
        "The accuracy of FNN model is 0.99633, which is higher than the logistic model. "
      ],
      "metadata": {
        "id": "w0-DTKz2Chzw"
      }
    },
    {
      "cell_type": "markdown",
      "source": [
        "## Conclusion"
      ],
      "metadata": {
        "id": "rUmLfnTrA1_0"
      }
    },
    {
      "cell_type": "markdown",
      "source": [
        "We can see that the accuracy rate is high, and the multilayer perceptrons model has a higher accuracy rate than the logistic regression model. So the anomaly can be easily distinguished based on the model."
      ],
      "metadata": {
        "id": "U-gF_WuAA4c0"
      }
    }
  ]
}